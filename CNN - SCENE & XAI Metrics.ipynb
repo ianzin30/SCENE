{
  "cells": [
    {
      "cell_type": "code",
      "execution_count": 1,
      "id": "2be970d1-ae43-4eee-a7d0-61266df44821",
      "metadata": {
        "colab": {
          "base_uri": "https://localhost:8080/"
        },
        "id": "2be970d1-ae43-4eee-a7d0-61266df44821",
        "outputId": "15df671b-f116-4cc1-db9e-1d5e5a921120"
      },
      "outputs": [
        {
          "name": "stdout",
          "output_type": "stream",
          "text": [
            "CPU times: total: 3.14 s\n",
            "Wall time: 3.33 s\n"
          ]
        }
      ],
      "source": [
        "%%time\n",
        "\n",
        "import os\n",
        "import random\n",
        "import numpy as np\n",
        "import pandas as pd\n",
        "import torch\n",
        "import torch.nn as nn\n",
        "import torch.nn.functional as F\n",
        "import warnings\n",
        "\n",
        "# Set random seeds for reproducibility\n",
        "seed = 42\n",
        "random.seed(seed)\n",
        "np.random.seed(seed)\n",
        "torch.manual_seed(seed)\n",
        "torch.cuda.manual_seed_all(seed)\n",
        "torch.backends.cudnn.deterministic = True\n",
        "\n",
        "warnings.filterwarnings('ignore')\n",
        "\n",
        "# Set the device to GPU if available, otherwise CPU\n",
        "device = torch.device('cuda' if torch.cuda.is_available() else 'cpu')"
      ]
    },
    {
      "cell_type": "markdown",
      "id": "25943606-d5c4-41cb-9603-1e574613ce5c",
      "metadata": {
        "id": "25943606-d5c4-41cb-9603-1e574613ce5c"
      },
      "source": [
        "## DATABASE"
      ]
    },
    {
      "cell_type": "code",
      "execution_count": 2,
      "id": "5d004941-f9e4-49db-b267-e84e0c6c06f3",
      "metadata": {
        "colab": {
          "base_uri": "https://localhost:8080/",
          "height": 145,
          "referenced_widgets": [
            "b4244d11946f4c7ab26de3142fca2c2a",
            "df661cca8a7e42388f7eb1e8416be21e",
            "6a4ee3c82dc4467e99cbe3b96e267169",
            "6ac3d91e10704091b13aec0ef0f4a5aa",
            "ded3119b17e04ad78bc304c2f3d78100",
            "56fc6cfab75142f8a0209473500b2a12",
            "38e0d664921e4c36a04ccfd835c83822",
            "31d2ca3d9c4546fea259248f22625453",
            "3070a642dd3145aa9cc93f1d81cc6077",
            "7e064242073f4b8e83e28ce3cf20f208",
            "9a2553bece90462fb9358708bf8e3e7b",
            "be9d4209c38647608ae8482c4fa3eab5",
            "f91ad1a7dc304ff794fb77f190fd3a24",
            "97e03a5c8547412fbb3fa3e101b7b87f",
            "9582204201c145499b0994afc0660950",
            "5d57ef02f723471597b786a71b63500a",
            "8912815d2636483a844b637c5470c422",
            "020552fb765c4616ac078a7af5fb83f8",
            "24fe0595a6e0423e98c353acc5086a1f",
            "142138516479402a859d38268a10ddea",
            "22225990f69d412ca1c457df9db022d6",
            "aa264947583b4017970cce5ef3242482",
            "fb74275af8564890a7a81f10495c1489",
            "b1e93ca7f673452781472a1223b2d42f",
            "5ae4b4909a8246fc8efc2e25633feb98",
            "58d129803a88402190b0dc6890446ea5",
            "e1befe85fddd4209b804999cfa2dbe35",
            "26ed0f642f05423894c0657b7303cae9",
            "40805ed0940345c192ab0be92b332b1c",
            "f29dccf32ac844b29effdb77f95d94fe",
            "ec65c70288634f6290d22c8b77c6f75f",
            "272636882f384dad8127f386a1b35af3",
            "4e7abd5da10e449eac73621762789d9b",
            "46c1f0b60e7049539ff326243f3fe651",
            "09f8c27423fd4e3da56af8a751216852",
            "8abe43142a9d428e9c5d6ee646a2f43d",
            "9c9d0d97036446d992e1fc2e69e05590",
            "6df625064539466f9d8e52b23fb9de72",
            "bcbf8ebf47de41598ebe15a506bfdecf",
            "ff93734236d341898384d1538a134caa",
            "cfa17a727fbd49659275d42865ae2e14",
            "57e9638c4c7e4ce0aebe1aefc4e0ac8b",
            "53f57048a6154bb48b48079f8ef34467",
            "ce436d71677046d2b9ece4db88e10c65"
          ]
        },
        "id": "5d004941-f9e4-49db-b267-e84e0c6c06f3",
        "outputId": "fb074259-91d4-4379-b8cf-314f6915058b"
      },
      "outputs": [],
      "source": [
        "from torch.optim import AdamW\n",
        "from torch.optim.lr_scheduler import ReduceLROnPlateau\n",
        "from tqdm.notebook import tqdm\n",
        "from sklearn.metrics import accuracy_score, precision_recall_fscore_support, confusion_matrix\n",
        "from transformers import BertTokenizer\n",
        "from torch.utils.data import DataLoader, Dataset\n",
        "\n",
        "# Load and prepare data\n",
        "# class MovieReviewDataset(Dataset):\n",
        "#     def __init__(self, dataframe, tokenizer, max_len):\n",
        "#         self.tokenizer = tokenizer\n",
        "#         self.data = dataframe\n",
        "#         self.max_len = max_len\n",
        "\n",
        "#     def __len__(self):\n",
        "#         return len(self.data)\n",
        "\n",
        "#     def __getitem__(self, index):\n",
        "#         review = self.data.iloc[index]\n",
        "#         inputs = self.tokenizer.encode_plus(\n",
        "#             review['Content'],\n",
        "#             None,\n",
        "#             add_special_tokens=True,\n",
        "#             max_length=self.max_len,\n",
        "#             padding='max_length',\n",
        "#             return_token_type_ids=True,\n",
        "#             truncation=True\n",
        "#         )\n",
        "#         input_ids = inputs['input_ids']\n",
        "#         attention_mask = inputs['attention_mask']\n",
        "#         label = 1 if review['Sentiment'] == 'Positive' else 0\n",
        "#         return {\n",
        "#             'input_ids': torch.tensor(input_ids, dtype=torch.long),\n",
        "#             'attention_mask': torch.tensor(attention_mask, dtype=torch.long),\n",
        "#             'labels': torch.tensor(label, dtype=torch.long)\n",
        "#         }\n",
        "\n",
        "# # Example data loading and preparation\n",
        "# data = []\n",
        "# folder_path = 'movies/docs'  # Adjust the path to your dataset folder\n",
        "\n",
        "# for filename in os.listdir(folder_path):\n",
        "#     if filename.endswith('.txt'):\n",
        "#         with open(os.path.join(folder_path, filename), 'r', encoding='utf-8') as file:\n",
        "#             content = file.read().replace('\\n', ' ')\n",
        "#         sentiment = 'Negative' if filename.startswith('negR') else 'Positive'\n",
        "#         id = f\"N{filename[5:8]}\" if sentiment == 'Negative' else f\"P{filename[5:8]}\"\n",
        "#         data.append({'Content': content, 'Sentiment': sentiment, 'id': id})\n",
        "\n",
        "# # Convert to DataFrame\n",
        "# df = pd.DataFrame(data)\n",
        "\n",
        "# # Sort the DataFrame by 'id'\n",
        "# df = df.sort_values(by='id').reset_index(drop=True)\n",
        "\n",
        "# # Separate the dataset\n",
        "# train_neg = df[df['Sentiment'] == 'Negative'][:800]\n",
        "# val_neg = df[df['Sentiment'] == 'Negative'][800:900]\n",
        "# test_neg = df[df['Sentiment'] == 'Negative'][900:1000]\n",
        "\n",
        "# train_pos = df[df['Sentiment'] == 'Positive'][:800]\n",
        "# val_pos = df[df['Sentiment'] == 'Positive'][800:900]\n",
        "# test_pos = df[df['Sentiment'] == 'Positive'][900:1000]\n",
        "\n",
        "# # Concatenate the splits\n",
        "# train_df = pd.concat([train_neg, train_pos]).sample(frac=1).reset_index(drop=True)\n",
        "# val_df = pd.concat([val_neg, val_pos]).sample(frac=1).reset_index(drop=True)\n",
        "# test_df = pd.concat([test_neg, test_pos]).sample(frac=1).reset_index(drop=True)\n",
        "\n",
        "# # Create datasets and dataloaders\n",
        "tokenizer = BertTokenizer.from_pretrained('bert-base-uncased')\n",
        "# train_dataset = MovieReviewDataset(train_df.sample(frac=1, random_state=200), tokenizer, max_len=128)\n",
        "# val_dataset = MovieReviewDataset(val_df, tokenizer, max_len=128)\n",
        "# test_dataset = MovieReviewDataset(test_df, tokenizer, max_len=128)\n",
        "\n",
        "# batch_size = 128\n",
        "# train_loader = DataLoader(train_dataset, batch_size=batch_size, shuffle=True)\n",
        "# val_loader = DataLoader(val_dataset, batch_size=batch_size, shuffle=False)\n",
        "# test_loader = DataLoader(test_dataset, batch_size=batch_size, shuffle=False)\n",
        "\n"
      ]
    },
    {
      "cell_type": "code",
      "execution_count": 3,
      "id": "C-mHpbpt-OxH",
      "metadata": {
        "colab": {
          "base_uri": "https://localhost:8080/"
        },
        "id": "C-mHpbpt-OxH",
        "outputId": "e3442353-facd-4e32-e08e-82a4bf557c1d"
      },
      "outputs": [
        {
          "name": "stdout",
          "output_type": "stream",
          "text": [
            "                                             Content Sentiment    id\n",
            "0  arye cross and courteney cox star as a pair of...  Negative  N929\n",
            "1  you know something , christmas is not about pr...  Negative  N918\n",
            "2  it 's tough to really say something nice about...  Positive  P936\n",
            "3  the king and i , a warner brothers animated , ...  Negative  N991\n",
            "4  writing a screenplay for a thriller is hard . ...  Negative  N906\n"
          ]
        }
      ],
      "source": [
        "train_df = pd.read_csv('movies_reviews_train.csv')\n",
        "val_df = pd.read_csv('movies_reviews_val.csv')\n",
        "test_df = pd.read_csv('movies_reviews_test.csv')\n",
        "\n",
        "print(test_df.head())"
      ]
    },
    {
      "cell_type": "markdown",
      "id": "f2c064a2-8b44-4633-95ae-df37f59fd122",
      "metadata": {
        "id": "f2c064a2-8b44-4633-95ae-df37f59fd122"
      },
      "source": [
        "## MODEL"
      ]
    },
    {
      "cell_type": "code",
      "execution_count": 4,
      "id": "f65f8fa6-2b16-4df6-b4b1-ba8aae03a5d0",
      "metadata": {
        "colab": {
          "base_uri": "https://localhost:8080/"
        },
        "id": "f65f8fa6-2b16-4df6-b4b1-ba8aae03a5d0",
        "outputId": "225f451f-9cf9-40ad-df65-1772857d2953",
        "scrolled": true
      },
      "outputs": [
        {
          "data": {
            "text/plain": [
              "<All keys matched successfully>"
            ]
          },
          "execution_count": 4,
          "metadata": {},
          "output_type": "execute_result"
        }
      ],
      "source": [
        "class CNN(nn.Module):\n",
        "    def __init__(self, vocab_size, embedding_dim, n_filters, filter_sizes, output_dim, dropout):\n",
        "        super(CNN, self).__init__()\n",
        "        self.embedding = nn.Embedding(vocab_size, embedding_dim)\n",
        "        self.convs = nn.ModuleList([nn.Conv2d(1, n_filters, (fs, embedding_dim)) for fs in filter_sizes])\n",
        "        self.fc = nn.Linear(len(filter_sizes) * n_filters, output_dim)\n",
        "        self.dropout = nn.Dropout(dropout)\n",
        "\n",
        "    def forward(self, text):\n",
        "        embedded = self.embedding(text)  # [batch size, sent len, emb dim]\n",
        "        embedded = embedded.unsqueeze(1)  # [batch size, 1, sent len, emb dim]\n",
        "        conved = [F.relu(conv(embedded)).squeeze(3) for conv in self.convs]\n",
        "        pooled = [F.max_pool1d(conv, conv.shape[2]).squeeze(2) for conv in conved]\n",
        "        cat = self.dropout(torch.cat(pooled, dim=1))\n",
        "        return self.fc(cat)\n",
        "\n",
        "# Create the CNN instance\n",
        "INPUT_DIM = len(tokenizer.get_vocab())  # Use tokenizer vocabulary size\n",
        "EMBEDDING_DIM = 512\n",
        "N_FILTERS = 100\n",
        "FILTER_SIZES = [2, 3, 4]\n",
        "OUTPUT_DIM = 2  # Binary classification\n",
        "DROPOUT = 0.5\n",
        "\n",
        "model_path = 'model.pth'\n",
        "model = CNN(INPUT_DIM, EMBEDDING_DIM, N_FILTERS, FILTER_SIZES, OUTPUT_DIM, DROPOUT)\n",
        "model = model.to(device)\n",
        "model.eval()\n",
        "\n",
        "# Step 4: Load the state dictionary into the model instance\n",
        "model.load_state_dict(torch.load(model_path, map_location=device))"
      ]
    },
    {
      "cell_type": "markdown",
      "id": "57302b75-f0c2-4bc1-8924-6af5e6257d62",
      "metadata": {
        "id": "57302b75-f0c2-4bc1-8924-6af5e6257d62"
      },
      "source": [
        "## XAI TECHNIQUES"
      ]
    },
    {
      "cell_type": "code",
      "execution_count": 5,
      "id": "1593f9ea-799b-413b-90af-71c94423c3a4",
      "metadata": {
        "id": "1593f9ea-799b-413b-90af-71c94423c3a4"
      },
      "outputs": [],
      "source": [
        "# Tokenize the example text\n",
        "text = \"Thanks to Manhattan's traffic I was late again.\"\n",
        "#text = test_df.iloc[0,0]\n",
        "\n",
        "\n",
        "inputs = tokenizer(text, return_tensors='pt', padding=True, truncation=True)\n",
        "\n",
        "# Ensure input is also on the same device as the model\n",
        "inputs = inputs.to(device)\n",
        "\n",
        "input_ids = inputs['input_ids']\n",
        "attention_mask = inputs['attention_mask']"
      ]
    },
    {
      "cell_type": "code",
      "execution_count": 6,
      "id": "ae0a89cb-2c3e-4bbb-9581-ae45e4fa37c0",
      "metadata": {
        "id": "ae0a89cb-2c3e-4bbb-9581-ae45e4fa37c0"
      },
      "outputs": [],
      "source": [
        "# Define a model wrapper for Captum\n",
        "class CNNModelWrapper(nn.Module):\n",
        "    def __init__(self, model):\n",
        "        super(CNNModelWrapper, self).__init__()\n",
        "        self.model = model\n",
        "\n",
        "    def forward(self, input_ids):\n",
        "        embedded = self.model.embedding(input_ids)\n",
        "        embedded = embedded.unsqueeze(1)  # [batch size, 1, sent len, emb dim]\n",
        "        conved = [F.relu(conv(embedded)).squeeze(3) for conv in self.model.convs]\n",
        "        pooled = [F.max_pool1d(conv, conv.shape[2]).squeeze(2) for conv in conved]\n",
        "        cat = self.model.dropout(torch.cat(pooled, dim=1))\n",
        "        output = self.model.fc(cat)\n",
        "        return output\n",
        "\n",
        "# Prepare model and wrapper\n",
        "wrapper = CNNModelWrapper(model)"
      ]
    },
    {
      "cell_type": "code",
      "execution_count": 7,
      "id": "6720777c-dc59-4d08-a33f-d7f193b301a3",
      "metadata": {
        "id": "6720777c-dc59-4d08-a33f-d7f193b301a3"
      },
      "outputs": [],
      "source": [
        "import matplotlib.pyplot as plt\n",
        "from matplotlib.colors import LinearSegmentedColormap\n",
        "\n",
        "def visualize_attributions(attributions, input_ids):\n",
        "    # Sum the attributions across embedding dimensions and normalize them\n",
        "    attributions = attributions.sum(dim=-1).squeeze(0)\n",
        "    attributions = attributions / torch.norm(attributions)  # Normalizing attributions\n",
        "    weights = attributions.detach().cpu().numpy()\n",
        "\n",
        "    # Convert input IDs to tokens\n",
        "    words = tokenizer.convert_ids_to_tokens(input_ids.squeeze().tolist())\n",
        "\n",
        "    # Skip the first and last token (usually [CLS] and [SEP])\n",
        "    words = words[1:-1]\n",
        "    weights = weights[1:-1]\n",
        "\n",
        "    # Check if the number of weights matches the number of words\n",
        "    if len(words) != len(weights):\n",
        "        raise ValueError(\"The number of weights must match the number of words in the text.\")\n",
        "\n",
        "    # Create a custom color map\n",
        "    colors = [\"red\", \"lightgrey\", \"green\"]\n",
        "    cmap = LinearSegmentedColormap.from_list(\"custom_cmap\", colors, N=256)\n",
        "\n",
        "    # Normalize weights to be between -1 and 1\n",
        "    norm = plt.Normalize(-1, 1)\n",
        "\n",
        "    # Create a figure and axis\n",
        "    fig, ax = plt.subplots(figsize=(len(words) * 1, 2))\n",
        "    ax.axis('off')\n",
        "\n",
        "    # Plot each word with its corresponding background color\n",
        "    x_pos = 0\n",
        "    for word, weight in zip(words, weights):\n",
        "        color = cmap(norm(weight))\n",
        "        ax.text(x_pos, 0.5, word, fontsize=12, weight='bold', color='black',\n",
        "                bbox=dict(facecolor=color, edgecolor='none', boxstyle='round,pad=0.5'))\n",
        "        x_pos += len(word) * 0.5  # Adjust spacing between words\n",
        "\n",
        "    # Adjust the plot\n",
        "    plt.xlim(-0.5, x_pos)\n",
        "    plt.ylim(0, 1)\n",
        "    plt.axis('off')\n",
        "    plt.show()"
      ]
    },
    {
      "cell_type": "code",
      "execution_count": 8,
      "id": "259e860e-3cdc-4f83-a360-394cf5c116ce",
      "metadata": {
        "id": "259e860e-3cdc-4f83-a360-394cf5c116ce"
      },
      "outputs": [],
      "source": [
        "def normalize_attributions(attributions):\n",
        "    attributions_l2 = attributions.norm(p=2, dim=-1).squeeze(0)\n",
        "\n",
        "    # remove CPAD and CLS\n",
        "    attributions_l2 = attributions_l2[1:-1]\n",
        "\n",
        "    # Normalize attributions_l2 to be between 0 and 1\n",
        "    attributions_l2 = attributions_l2 / torch.max(attributions_l2)\n",
        "\n",
        "    ## mean\n",
        "    attributions_mean = attributions.sum(dim=-1).squeeze(0)\n",
        "    attributions_mean = attributions_mean / torch.norm(attributions_mean)\n",
        "    attributions_mean = attributions_mean[1:-1]\n",
        "\n",
        "    # Normalize attributions_mean to be between 0 and 1\n",
        "    attributions_mean = (attributions_mean - attributions_mean.min()) / (attributions_mean.max() - attributions_mean.min())\n",
        "\n",
        "    return attributions_l2, attributions_mean"
      ]
    },
    {
      "cell_type": "code",
      "execution_count": 9,
      "id": "-SP30XFsOrez",
      "metadata": {
        "colab": {
          "base_uri": "https://localhost:8080/"
        },
        "id": "-SP30XFsOrez",
        "outputId": "c197c020-af38-4303-d10b-c4684ae02fb8"
      },
      "outputs": [
        {
          "name": "stderr",
          "output_type": "stream",
          "text": [
            "\n",
            "[notice] A new release of pip is available: 23.2.1 -> 25.1.1\n",
            "[notice] To update, run: python.exe -m pip install --upgrade pip\n"
          ]
        },
        {
          "name": "stdout",
          "output_type": "stream",
          "text": [
            "Collecting captum\n",
            "  Obtaining dependency information for captum from https://files.pythonhosted.org/packages/7d/2d/57138b29a53d1fd267c8093989f6ec64ef55d3c6bd336fac475239c61b97/captum-0.8.0-py3-none-any.whl.metadata\n",
            "  Downloading captum-0.8.0-py3-none-any.whl.metadata (26 kB)\n",
            "Requirement already satisfied: matplotlib in c:\\python312\\lib\\site-packages (from captum) (3.8.4)\n",
            "Requirement already satisfied: numpy<2.0 in c:\\python312\\lib\\site-packages (from captum) (1.26.4)\n",
            "Requirement already satisfied: packaging in c:\\python312\\lib\\site-packages (from captum) (23.2)\n",
            "Requirement already satisfied: torch>=1.10 in c:\\python312\\lib\\site-packages (from captum) (2.7.1)\n",
            "Requirement already satisfied: tqdm in c:\\python312\\lib\\site-packages (from captum) (4.66.4)\n",
            "Requirement already satisfied: filelock in c:\\python312\\lib\\site-packages (from torch>=1.10->captum) (3.18.0)\n",
            "Requirement already satisfied: typing-extensions>=4.10.0 in c:\\python312\\lib\\site-packages (from torch>=1.10->captum) (4.12.2)\n",
            "Requirement already satisfied: sympy>=1.13.3 in c:\\python312\\lib\\site-packages (from torch>=1.10->captum) (1.14.0)\n",
            "Requirement already satisfied: networkx in c:\\python312\\lib\\site-packages (from torch>=1.10->captum) (3.5)\n",
            "Requirement already satisfied: jinja2 in c:\\python312\\lib\\site-packages (from torch>=1.10->captum) (3.1.6)\n",
            "Requirement already satisfied: fsspec in c:\\python312\\lib\\site-packages (from torch>=1.10->captum) (2024.3.1)\n",
            "Requirement already satisfied: setuptools in c:\\python312\\lib\\site-packages (from torch>=1.10->captum) (69.5.1)\n",
            "Requirement already satisfied: contourpy>=1.0.1 in c:\\python312\\lib\\site-packages (from matplotlib->captum) (1.2.1)\n",
            "Requirement already satisfied: cycler>=0.10 in c:\\python312\\lib\\site-packages (from matplotlib->captum) (0.12.1)\n",
            "Requirement already satisfied: fonttools>=4.22.0 in c:\\python312\\lib\\site-packages (from matplotlib->captum) (4.51.0)\n",
            "Requirement already satisfied: kiwisolver>=1.3.1 in c:\\python312\\lib\\site-packages (from matplotlib->captum) (1.4.5)\n",
            "Requirement already satisfied: pillow>=8 in c:\\python312\\lib\\site-packages (from matplotlib->captum) (10.3.0)\n",
            "Requirement already satisfied: pyparsing>=2.3.1 in c:\\python312\\lib\\site-packages (from matplotlib->captum) (3.1.2)\n",
            "Requirement already satisfied: python-dateutil>=2.7 in c:\\python312\\lib\\site-packages (from matplotlib->captum) (2.9.0.post0)\n",
            "Requirement already satisfied: colorama in c:\\python312\\lib\\site-packages (from tqdm->captum) (0.4.6)\n",
            "Requirement already satisfied: six>=1.5 in c:\\python312\\lib\\site-packages (from python-dateutil>=2.7->matplotlib->captum) (1.16.0)\n",
            "Requirement already satisfied: mpmath<1.4,>=1.1.0 in c:\\python312\\lib\\site-packages (from sympy>=1.13.3->torch>=1.10->captum) (1.3.0)\n",
            "Requirement already satisfied: MarkupSafe>=2.0 in c:\\python312\\lib\\site-packages (from jinja2->torch>=1.10->captum) (2.1.3)\n",
            "Downloading captum-0.8.0-py3-none-any.whl (1.4 MB)\n",
            "   ---------------------------------------- 0.0/1.4 MB ? eta -:--:--\n",
            "   ---------------------------------------- 0.0/1.4 MB ? eta -:--:--\n",
            "   - -------------------------------------- 0.0/1.4 MB 667.8 kB/s eta 0:00:03\n",
            "   --- ------------------------------------ 0.1/1.4 MB 1.4 MB/s eta 0:00:01\n",
            "   ------- -------------------------------- 0.3/1.4 MB 2.0 MB/s eta 0:00:01\n",
            "   --------------- ------------------------ 0.5/1.4 MB 3.3 MB/s eta 0:00:01\n",
            "   ------------------------- -------------- 0.9/1.4 MB 4.8 MB/s eta 0:00:01\n",
            "   ---------------------------------------  1.4/1.4 MB 6.0 MB/s eta 0:00:01\n",
            "   ---------------------------------------- 1.4/1.4 MB 5.6 MB/s eta 0:00:00\n",
            "Installing collected packages: captum\n",
            "Successfully installed captum-0.8.0\n"
          ]
        }
      ],
      "source": [
        "!pip install captum"
      ]
    },
    {
      "cell_type": "code",
      "execution_count": 10,
      "id": "2b231147-1b36-4cd6-ae79-bebdd6eb3059",
      "metadata": {
        "id": "2b231147-1b36-4cd6-ae79-bebdd6eb3059"
      },
      "outputs": [],
      "source": [
        "from captum.attr import configure_interpretable_embedding_layer, remove_interpretable_embedding_layer\n",
        "\n",
        "# Configure interpretable embedding layer for Captum\n",
        "interpretable_embedding = configure_interpretable_embedding_layer(model, 'embedding')\n",
        "\n",
        "\n",
        "# Since the model outputs a single logit for binary classification, set target to 0 (for the logit itself)\n",
        "target_index = 0"
      ]
    },
    {
      "cell_type": "markdown",
      "id": "7321db33-666c-42b1-8e68-c49d6d51e97c",
      "metadata": {
        "id": "7321db33-666c-42b1-8e68-c49d6d51e97c"
      },
      "source": [
        "#### Deep Lift"
      ]
    },
    {
      "cell_type": "code",
      "execution_count": 11,
      "id": "58d8e032-5027-4fe6-937d-7e5d642dd3df",
      "metadata": {
        "colab": {
          "base_uri": "https://localhost:8080/",
          "height": 226
        },
        "id": "58d8e032-5027-4fe6-937d-7e5d642dd3df",
        "outputId": "b55c240e-ee56-4b25-91b1-fb0211f339d7"
      },
      "outputs": [
        {
          "data": {
            "image/png": "[encoded data removed]",
            "text/plain": [
              "<Figure size 1100x200 with 1 Axes>"
            ]
          },
          "metadata": {},
          "output_type": "display_data"
        },
        {
          "name": "stdout",
          "output_type": "stream",
          "text": [
            "CPU times: total: 891 ms\n",
            "Wall time: 169 ms\n"
          ]
        }
      ],
      "source": [
        "%%time\n",
        "\n",
        "from captum.attr import DeepLift\n",
        "\n",
        "def xai_deeplift(model, input, target, visual=False):\n",
        "\n",
        "    input_embeddings = interpretable_embedding.indices_to_embeddings(input)\n",
        "    xai = DeepLift(wrapper)\n",
        "    attributions = xai.attribute(input_embeddings, target=target)\n",
        "    attributions_l2, attributions_mean = normalize_attributions(attributions)\n",
        "\n",
        "    if visual==True:\n",
        "        visualize_attributions(attributions, input)\n",
        "\n",
        "    return attributions, attributions_l2, attributions_mean\n",
        "\n",
        "temp, temp_l2,temp_mean = xai_deeplift(wrapper, input_ids, target_index, visual=True)"
      ]
    },
    {
      "cell_type": "markdown",
      "id": "82c0f15e-d9da-48c6-bb36-af0fcdb5d919",
      "metadata": {
        "id": "82c0f15e-d9da-48c6-bb36-af0fcdb5d919"
      },
      "source": [
        "#### Grad L2 Norm"
      ]
    },
    {
      "cell_type": "code",
      "execution_count": 12,
      "id": "ebbde7ab-9455-4ddb-ac97-c778bd8c592e",
      "metadata": {
        "colab": {
          "base_uri": "https://localhost:8080/",
          "height": 226
        },
        "id": "ebbde7ab-9455-4ddb-ac97-c778bd8c592e",
        "outputId": "bc88f152-dd59-4732-e154-11bc8878af16"
      },
      "outputs": [
        {
          "data": {
            "image/png": "[encoded data removed]",
            "text/plain": [
              "<Figure size 1100x200 with 1 Axes>"
            ]
          },
          "metadata": {},
          "output_type": "display_data"
        },
        {
          "name": "stdout",
          "output_type": "stream",
          "text": [
            "CPU times: total: 453 ms\n",
            "Wall time: 87.8 ms\n"
          ]
        }
      ],
      "source": [
        "%%time\n",
        "\n",
        "from captum.attr import DeepLift\n",
        "\n",
        "def xai_gradl2(model, input, target, visual=False):\n",
        "\n",
        "    input_embeddings = interpretable_embedding.indices_to_embeddings(input)\n",
        "    assert input_embeddings.requires_grad, \"Input embeddings must have requires_grad=True.\"\n",
        "    input_embeddings.retain_grad()\n",
        "\n",
        "    res_w = wrapper(input_embeddings)\n",
        "    output = res_w[:, target]\n",
        "\n",
        "    output.backward(torch.ones_like(output))\n",
        "    attributions = input_embeddings.grad\n",
        "\n",
        "    attributions_l2, attributions_mean = normalize_attributions(attributions)\n",
        "\n",
        "    if visual==True:\n",
        "        visualize_attributions(attributions, input)\n",
        "\n",
        "    return attributions, attributions_l2, attributions_mean\n",
        "\n",
        "temp, temp_l2,temp_mean = xai_gradl2(wrapper, input_ids, target_index, visual=True)"
      ]
    },
    {
      "cell_type": "markdown",
      "id": "3c8ce023-c217-449a-97cd-20d0177ad6f0",
      "metadata": {
        "id": "3c8ce023-c217-449a-97cd-20d0177ad6f0"
      },
      "source": [
        "#### Saliency"
      ]
    },
    {
      "cell_type": "code",
      "execution_count": 13,
      "id": "04b34449-a086-410a-bb3e-065dee12ec0d",
      "metadata": {
        "colab": {
          "base_uri": "https://localhost:8080/",
          "height": 226
        },
        "id": "04b34449-a086-410a-bb3e-065dee12ec0d",
        "outputId": "19d1ae11-80af-4acd-f14a-4e15f0678727"
      },
      "outputs": [
        {
          "data": {
            "image/png": "[encoded data removed]",
            "text/plain": [
              "<Figure size 1100x200 with 1 Axes>"
            ]
          },
          "metadata": {},
          "output_type": "display_data"
        },
        {
          "name": "stdout",
          "output_type": "stream",
          "text": [
            "CPU times: total: 422 ms\n",
            "Wall time: 81.8 ms\n"
          ]
        }
      ],
      "source": [
        "%%time\n",
        "\n",
        "from captum.attr import Saliency\n",
        "\n",
        "def xai_saliency(model, input, target, visual=False):\n",
        "\n",
        "    input_embeddings = interpretable_embedding.indices_to_embeddings(input)\n",
        "    xai = Saliency(wrapper)\n",
        "    attributions = xai.attribute(input_embeddings, target=target)\n",
        "    attributions_l2, attributions_mean = normalize_attributions(attributions)\n",
        "\n",
        "    if visual==True:\n",
        "        visualize_attributions(attributions, input)\n",
        "\n",
        "    return attributions, attributions_l2, attributions_mean\n",
        "\n",
        "temp = xai_saliency(wrapper, input_ids, target_index, visual=True)"
      ]
    },
    {
      "cell_type": "markdown",
      "id": "fd2f8d50-fd9d-4f74-8159-c97a8c26fa93",
      "metadata": {
        "id": "fd2f8d50-fd9d-4f74-8159-c97a8c26fa93"
      },
      "source": [
        "#### Integrated Gradients"
      ]
    },
    {
      "cell_type": "code",
      "execution_count": 14,
      "id": "1129ac47-5c1b-45a2-b63c-babe08868ad5",
      "metadata": {
        "colab": {
          "base_uri": "https://localhost:8080/",
          "height": 226
        },
        "id": "1129ac47-5c1b-45a2-b63c-babe08868ad5",
        "outputId": "3211b032-94b6-481c-c81e-3c868d39d919"
      },
      "outputs": [
        {
          "data": {
            "image/png": "[encoded data removed]",
            "text/plain": [
              "<Figure size 1100x200 with 1 Axes>"
            ]
          },
          "metadata": {},
          "output_type": "display_data"
        },
        {
          "name": "stdout",
          "output_type": "stream",
          "text": [
            "CPU times: total: 688 ms\n",
            "Wall time: 123 ms\n"
          ]
        }
      ],
      "source": [
        "%%time\n",
        "\n",
        "from captum.attr import IntegratedGradients\n",
        "\n",
        "def xai_integratedgradients(model, input, target, visual=False):\n",
        "\n",
        "    input_embeddings = interpretable_embedding.indices_to_embeddings(input)\n",
        "    xai = IntegratedGradients(wrapper)\n",
        "    attributions = xai.attribute(input_embeddings, target=target)\n",
        "    attributions_l2, attributions_mean = normalize_attributions(attributions)\n",
        "\n",
        "    if visual==True:\n",
        "        visualize_attributions(attributions, input)\n",
        "\n",
        "    return attributions, attributions_l2, attributions_mean\n",
        "\n",
        "temp = xai_integratedgradients(wrapper, input_ids, target_index, visual=True)"
      ]
    },
    {
      "cell_type": "markdown",
      "id": "099cf2b5-eb3d-404d-83bb-19fa01f4f84f",
      "metadata": {
        "id": "099cf2b5-eb3d-404d-83bb-19fa01f4f84f"
      },
      "source": [
        "#### Input X Gradient"
      ]
    },
    {
      "cell_type": "code",
      "execution_count": 15,
      "id": "4cf481da-0d76-43bd-82cf-e25cf354f651",
      "metadata": {
        "colab": {
          "base_uri": "https://localhost:8080/",
          "height": 226
        },
        "id": "4cf481da-0d76-43bd-82cf-e25cf354f651",
        "outputId": "89045ddc-e49f-49c8-a364-4a06d9d35836"
      },
      "outputs": [
        {
          "data": {
            "image/png": "[encoded data removed]",
            "text/plain": [
              "<Figure size 1100x200 with 1 Axes>"
            ]
          },
          "metadata": {},
          "output_type": "display_data"
        },
        {
          "name": "stdout",
          "output_type": "stream",
          "text": [
            "CPU times: total: 438 ms\n",
            "Wall time: 77.8 ms\n"
          ]
        }
      ],
      "source": [
        "%%time\n",
        "\n",
        "from captum.attr import InputXGradient\n",
        "\n",
        "def xai_inputgradient(model, input, target, visual=False):\n",
        "\n",
        "    input_embeddings = interpretable_embedding.indices_to_embeddings(input)\n",
        "    xai = InputXGradient(wrapper)\n",
        "    attributions = xai.attribute(input_embeddings, target=target)\n",
        "    attributions_l2, attributions_mean = normalize_attributions(attributions)\n",
        "\n",
        "    if visual==True:\n",
        "        visualize_attributions(attributions, input)\n",
        "\n",
        "    return attributions, attributions_l2, attributions_mean\n",
        "\n",
        "temp = xai_inputgradient(wrapper, input_ids, target_index, visual=True)"
      ]
    },
    {
      "cell_type": "markdown",
      "id": "a50681bb-9ed6-4ab9-a8fd-8f18fef7da7b",
      "metadata": {
        "id": "a50681bb-9ed6-4ab9-a8fd-8f18fef7da7b"
      },
      "source": [
        "#### Shapley Values"
      ]
    },
    {
      "cell_type": "code",
      "execution_count": 16,
      "id": "3fb48f9a-b247-4516-b1f8-4833e9530198",
      "metadata": {
        "id": "3fb48f9a-b247-4516-b1f8-4833e9530198"
      },
      "outputs": [],
      "source": [
        "#%%time\n",
        "#\n",
        "#from captum.attr import ShapleyValueSampling\n",
        "#\n",
        "#def xai_shapley(model, input, target, visual=False):\n",
        "#\n",
        "#    input_embeddings = interpretable_embedding.indices_to_embeddings(input)\n",
        "#    xai = ShapleyValueSampling(wrapper)\n",
        "#    attributions = xai.attribute(input_embeddings, target=target)\n",
        "#    attributions_l2, attributions_mean = normalize_attributions(attributions)\n",
        "#\n",
        "#    if visual==True:\n",
        "#        visualize_attributions(attributions, input)\n",
        "#\n",
        "#    return attributions, attributions_l2, attributions_mean\n",
        "#\n",
        "#temp = xai_shapley(wrapper, input_ids, target_index, visual=True)"
      ]
    },
    {
      "cell_type": "markdown",
      "id": "aa5749a4-61ed-438e-9868-e34b2ec0e3c9",
      "metadata": {
        "id": "aa5749a4-61ed-438e-9868-e34b2ec0e3c9"
      },
      "source": [
        "#### Guided Backpropagation"
      ]
    },
    {
      "cell_type": "code",
      "execution_count": 17,
      "id": "c98abd36-343b-46d6-b707-235a66c90782",
      "metadata": {
        "colab": {
          "base_uri": "https://localhost:8080/",
          "height": 226
        },
        "id": "c98abd36-343b-46d6-b707-235a66c90782",
        "outputId": "1b9afc1a-c57a-446d-da7c-9c850ad5ba25"
      },
      "outputs": [
        {
          "data": {
            "image/png": "[encoded data removed]",
            "text/plain": [
              "<Figure size 1100x200 with 1 Axes>"
            ]
          },
          "metadata": {},
          "output_type": "display_data"
        },
        {
          "name": "stdout",
          "output_type": "stream",
          "text": [
            "CPU times: total: 484 ms\n",
            "Wall time: 69.8 ms\n"
          ]
        }
      ],
      "source": [
        "%%time\n",
        "\n",
        "from captum.attr import GuidedBackprop\n",
        "\n",
        "def xai_guidedbackprop(model, input, target, visual=False):\n",
        "\n",
        "    input_embeddings = interpretable_embedding.indices_to_embeddings(input)\n",
        "    xai = GuidedBackprop(wrapper)\n",
        "    attributions = xai.attribute(input_embeddings, target=target)\n",
        "    attributions_l2, attributions_mean = normalize_attributions(attributions)\n",
        "\n",
        "    if visual==True:\n",
        "        visualize_attributions(attributions, input)\n",
        "\n",
        "    return attributions, attributions_l2, attributions_mean\n",
        "\n",
        "temp = xai_guidedbackprop(wrapper, input_ids, target_index, visual=True)"
      ]
    },
    {
      "cell_type": "markdown",
      "id": "6af5d7f2-2ed0-4dfb-8b2c-a7524a419868",
      "metadata": {
        "id": "6af5d7f2-2ed0-4dfb-8b2c-a7524a419868"
      },
      "source": [
        "#### Deconvolution"
      ]
    },
    {
      "cell_type": "code",
      "execution_count": 18,
      "id": "c16683bf-980c-46e7-926c-0cd5f106a69f",
      "metadata": {
        "colab": {
          "base_uri": "https://localhost:8080/",
          "height": 226
        },
        "id": "c16683bf-980c-46e7-926c-0cd5f106a69f",
        "outputId": "50c665c4-4be7-440d-b834-ec0a0b166e96"
      },
      "outputs": [
        {
          "data": {
            "image/png": "[encoded data removed]",
            "text/plain": [
              "<Figure size 1100x200 with 1 Axes>"
            ]
          },
          "metadata": {},
          "output_type": "display_data"
        },
        {
          "name": "stdout",
          "output_type": "stream",
          "text": [
            "CPU times: total: 453 ms\n",
            "Wall time: 72.8 ms\n"
          ]
        }
      ],
      "source": [
        "%%time\n",
        "\n",
        "from captum.attr import Deconvolution\n",
        "\n",
        "def xai_deconvolution(model, input, target, visual=False):\n",
        "\n",
        "    input_embeddings = interpretable_embedding.indices_to_embeddings(input)\n",
        "    xai = Deconvolution(wrapper)\n",
        "    attributions = xai.attribute(input_embeddings, target=target)\n",
        "    attributions_l2, attributions_mean = normalize_attributions(attributions)\n",
        "\n",
        "    if visual==True:\n",
        "        visualize_attributions(attributions, input)\n",
        "\n",
        "    return attributions, attributions_l2, attributions_mean\n",
        "\n",
        "temp = xai_deconvolution(wrapper, input_ids, target_index, visual=True)"
      ]
    },
    {
      "cell_type": "markdown",
      "id": "8ba6b92a-7f1f-4509-8569-003647ff09cc",
      "metadata": {
        "id": "8ba6b92a-7f1f-4509-8569-003647ff09cc"
      },
      "source": [
        "#### Lime"
      ]
    },
    {
      "cell_type": "code",
      "execution_count": 19,
      "id": "a177560c-01a2-4993-9182-0263210820a8",
      "metadata": {
        "colab": {
          "base_uri": "https://localhost:8080/",
          "height": 226
        },
        "id": "a177560c-01a2-4993-9182-0263210820a8",
        "outputId": "2376b546-4673-414a-da9e-eac38248eb78"
      },
      "outputs": [
        {
          "data": {
            "image/png": "[encoded data removed]",
            "text/plain": [
              "<Figure size 1100x200 with 1 Axes>"
            ]
          },
          "metadata": {},
          "output_type": "display_data"
        },
        {
          "name": "stdout",
          "output_type": "stream",
          "text": [
            "CPU times: total: 2.2 s\n",
            "Wall time: 985 ms\n"
          ]
        }
      ],
      "source": [
        "%%time\n",
        "\n",
        "from captum.attr import Lime\n",
        "\n",
        "def xai_lime(model, input, target, visual=False):\n",
        "\n",
        "    input_embeddings = interpretable_embedding.indices_to_embeddings(input)\n",
        "    xai = Lime(wrapper)\n",
        "    attributions = xai.attribute(input_embeddings, target=target)\n",
        "    attributions_l2, attributions_mean = normalize_attributions(attributions)\n",
        "\n",
        "    if visual==True:\n",
        "        visualize_attributions(attributions, input)\n",
        "\n",
        "    return attributions, attributions_l2, attributions_mean\n",
        "\n",
        "temp = xai_lime(wrapper, input_ids, target_index, visual=True)"
      ]
    },
    {
      "cell_type": "markdown",
      "id": "3bd2d2b0-c5f8-4ca8-84d4-a32df3180945",
      "metadata": {
        "id": "3bd2d2b0-c5f8-4ca8-84d4-a32df3180945"
      },
      "source": [
        "#### Guided GradCAM"
      ]
    },
    {
      "cell_type": "code",
      "execution_count": 20,
      "id": "d793d749-fa65-442f-8774-bfc5e18db128",
      "metadata": {
        "colab": {
          "base_uri": "https://localhost:8080/",
          "height": 226
        },
        "id": "d793d749-fa65-442f-8774-bfc5e18db128",
        "outputId": "93cef235-1bc7-49ea-e454-8a7dac4636d6"
      },
      "outputs": [
        {
          "data": {
            "image/png": "[encoded data removed]",
            "text/plain": [
              "<Figure size 1100x200 with 1 Axes>"
            ]
          },
          "metadata": {},
          "output_type": "display_data"
        },
        {
          "name": "stdout",
          "output_type": "stream",
          "text": [
            "CPU times: total: 484 ms\n",
            "Wall time: 88.8 ms\n"
          ]
        }
      ],
      "source": [
        "%%time\n",
        "\n",
        "from captum.attr import GuidedGradCam\n",
        "\n",
        "def xai_gradcam(model, input, target, visual=False):\n",
        "\n",
        "    input_embeddings = interpretable_embedding.indices_to_embeddings(input)\n",
        "    xai = GuidedGradCam(wrapper,wrapper.model.embedding)\n",
        "    attributions = xai.attribute(input_embeddings, target=target)\n",
        "    attributions_l2, attributions_mean = normalize_attributions(attributions)\n",
        "\n",
        "    if visual==True:\n",
        "        visualize_attributions(attributions, input)\n",
        "\n",
        "    return attributions, attributions_l2, attributions_mean\n",
        "\n",
        "temp = xai_gradcam(wrapper, input_ids, target_index, visual=True)"
      ]
    },
    {
      "cell_type": "markdown",
      "id": "c3856c4b-f886-4193-abb7-e5a0068dfbb6",
      "metadata": {
        "id": "c3856c4b-f886-4193-abb7-e5a0068dfbb6"
      },
      "source": [
        "#### SHAP"
      ]
    },
    {
      "cell_type": "code",
      "execution_count": 21,
      "id": "4624c1a7-2733-4ce9-a2bc-66baa07d58f5",
      "metadata": {
        "colab": {
          "base_uri": "https://localhost:8080/",
          "height": 226
        },
        "id": "4624c1a7-2733-4ce9-a2bc-66baa07d58f5",
        "outputId": "0acb2fdd-6d58-4110-f717-ee324f983f5f"
      },
      "outputs": [
        {
          "data": {
            "image/png": "[encoded data removed]",
            "text/plain": [
              "<Figure size 1100x200 with 1 Axes>"
            ]
          },
          "metadata": {},
          "output_type": "display_data"
        },
        {
          "name": "stdout",
          "output_type": "stream",
          "text": [
            "CPU times: total: 453 ms\n",
            "Wall time: 85.8 ms\n"
          ]
        }
      ],
      "source": [
        "%%time\n",
        "\n",
        "from captum.attr import GradientShap\n",
        "\n",
        "def xai_shap(model, input, target, visual=False):\n",
        "\n",
        "    input_embeddings = interpretable_embedding.indices_to_embeddings(input)\n",
        "    xai = GradientShap(wrapper)\n",
        "    attributions = xai.attribute(inputs=input_embeddings, baselines=torch.randn_like(input_embeddings), target=target)\n",
        "    attributions_l2, attributions_mean = normalize_attributions(attributions)\n",
        "\n",
        "    if visual==True:\n",
        "        visualize_attributions(attributions, input)\n",
        "\n",
        "    return attributions, attributions_l2, attributions_mean\n",
        "\n",
        "temp = xai_shap(wrapper, input_ids, target_index, visual=True)"
      ]
    },
    {
      "cell_type": "markdown",
      "id": "d03fd6b7-74ba-4c7a-b7ff-90b2303c931f",
      "metadata": {
        "id": "d03fd6b7-74ba-4c7a-b7ff-90b2303c931f"
      },
      "source": [
        "#### Occlusion"
      ]
    },
    {
      "cell_type": "code",
      "execution_count": 22,
      "id": "71eebfcd-ae69-4c97-898a-339fff503fdd",
      "metadata": {
        "colab": {
          "base_uri": "https://localhost:8080/",
          "height": 226
        },
        "id": "71eebfcd-ae69-4c97-898a-339fff503fdd",
        "outputId": "1ad4187f-e377-4146-ffa4-5c0bb60f50d9"
      },
      "outputs": [
        {
          "data": {
            "image/png": "[encoded data removed]",
            "text/plain": [
              "<Figure size 1100x200 with 1 Axes>"
            ]
          },
          "metadata": {},
          "output_type": "display_data"
        },
        {
          "name": "stdout",
          "output_type": "stream",
          "text": [
            "CPU times: total: 1min 7s\n",
            "Wall time: 11.5 s\n"
          ]
        }
      ],
      "source": [
        "%%time\n",
        "\n",
        "from captum.attr import Occlusion\n",
        "\n",
        "def xai_occlusion(model, input, target, visual=False):\n",
        "\n",
        "    input_embeddings = interpretable_embedding.indices_to_embeddings(input)\n",
        "    xai = Occlusion(wrapper)\n",
        "    attributions = xai.attribute(input_embeddings, sliding_window_shapes = (1, 3),target=target_index)\n",
        "    attributions_l2, attributions_mean = normalize_attributions(attributions)\n",
        "\n",
        "    if visual==True:\n",
        "        visualize_attributions(attributions, input)\n",
        "\n",
        "    return attributions, attributions_l2, attributions_mean\n",
        "\n",
        "temp = xai_occlusion(wrapper, input_ids, target_index, visual=True)"
      ]
    },
    {
      "cell_type": "markdown",
      "id": "05516d64-615d-466b-88fe-a60fc6a45821",
      "metadata": {
        "id": "05516d64-615d-466b-88fe-a60fc6a45821"
      },
      "source": [
        "## XAI METRICS"
      ]
    },
    {
      "cell_type": "code",
      "execution_count": 23,
      "id": "b249906e-d2fa-4f66-964b-5c8d3d7033ce",
      "metadata": {
        "id": "b249906e-d2fa-4f66-964b-5c8d3d7033ce"
      },
      "outputs": [],
      "source": [
        "from captum.metrics import infidelity, sensitivity_max\n",
        "\n",
        "# define a perturbation function for the input\n",
        "def perturb_fn(inputs):\n",
        "    noise = torch.tensor(np.random.normal(0, 0.01, inputs.shape)).float()\n",
        "    return noise, inputs - noise"
      ]
    },
    {
      "cell_type": "code",
      "execution_count": 24,
      "id": "eb74b027-4413-4fd5-8751-aab755df0fff",
      "metadata": {
        "colab": {
          "base_uri": "https://localhost:8080/",
          "height": 206
        },
        "id": "eb74b027-4413-4fd5-8751-aab755df0fff",
        "outputId": "e1d9f226-e6af-433c-fdb4-868c0347b524"
      },
      "outputs": [
        {
          "data": {
            "text/html": [
              "<div>\n",
              "<style scoped>\n",
              "    .dataframe tbody tr th:only-of-type {\n",
              "        vertical-align: middle;\n",
              "    }\n",
              "\n",
              "    .dataframe tbody tr th {\n",
              "        vertical-align: top;\n",
              "    }\n",
              "\n",
              "    .dataframe thead th {\n",
              "        text-align: right;\n",
              "    }\n",
              "</style>\n",
              "<table border=\"1\" class=\"dataframe\">\n",
              "  <thead>\n",
              "    <tr style=\"text-align: right;\">\n",
              "      <th></th>\n",
              "      <th>Content</th>\n",
              "      <th>Sentiment</th>\n",
              "      <th>id</th>\n",
              "    </tr>\n",
              "  </thead>\n",
              "  <tbody>\n",
              "    <tr>\n",
              "      <th>0</th>\n",
              "      <td>arye cross and courteney cox star as a pair of...</td>\n",
              "      <td>Negative</td>\n",
              "      <td>N929</td>\n",
              "    </tr>\n",
              "    <tr>\n",
              "      <th>1</th>\n",
              "      <td>you know something , christmas is not about pr...</td>\n",
              "      <td>Negative</td>\n",
              "      <td>N918</td>\n",
              "    </tr>\n",
              "    <tr>\n",
              "      <th>2</th>\n",
              "      <td>it 's tough to really say something nice about...</td>\n",
              "      <td>Positive</td>\n",
              "      <td>P936</td>\n",
              "    </tr>\n",
              "    <tr>\n",
              "      <th>3</th>\n",
              "      <td>the king and i , a warner brothers animated , ...</td>\n",
              "      <td>Negative</td>\n",
              "      <td>N991</td>\n",
              "    </tr>\n",
              "    <tr>\n",
              "      <th>4</th>\n",
              "      <td>writing a screenplay for a thriller is hard . ...</td>\n",
              "      <td>Negative</td>\n",
              "      <td>N906</td>\n",
              "    </tr>\n",
              "  </tbody>\n",
              "</table>\n",
              "</div>"
            ],
            "text/plain": [
              "                                             Content Sentiment    id\n",
              "0  arye cross and courteney cox star as a pair of...  Negative  N929\n",
              "1  you know something , christmas is not about pr...  Negative  N918\n",
              "2  it 's tough to really say something nice about...  Positive  P936\n",
              "3  the king and i , a warner brothers animated , ...  Negative  N991\n",
              "4  writing a screenplay for a thriller is hard . ...  Negative  N906"
            ]
          },
          "execution_count": 24,
          "metadata": {},
          "output_type": "execute_result"
        }
      ],
      "source": [
        "test_df.head()"
      ]
    },
    {
      "cell_type": "code",
      "execution_count": 25,
      "id": "74a3744d-6e8f-4e7e-a63e-2860d38f5167",
      "metadata": {
        "id": "74a3744d-6e8f-4e7e-a63e-2860d38f5167"
      },
      "outputs": [],
      "source": [
        "# Initialize a list to store the objects\n",
        "test_inputs = []\n",
        "\n",
        "# Apply label conversion\n",
        "test_df[\"label\"] = test_df[\"Sentiment\"].apply(lambda x: 1 if x == 'Positive' else 0)\n",
        "\n",
        "# Iterate through each row of the DataFrame\n",
        "for index, row in test_df.iterrows():\n",
        "    text = row['Content']\n",
        "    target_index = row['label']\n",
        "\n",
        "    # Tokenize and encode the text\n",
        "    inputs = tokenizer(text, return_tensors='pt', padding=True, truncation=True)\n",
        "    input_ids = inputs['input_ids'].to(device)\n",
        "    attention_mask = inputs['attention_mask'].to(device)\n",
        "\n",
        "    # Get embeddings\n",
        "    input_embeddings = interpretable_embedding.indices_to_embeddings(input_ids)\n",
        "\n",
        "    # Convert input_ids to tokens\n",
        "    tokens = tokenizer.convert_ids_to_tokens(input_ids.squeeze().tolist())\n",
        "\n",
        "    # Remove special tokens ([CLS] and [SEP])\n",
        "    tokens = [token.replace('##', '') for token in tokens if token not in tokenizer.all_special_tokens]\n",
        "\n",
        "    # Create a dictionary for the current row\n",
        "    data_object = {\n",
        "        'text': text,\n",
        "        'target_index': target_index,\n",
        "        'input_ids': input_ids,\n",
        "        'attention_mask': attention_mask,\n",
        "        'input_embeddings': input_embeddings,\n",
        "        'tokens': tokens\n",
        "    }\n",
        "\n",
        "    # Append the dictionary to the list\n",
        "    test_inputs.append(data_object)"
      ]
    },
    {
      "cell_type": "code",
      "execution_count": 26,
      "id": "cc8efeb9-7f27-4bbe-8479-1c9281b34165",
      "metadata": {
        "id": "cc8efeb9-7f27-4bbe-8479-1c9281b34165"
      },
      "outputs": [],
      "source": [
        "output_dir = 'output/CNNjson'\n",
        "os.makedirs(output_dir, exist_ok=True)"
      ]
    },
    {
      "cell_type": "code",
      "execution_count": 27,
      "id": "Zt6ylkKOTPRc",
      "metadata": {
        "colab": {
          "base_uri": "https://localhost:8080/"
        },
        "id": "Zt6ylkKOTPRc",
        "outputId": "b0b961ec-bc23-43d1-f490-40df811dd931"
      },
      "outputs": [
        {
          "name": "stdout",
          "output_type": "stream",
          "text": [
            "Using CPU\n"
          ]
        }
      ],
      "source": [
        "import torch\n",
        "\n",
        "def print_device_info():\n",
        "    if torch.cuda.is_available():\n",
        "        print(\"Using GPU:\", torch.cuda.get_device_name(0))\n",
        "    else:\n",
        "        print(\"Using CPU\")\n",
        "\n",
        "print_device_info()"
      ]
    },
    {
      "cell_type": "code",
      "execution_count": 28,
      "id": "6f342a66-12e2-475a-94d0-540d78412a14",
      "metadata": {
        "colab": {
          "base_uri": "https://localhost:8080/"
        },
        "id": "6f342a66-12e2-475a-94d0-540d78412a14",
        "outputId": "759e54ea-6da5-46ae-bd20-4529daa24b61"
      },
      "outputs": [
        {
          "name": "stdout",
          "output_type": "stream",
          "text": [
            "DeepLift\n",
            "Results saved to output/CNNjson\\DeepLift.json\n",
            "Saliency\n",
            "Results saved to output/CNNjson\\Saliency.json\n",
            "Integrated Gradients\n",
            "Results saved to output/CNNjson\\Integrated Gradients.json\n",
            "InputXGradient\n",
            "Results saved to output/CNNjson\\InputXGradient.json\n",
            "GradL2\n",
            "Results saved to output/CNNjson\\GradL2.json\n",
            "GuidedBackpropagation\n",
            "Results saved to output/CNNjson\\GuidedBackpropagation.json\n",
            "Deconvolution\n",
            "Results saved to output/CNNjson\\Deconvolution.json\n",
            "Lime\n",
            "Results saved to output/CNNjson\\Lime.json\n",
            "GradCAM\n",
            "Results saved to output/CNNjson\\GradCAM.json\n",
            "SHAP\n",
            "Results saved to output/CNNjson\\SHAP.json\n",
            "CPU times: total: 1d 1h 59min 11s\n",
            "Wall time: 4h 31min 5s\n"
          ]
        }
      ],
      "source": [
        "%%time\n",
        "import time\n",
        "import json\n",
        "import torch\n",
        "import numpy as np\n",
        "import os\n",
        "from captum.attr import DeepLift, Saliency, IntegratedGradients, InputXGradient, GuidedBackprop, Deconvolution, Lime, GradientShap\n",
        "\n",
        "\n",
        "xai_methods = [\n",
        "    (\"DeepLift\", xai_deeplift),\n",
        "    (\"Saliency\", xai_saliency),\n",
        "    (\"Integrated Gradients\", xai_integratedgradients),\n",
        "    (\"InputXGradient\", xai_inputgradient),\n",
        "    (\"GradL2\", xai_gradl2),\n",
        "    (\"GuidedBackpropagation\", xai_guidedbackprop),\n",
        "    (\"Deconvolution\", xai_deconvolution),\n",
        "    (\"Lime\", xai_lime),\n",
        "    (\"GradCAM\", xai_gradcam),\n",
        "    (\"SHAP\", xai_shap),\n",
        "]\n",
        "\n",
        "# Define the perturbation function\n",
        "def perturb_fn(inputs):\n",
        "    noise = torch.tensor(np.random.normal(0, 0.01, inputs.shape)).float().to(inputs.device)\n",
        "    return noise, inputs - noise\n",
        "\n",
        "# Iterate over the XAI methods and compute infidelities\n",
        "for method_name, xai_function in xai_methods:\n",
        "    res = []\n",
        "    print(method_name)\n",
        "    for i, test_input in enumerate(test_inputs):\n",
        "        start_time = time.time()\n",
        "\n",
        "        # Ensure the inputs are on the same device\n",
        "        input_ids = test_input['input_ids'].to(device)\n",
        "        input_embeddings = test_input['input_embeddings'].to(device)\n",
        "        target_index = test_input['target_index']\n",
        "\n",
        "        temp, temp_l2, temp_mean = xai_function(wrapper, input_ids, target_index, visual=False)\n",
        "\n",
        "        end_time = time.time()\n",
        "        elapsed_time = end_time - start_time\n",
        "\n",
        "        infid_score = infidelity(\n",
        "            forward_func=wrapper,\n",
        "            perturb_func=perturb_fn,\n",
        "            inputs=input_embeddings,\n",
        "            attributions=temp,\n",
        "            target=target_index\n",
        "        ).item()\n",
        "\n",
        "        result = {\n",
        "            'index': i,\n",
        "            'text': test_input['text'],\n",
        "            'target_index': target_index,\n",
        "            'tokens': test_input['tokens'],\n",
        "            'weights_mean': temp_mean.tolist(),  # Convert tensor to list for serialization\n",
        "            'weights_l2': temp_l2.tolist(),  # Convert tensor to list for serialization\n",
        "            'elapsed_time': elapsed_time,\n",
        "            \"infidelity\": np.round(infid_score, 5)\n",
        "        }\n",
        "\n",
        "        res.append(result)\n",
        "\n",
        "    file = method_name + \".json\"\n",
        "    output_file = os.path.join(output_dir, file)\n",
        "    res2 = [item for item in res if 'weights' not in item]\n",
        "    with open(output_file, 'w') as f:\n",
        "        json.dump(res2, f, indent=4)\n",
        "\n",
        "    print(f\"Results saved to {output_file}\")\n"
      ]
    },
    {
      "cell_type": "code",
      "execution_count": 29,
      "id": "d58762c2-f9c5-4c49-b9a6-28c5469c333c",
      "metadata": {
        "colab": {
          "base_uri": "https://localhost:8080/"
        },
        "id": "d58762c2-f9c5-4c49-b9a6-28c5469c333c",
        "outputId": "18723bab-e9cf-4757-ad29-3c0234b3712d"
      },
      "outputs": [
        {
          "data": {
            "text/plain": [
              "{'annotation_id': 'negR_900.txt',\n",
              " 'evidence_indices': [(40, 43),\n",
              "  (58, 76),\n",
              "  (106, 115),\n",
              "  (182, 191),\n",
              "  (241, 249),\n",
              "  (320, 352),\n",
              "  (419, 442),\n",
              "  (530, 557),\n",
              "  (559, 614)]}"
            ]
          },
          "execution_count": 29,
          "metadata": {},
          "output_type": "execute_result"
        }
      ],
      "source": [
        "# Load the JSONL file from the provided path\n",
        "file_path = 'test.jsonl'\n",
        "\n",
        "# Load the JSONL file\n",
        "with open(file_path, 'r') as file:\n",
        "    evidence_data = [json.loads(line) for line in file]\n",
        "\n",
        "# Function to generate annotation IDs\n",
        "def generate_annotation_ids(prefix, start, end):\n",
        "    return [f\"{prefix}{i}.txt\" for i in range(start, end + 1)]\n",
        "\n",
        "# Generate annotation IDs for the ranges\n",
        "neg_annotation_ids = generate_annotation_ids('negR_', 900, 999)\n",
        "pos_annotation_ids = generate_annotation_ids('posR_', 900, 999)\n",
        "\n",
        "# Combine both lists of annotation IDs\n",
        "all_annotation_ids = neg_annotation_ids + pos_annotation_ids\n",
        "\n",
        "# Extract evidence indices for all specified annotation IDs\n",
        "evidence_list = []\n",
        "\n",
        "for annotation_id in all_annotation_ids:\n",
        "    evidence_indices = []\n",
        "    for item in evidence_data:\n",
        "        if item['annotation_id'] == annotation_id:\n",
        "            for evidence in item['evidences']:\n",
        "                for span in evidence:\n",
        "                    evidence_indices.append((span['start_token'], span['end_token']))\n",
        "    evidence_list.append({'annotation_id': annotation_id, 'evidence_indices': evidence_indices})\n",
        "\n",
        "evidence_list[0]"
      ]
    },
    {
      "cell_type": "code",
      "execution_count": 30,
      "id": "a063c050-ee4e-49f0-a230-9c842dde8935",
      "metadata": {
        "id": "a063c050-ee4e-49f0-a230-9c842dde8935"
      },
      "outputs": [],
      "source": [
        "# Function to mark evidence in token data\n",
        "def mark_evidence(tokens, evidence_indices):\n",
        "    evidence = [0] * len(tokens)\n",
        "    for start, end in evidence_indices:\n",
        "        for i in range(start, end):\n",
        "            evidence[i] = 1\n",
        "    return tokens, evidence\n",
        "\n",
        "# Initialize a list to store the dictionaries\n",
        "token_evidence_list = []\n"
      ]
    },
    {
      "cell_type": "code",
      "execution_count": 31,
      "id": "b300fb8c-6264-49c6-ab37-51ba92095c54",
      "metadata": {
        "colab": {
          "base_uri": "https://localhost:8080/"
        },
        "id": "b300fb8c-6264-49c6-ab37-51ba92095c54",
        "outputId": "490cc258-e751-4c27-b0cb-51a62dea9e8c"
      },
      "outputs": [
        {
          "name": "stdout",
          "output_type": "stream",
          "text": [
            "{'tokens': ['arye', 'cross', 'and', 'courteney', 'cox', 'star', 'as', 'a', 'pair', 'of', 'bostonians', 'who', 'meet', 'in', 'a', 'bar', ',', 'go', 'to', 'the', 'movies', ',', 'fall', 'in', 'love', ',', 'move', 'in', 'together', ',', 'etc', '.', 'review', '=', '=', '=', '=', '=', '=', 'well', ',', 'if', 'you', 'have', \"n't\", 'seen', 'when', 'harry', 'met', 'sally', 'or', 'he', 'said', ',', 'she', 'said', ',', 'or', 'if', 'you', 'do', \"n't\", 'watch', 'love', '&', 'war', 'on', 'television', ',', 'you', 'might', 'think', 'this', 'is', 'the', 'most', 'inventive', 'film', 'to', 'come', 'along', 'in', 'ages', '.', 'however', ',', 'if', 'you', \"'ve\", 'seen', 'any', 'of', 'these', ',', 'than', 'you', 'have', 'seen', 'most', 'of', 'this', 'film', '.', 'this', 'of', 'course', 'does', \"n't\", 'mean', 'its', 'bad', '.', 'some', 'of', 'it', 'is', 'amusing', ',', 'but', 'overall', ',', 'i', 'just', 'had', 'to', 'ask', 'what', \"'s\", 'the', 'point', '?', 'arye', 'cross', 'is', 'the', 'stereotypical', 'single', 'male', 'who', 'falls', 'in', 'love', '.', 'kevin', 'pollack', 'is', 'the', 'stereotypical', 'female', '-', 'fearing', 'best', 'friend', 'who', 'make', 'a', 'lot', 'of', 'rather', 'sexist', 'and', 'vulgar', 'jokes', ',', 'most', 'if', 'which', 'were', \"n't\", 'very', 'funny', '.', 'couteney', 'cox', 'is', 'the', 'stereotypical', 'career', '-', 'minded', 'woman', 'who', 'falls', 'in', 'love', '.', 'julie', 'brown', 'is', 'the', 'stereotypical', 'bizarre', 'best', 'friend', 'of', 'said', 'woman', '.', '(', 'notice', 'the', 'frequent', 'use', 'of', 'the', 'word', 'stereotypical', '.', 'this', 'film', 'uses', 'a', 'lot', 'of', 'formula', ',', 'the', 'plot', 'is', 'basically', 'known', 'from', 'the', 'opening', 'credits', '.', ')', 'so', 'what', 'is', 'good', 'about', 'the', 'movie', '?', 'well', 'as', 'i', 'said', 'there', 'are', 'a', 'few', 'amusing', 'moments', '.', 'surprisingly', ',', 'julie', 'brown', ',', 'who', 'i', 'usually', 'find', 'just', 'plain', 'goofy', ',', 'was', 'the', 'best', 'thing', 'in', 'the', 'film', '.', 'also', 'there', 'are', 'several', 'very', 'funny', 'sequences', 'involving', 'analysis', 'of', 'the', 'human', 'mating', 'ritual', '.', 'gee', ',', 'this', 'is', 'really', 'short', '.', 'not', 'much', 'to', 'say', 'about', 'the', 'film', 'really', '.', 'it', 'is', 'just', 'kind', 'of', 'there', '.', 'watching', 'it', 'on', 'video', 'might', 'not', 'be', 'a', 'complete', 'waste', 'of', 'time', ',', 'but', 'i', 'would', \"n't\", 'recommend', 'hiring', 'a', 'baby', 'sitter', 'or', 'spending', 'a', 'lot', 'of', 'money', 'to', 'see', 'it', 'at', 'the', 'theatre', '.'], 'evidence': [0, 0, 0, 0, 0, 0, 0, 0, 0, 0, 0, 0, 0, 0, 0, 0, 0, 0, 0, 0, 0, 0, 0, 0, 0, 0, 0, 0, 0, 0, 0, 0, 0, 0, 0, 0, 0, 0, 0, 0, 0, 0, 0, 0, 0, 0, 0, 0, 0, 0, 0, 0, 0, 0, 0, 0, 0, 0, 0, 0, 0, 0, 0, 0, 0, 0, 0, 0, 0, 0, 0, 0, 0, 0, 0, 0, 0, 0, 0, 0, 0, 0, 0, 0, 1, 1, 1, 1, 1, 1, 1, 1, 1, 1, 1, 1, 1, 1, 1, 1, 1, 0, 0, 0, 0, 0, 0, 0, 0, 0, 0, 0, 0, 0, 0, 0, 0, 0, 0, 0, 0, 1, 1, 1, 1, 1, 1, 1, 1, 1, 0, 0, 0, 0, 0, 0, 0, 0, 0, 0, 0, 0, 0, 0, 0, 0, 0, 0, 0, 0, 0, 0, 0, 0, 0, 0, 0, 0, 0, 0, 0, 0, 0, 0, 1, 1, 1, 1, 1, 1, 1, 0, 0, 0, 0, 0, 0, 0, 0, 0, 0, 0, 0, 0, 0, 0, 0, 0, 0, 0, 0, 0, 0, 0, 0, 0, 0, 0, 0, 0, 0, 0, 0, 0, 0, 0, 0, 0, 1, 1, 1, 1, 1, 1, 1, 1, 1, 1, 1, 1, 1, 1, 1, 1, 1, 1, 0, 0, 0, 0, 0, 0, 0, 0, 0, 0, 0, 0, 0, 0, 0, 0, 0, 0, 0, 0, 0, 0, 0, 0, 0, 0, 0, 0, 0, 0, 0, 0, 0, 0, 0, 0, 0, 0, 0, 0, 0, 0, 0, 0, 0, 0, 0, 0, 0, 0, 0, 0, 0, 0, 0, 0, 0, 0, 0, 0, 0, 0, 0, 0, 0, 0, 0, 0, 0, 0, 0, 0, 0, 0, 0, 0, 0, 0, 0, 0, 0, 0, 0, 0, 0, 0, 0, 0, 0, 0, 0, 0, 1, 1, 1, 1, 1, 1, 1, 1, 1, 1, 1, 1, 1, 1, 1, 1, 1, 1, 1, 1, 1, 0]}\n"
          ]
        }
      ],
      "source": [
        "import itertools\n",
        "\n",
        "# Process each row of test_df and fill the list with dictionaries\n",
        "for i, row in test_df.iterrows():\n",
        "    #print(i)\n",
        "    id = row[\"id\"]\n",
        "    sentiment = row[\"Sentiment\"]\n",
        "    file = f\"negR_{id[1:]}.txt\" if sentiment == 'Negative' else f\"posR_{id[1:]}.txt\"\n",
        "    text = row[\"Content\"]\n",
        "    tokens = text.split()\n",
        "\n",
        "    evidence_indices = list(itertools.chain(*[row[\"evidence_indices\"] for row in evidence_list if row['annotation_id'] == file]))\n",
        "    tokens, evidence = mark_evidence(tokens, evidence_indices)\n",
        "\n",
        "    # Create a dictionary for each row and append to the list\n",
        "    token_evidence_list.append({'tokens': tokens, 'evidence': evidence})\n",
        "\n",
        "\n",
        "# Print the resulting list of dictionaries\n",
        "print(token_evidence_list[0])"
      ]
    },
    {
      "cell_type": "code",
      "execution_count": 32,
      "id": "1151f229-8ab4-4394-a7e0-046287a9438b",
      "metadata": {
        "colab": {
          "base_uri": "https://localhost:8080/"
        },
        "id": "1151f229-8ab4-4394-a7e0-046287a9438b",
        "outputId": "11a683e6-212e-47fa-cf50-c4b0e649beb9"
      },
      "outputs": [
        {
          "name": "stdout",
          "output_type": "stream",
          "text": [
            "{'tokens': ['ar', 'ye', 'cross', 'and', 'court', 'ene', 'y', 'cox', 'star', 'as', 'a', 'pair', 'of', 'boston', 'ians', 'who', 'meet', 'in', 'a', 'bar', ',', 'go', 'to', 'the', 'movies', ',', 'fall', 'in', 'love', ',', 'move', 'in', 'together', ',', 'etc', '.', 'review', '=', '=', '=', '=', '=', '=', 'well', ',', 'if', 'you', 'have', 'n', \"'\", 't', 'seen', 'when', 'harry', 'met', 'sally', 'or', 'he', 'said', ',', 'she', 'said', ',', 'or', 'if', 'you', 'do', 'n', \"'\", 't', 'watch', 'love', '&', 'war', 'on', 'television', ',', 'you', 'might', 'think', 'this', 'is', 'the', 'most', 'in', 'vent', 'ive', 'film', 'to', 'come', 'along', 'in', 'ages', '.', 'however', ',', 'if', 'you', \"'\", 've', 'seen', 'any', 'of', 'these', ',', 'than', 'you', 'have', 'seen', 'most', 'of', 'this', 'film', '.', 'this', 'of', 'course', 'does', 'n', \"'\", 't', 'mean', 'its', 'bad', '.', 'some', 'of', 'it', 'is', 'amusing', ',', 'but', 'overall', ',', 'i', 'just', 'had', 'to', 'ask', 'what', \"'\", 's', 'the', 'point', '?', 'ar', 'ye', 'cross', 'is', 'the', 'stereo', 'typical', 'single', 'male', 'who', 'falls', 'in', 'love', '.', 'kevin', 'poll', 'ack', 'is', 'the', 'stereo', 'typical', 'female', '-', 'fearing', 'best', 'friend', 'who', 'make', 'a', 'lot', 'of', 'rather', 'sex', 'ist', 'and', 'vulgar', 'jokes', ',', 'most', 'if', 'which', 'were', 'n', \"'\", 't', 'very', 'funny', '.', 'co', 'ute', 'ney', 'cox', 'is', 'the', 'stereo', 'typical', 'career', '-', 'minded', 'woman', 'who', 'falls', 'in', 'love', '.', 'julie', 'brown', 'is', 'the', 'stereo', 'typical', 'bizarre', 'best', 'friend', 'of', 'said', 'woman', '.', '(', 'notice', 'the', 'frequent', 'use', 'of', 'the', 'word', 'stereo', 'typical', '.', 'this', 'film', 'uses', 'a', 'lot', 'of', 'formula', ',', 'the', 'plot', 'is', 'basically', 'known', 'from', 'the', 'opening', 'credits', '.', ')', 'so', 'what', 'is', 'good', 'about', 'the', 'movie', '?', 'well', 'as', 'i', 'said', 'there', 'are', 'a', 'few', 'amusing', 'moments', '.', 'surprisingly', ',', 'julie', 'brown', ',', 'who', 'i', 'usually', 'find', 'just', 'plain', 'goofy', ',', 'was', 'the', 'best', 'thing', 'in', 'the', 'film', '.', 'also', 'there', 'are', 'several', 'very', 'funny', 'sequences', 'involving', 'analysis', 'of', 'the', 'human', 'mating', 'ritual', '.', 'gee', ',', 'this', 'is', 'really', 'short', '.', 'not', 'much', 'to', 'say', 'about', 'the', 'film', 'really', '.', 'it', 'is', 'just', 'kind', 'of', 'there', '.', 'watching', 'it', 'on', 'video', 'might', 'not', 'be', 'a', 'complete', 'waste', 'of', 'time', ',', 'but', 'i', 'would', 'n', \"'\", 't', 'recommend', 'hiring', 'a', 'baby', 'sit', 'ter', 'or', 'spending', 'a', 'lot', 'of', 'money', 'to', 'see', 'it', 'at', 'the', 'theatre', '.'], 'evidence': [0, 0, 0, 0, 0, 0, 0, 0, 0, 0, 0, 0, 0, 0, 0, 0, 0, 0, 0, 0, 0, 0, 0, 0, 0, 0, 0, 0, 0, 0, 0, 0, 0, 0, 0, 0, 0, 0, 0, 0, 0, 0, 0, 0, 0, 0, 0, 0, 0, 0, 0, 0, 0, 0, 0, 0, 0, 0, 0, 0, 0, 0, 0, 0, 0, 0, 0, 0, 0, 0, 0, 0, 0, 0, 0, 0, 0, 0, 0, 0, 0, 0, 0, 0, 0, 0, 0, 0, 0, 0, 0, 0, 0, 0, 1, 1, 1, 1, 1, 1, 1, 1, 1, 1, 1, 1, 1, 1, 1, 1, 1, 1, 0, 0, 0, 0, 0, 0, 0, 0, 0, 0, 0, 0, 0, 0, 0, 0, 0, 0, 0, 0, 0, 0, 1, 1, 1, 1, 1, 1, 1, 1, 1, 1, 0, 0, 0, 0, 0, 0, 0, 0, 0, 0, 0, 0, 0, 0, 0, 0, 0, 0, 0, 0, 0, 0, 0, 0, 0, 0, 0, 0, 0, 0, 0, 0, 0, 0, 0, 0, 0, 0, 0, 1, 1, 1, 1, 1, 1, 1, 1, 1, 0, 0, 0, 0, 0, 0, 0, 0, 0, 0, 0, 0, 0, 0, 0, 0, 0, 0, 0, 0, 0, 0, 0, 0, 0, 0, 0, 0, 0, 0, 0, 0, 0, 0, 0, 0, 0, 0, 0, 0, 0, 0, 1, 1, 1, 1, 1, 1, 1, 1, 1, 1, 1, 1, 1, 1, 1, 1, 1, 1, 0, 0, 0, 0, 0, 0, 0, 0, 0, 0, 0, 0, 0, 0, 0, 0, 0, 0, 0, 0, 0, 0, 0, 0, 0, 0, 0, 0, 0, 0, 0, 0, 0, 0, 0, 0, 0, 0, 0, 0, 0, 0, 0, 0, 0, 0, 0, 0, 0, 0, 0, 0, 0, 0, 0, 0, 0, 0, 0, 0, 0, 0, 0, 0, 0, 0, 0, 0, 0, 0, 0, 0, 0, 0, 0, 0, 0, 0, 0, 0, 0, 0, 0, 0, 0, 0, 0, 0, 0, 0, 0, 0, 1, 1, 1, 1, 1, 1, 1, 1, 1, 1, 1, 1, 1, 1, 1, 1, 1, 1, 1, 1, 1, 1, 1, 1, 0]}\n"
          ]
        }
      ],
      "source": [
        "# Load the BERT tokenizer\n",
        "tokenizer = BertTokenizer.from_pretrained('bert-base-uncased')\n",
        "\n",
        "# Function to tokenize and update evidence\n",
        "def tokenize_and_update_evidence(data):\n",
        "    new_tokens = []\n",
        "    new_evidences = []\n",
        "\n",
        "    for token, evidence in zip(data['tokens'], data['evidence']):\n",
        "        tokenized = tokenizer.tokenize(token)\n",
        "        # Remove '##' from tokenized tokens\n",
        "        tokenized = [t.replace('##', '') for t in tokenized]\n",
        "        new_tokens.extend(tokenized)\n",
        "        new_evidences.extend([evidence] * len(tokenized))\n",
        "\n",
        "    return {'tokens': new_tokens, 'evidence': new_evidences}\n",
        "\n",
        "# Apply the function to each element in the token_evidence_list\n",
        "updated_token_evidence_list = [tokenize_and_update_evidence(item) for item in token_evidence_list]\n",
        "\n",
        "# Display the updated list of dictionaries\n",
        "print(updated_token_evidence_list[0])"
      ]
    },
    {
      "cell_type": "code",
      "execution_count": 33,
      "id": "631ce3f8-b9ae-4f4b-b9e0-88fdb43fcc4a",
      "metadata": {
        "id": "631ce3f8-b9ae-4f4b-b9e0-88fdb43fcc4a"
      },
      "outputs": [],
      "source": [
        "# Remove interpretable embedding layer after attribution\n",
        "remove_interpretable_embedding_layer(model, interpretable_embedding)"
      ]
    },
    {
      "cell_type": "markdown",
      "id": "00caca03-b3ed-487e-a20a-b16ae55de7c5",
      "metadata": {
        "id": "00caca03-b3ed-487e-a20a-b16ae55de7c5"
      },
      "source": [
        "### Counterfactual explanations"
      ]
    },
    {
      "cell_type": "code",
      "execution_count": 34,
      "id": "e35dc912-e7a0-4cbe-8261-a8d3756be674",
      "metadata": {
        "id": "e35dc912-e7a0-4cbe-8261-a8d3756be674"
      },
      "outputs": [],
      "source": [
        "from torch.nn.functional import softmax\n",
        "\n",
        "def predict_proba(texts):\n",
        "    # Tokenize the input\n",
        "    inputs = tokenizer(texts, return_tensors='pt', truncation=True, padding=True, max_length=512)\n",
        "    input_ids = inputs['input_ids'].to(device)  # Get the token IDs and move them to the device\n",
        "\n",
        "    # Make predictions\n",
        "    with torch.no_grad():\n",
        "        logits = model(input_ids)\n",
        "        probabilities = softmax(logits, dim=1)  # Apply softmax to get probabilities\n",
        "\n",
        "    return probabilities.cpu().numpy()\n"
      ]
    },
    {
      "cell_type": "code",
      "execution_count": 35,
      "id": "ae5633f0-5b14-4bf1-973d-9a10a3283166",
      "metadata": {
        "colab": {
          "base_uri": "https://localhost:8080/"
        },
        "id": "ae5633f0-5b14-4bf1-973d-9a10a3283166",
        "outputId": "c82d3b10-c049-4c49-f704-9dd96bdfa2c2"
      },
      "outputs": [
        {
          "name": "stdout",
          "output_type": "stream",
          "text": [
            "CPU times: total: 0 ns\n",
            "Wall time: 0 ns\n"
          ]
        }
      ],
      "source": [
        "%%time\n",
        "\n",
        "def extract_top_tokens(res_xai, num_top_tokens=5, method = \"mean\"):\n",
        "    top_tokens = []\n",
        "\n",
        "    for idx, result in enumerate(res_xai):\n",
        "        #print(idx)\n",
        "\n",
        "        inputs = tokenizer(result['text'], return_tensors=\"pt\", truncation=True, padding=True, max_length=512)\n",
        "        # Remove the first and the last tokens\n",
        "        inputs['input_ids'] = inputs['input_ids'][:, 1:-1]\n",
        "\n",
        "        tokenized_text = tokenizer.convert_ids_to_tokens(inputs.input_ids[0])\n",
        "\n",
        "        # Zip tokens with their corresponding weights_mean and their positions\n",
        "        if method == \"mean\":\n",
        "            token_weights = list(zip(tokenized_text, result['weights_mean'], range(len(result['tokens']))))\n",
        "        elif method == \"L2\":\n",
        "            token_weights = list(zip(tokenized_text, result['weights_l2'], range(len(result['tokens']))))\n",
        "        elif method == \"direct\":\n",
        "            token_weights = list(zip(tokenized_text, result['weights'], range(len(result['tokens']))))\n",
        "\n",
        "        #print(range(len(result['tokens'])))\n",
        "        # Filter out tokens with '##' and the token before them\n",
        "        filtered_token_weights = []\n",
        "        skip_next = False\n",
        "        for i in range(len(result['tokens'])):\n",
        "\n",
        "            if skip_next:\n",
        "                skip_next = False\n",
        "                continue\n",
        "            token, weight, position = token_weights[i]\n",
        "\n",
        "            if '##' in token:\n",
        "                if filtered_token_weights:  # Ensure the list is not empty before popping\n",
        "                    filtered_token_weights.pop()  # Remove the previous token\n",
        "                skip_next = True\n",
        "            else:\n",
        "                filtered_token_weights.append((token, weight, position))\n",
        "\n",
        "        # Filter out non-alphabetic tokens\n",
        "        token_weights = [(token, weight, position) for token, weight, position in filtered_token_weights if token.isalpha() and (len(token) > 1 or token in ['i', 'a'])]\n",
        "\n",
        "\n",
        "        # Sort tokens by weights_mean in descending order\n",
        "        sorted_tokens = sorted(token_weights, key=lambda x: x[1], reverse=True)\n",
        "\n",
        "        # Get the top tokens\n",
        "        top_n = sorted_tokens[:num_top_tokens]\n",
        "        top_tokens.append({\n",
        "            'index': result['index'],\n",
        "            'text': result['text'],\n",
        "            'top_tokens': [(token, weight, position) for token, weight, position in top_n]\n",
        "        })\n",
        "\n",
        "    return top_tokens"
      ]
    },
    {
      "cell_type": "code",
      "execution_count": 36,
      "id": "d85b8d98-12cf-454c-8007-16cf8acef816",
      "metadata": {
        "colab": {
          "base_uri": "https://localhost:8080/",
          "height": 972,
          "referenced_widgets": [
            "469e0ce1191e4dc4ade7852308db61c4",
            "26fc4b165f5749fb944be31ce13c80ce",
            "57b050c110484865b6e7ce50cd227485",
            "43b87f66b0b24888a371545996a104f9",
            "53d77bb893fd41f4a543ad7d2b557bac",
            "fc0c248fff1644728661e663bd707e5a",
            "6a2cc8de0bb34dfe8c7f5d49a0f48c80",
            "97a1c4142cb74def9e530d9d0538be6d",
            "e193cd209fb748b19b18c074723301b4",
            "c54203dc234948c28dcc3ce92e148d73",
            "74d044cb35464ff0971f16b82c9adfe8"
          ]
        },
        "id": "d85b8d98-12cf-454c-8007-16cf8acef816",
        "outputId": "e9a2236b-2d91-4e96-dffe-93b4ffee8817"
      },
      "outputs": [
        {
          "name": "stderr",
          "output_type": "stream",
          "text": [
            "Xet Storage is enabled for this repo, but the 'hf_xet' package is not installed. Falling back to regular HTTP download. For better performance, install the package with: `pip install huggingface_hub[hf_xet]` or `pip install hf_xet`\n",
            "Some weights of the model checkpoint at bert-base-uncased were not used when initializing BertForMaskedLM: ['bert.pooler.dense.bias', 'bert.pooler.dense.weight', 'cls.seq_relationship.bias', 'cls.seq_relationship.weight']\n",
            "- This IS expected if you are initializing BertForMaskedLM from the checkpoint of a model trained on another task or with another architecture (e.g. initializing a BertForSequenceClassification model from a BertForPreTraining model).\n",
            "- This IS NOT expected if you are initializing BertForMaskedLM from the checkpoint of a model that you expect to be exactly identical (initializing a BertForSequenceClassification model from a BertForSequenceClassification model).\n"
          ]
        },
        {
          "data": {
            "text/plain": [
              "BertForMaskedLM(\n",
              "  (bert): BertModel(\n",
              "    (embeddings): BertEmbeddings(\n",
              "      (word_embeddings): Embedding(30522, 768, padding_idx=0)\n",
              "      (position_embeddings): Embedding(512, 768)\n",
              "      (token_type_embeddings): Embedding(2, 768)\n",
              "      (LayerNorm): LayerNorm((768,), eps=1e-12, elementwise_affine=True)\n",
              "      (dropout): Dropout(p=0.1, inplace=False)\n",
              "    )\n",
              "    (encoder): BertEncoder(\n",
              "      (layer): ModuleList(\n",
              "        (0-11): 12 x BertLayer(\n",
              "          (attention): BertAttention(\n",
              "            (self): BertSdpaSelfAttention(\n",
              "              (query): Linear(in_features=768, out_features=768, bias=True)\n",
              "              (key): Linear(in_features=768, out_features=768, bias=True)\n",
              "              (value): Linear(in_features=768, out_features=768, bias=True)\n",
              "              (dropout): Dropout(p=0.1, inplace=False)\n",
              "            )\n",
              "            (output): BertSelfOutput(\n",
              "              (dense): Linear(in_features=768, out_features=768, bias=True)\n",
              "              (LayerNorm): LayerNorm((768,), eps=1e-12, elementwise_affine=True)\n",
              "              (dropout): Dropout(p=0.1, inplace=False)\n",
              "            )\n",
              "          )\n",
              "          (intermediate): BertIntermediate(\n",
              "            (dense): Linear(in_features=768, out_features=3072, bias=True)\n",
              "            (intermediate_act_fn): GELUActivation()\n",
              "          )\n",
              "          (output): BertOutput(\n",
              "            (dense): Linear(in_features=3072, out_features=768, bias=True)\n",
              "            (LayerNorm): LayerNorm((768,), eps=1e-12, elementwise_affine=True)\n",
              "            (dropout): Dropout(p=0.1, inplace=False)\n",
              "          )\n",
              "        )\n",
              "      )\n",
              "    )\n",
              "  )\n",
              "  (cls): BertOnlyMLMHead(\n",
              "    (predictions): BertLMPredictionHead(\n",
              "      (transform): BertPredictionHeadTransform(\n",
              "        (dense): Linear(in_features=768, out_features=768, bias=True)\n",
              "        (transform_act_fn): GELUActivation()\n",
              "        (LayerNorm): LayerNorm((768,), eps=1e-12, elementwise_affine=True)\n",
              "      )\n",
              "      (decoder): Linear(in_features=768, out_features=30522, bias=True)\n",
              "    )\n",
              "  )\n",
              ")"
            ]
          },
          "execution_count": 36,
          "metadata": {},
          "output_type": "execute_result"
        }
      ],
      "source": [
        "import random\n",
        "from transformers import BertForMaskedLM\n",
        "\n",
        "# Function to set seed for reproducibility\n",
        "def set_seed(seed):\n",
        "    random.seed(seed)\n",
        "    torch.manual_seed(seed)\n",
        "    if torch.cuda.is_available():\n",
        "        torch.cuda.manual_seed_all(seed)\n",
        "\n",
        "# Load the pre-trained BERT model and tokenizer for masked language modeling\n",
        "mlm_bert_model = BertForMaskedLM.from_pretrained('bert-base-uncased')\n",
        "mlm_bert_tokenizer = BertTokenizer.from_pretrained('bert-base-uncased')\n",
        "\n",
        "mlm_bert_model.to(device)"
      ]
    },
    {
      "cell_type": "code",
      "execution_count": 37,
      "id": "617d5a3a-fff7-4653-bbef-423928a471b7",
      "metadata": {
        "colab": {
          "base_uri": "https://localhost:8080/"
        },
        "id": "617d5a3a-fff7-4653-bbef-423928a471b7",
        "outputId": "957a46bf-425c-4097-b9e4-7a11ff84e1a4"
      },
      "outputs": [
        {
          "name": "stdout",
          "output_type": "stream",
          "text": [
            "CPU times: total: 0 ns\n",
            "Wall time: 3.21 ms\n"
          ]
        }
      ],
      "source": [
        "%%time\n",
        "\n",
        "import random\n",
        "import torch\n",
        "from transformers import set_seed\n",
        "\n",
        "\n",
        "def generate_counterfactuals_with_positions_all_mask(original_text, important_tokens_with_positions, num_samples=10, seed=None):\n",
        "    if seed is not None:\n",
        "        set_seed(seed)\n",
        "\n",
        "    counterfactuals = []\n",
        "    replacement_words = []\n",
        "\n",
        "    # Tokenize the original text\n",
        "    inputs = mlm_bert_tokenizer(original_text, return_tensors=\"pt\", truncation=True, padding=True, max_length=512)\n",
        "    inputs = {k: v.to(device) for k, v in inputs.items()}  # Move inputs to device\n",
        "    tokenized_text = mlm_bert_tokenizer.convert_ids_to_tokens(inputs['input_ids'][0])\n",
        "\n",
        "    # Replace all important tokens with [MASK]\n",
        "    new_tokenized_text = tokenized_text[:]\n",
        "    positions = [pos + 1 for _, _, pos in important_tokens_with_positions]  # Increment positions by 1 to account for [CLS] token\n",
        "\n",
        "    for position in positions:\n",
        "        if position <= len(new_tokenized_text):\n",
        "            new_tokenized_text[position] = \"[MASK]\"\n",
        "\n",
        "    masked_text = mlm_bert_tokenizer.convert_tokens_to_string(new_tokenized_text[1:-1])  # Delete the CLS and SEP before tokenizing again\n",
        "\n",
        "    new_inputs = mlm_bert_tokenizer(masked_text, return_tensors=\"pt\", truncation=True, padding=True, max_length=512)\n",
        "    new_inputs = {k: v.to(device) for k, v in new_inputs.items()}  # Move new_inputs to device\n",
        "\n",
        "    # Ensure we have mask token indices\n",
        "    mask_token_indices = torch.where(new_inputs['input_ids'] == mlm_bert_tokenizer.mask_token_id)[1]\n",
        "\n",
        "    if len(mask_token_indices) == 0:\n",
        "        return counterfactuals, replacement_words\n",
        "\n",
        "    with torch.no_grad():\n",
        "        outputs = mlm_bert_model(**new_inputs)\n",
        "    logits = outputs.logits\n",
        "\n",
        "    # Generate replacements for each masked token\n",
        "    all_replacements = []\n",
        "    for mask_token_index, pos in zip(mask_token_indices, positions):\n",
        "        original_word = tokenized_text[pos]  # Get the original word\n",
        "        mask_token_logits = logits[0, mask_token_index, :]\n",
        "        top_k_words = torch.topk(mask_token_logits, num_samples * 10, dim=-1).indices.tolist()\n",
        "\n",
        "        # Filter words\n",
        "        filtered_words = []\n",
        "        for word_id in top_k_words:\n",
        "            word = mlm_bert_tokenizer.decode([word_id]).strip()\n",
        "            if word.isalpha() and word not in filtered_words and word.lower() != original_word.lower():  # Ensure the word is alphabetic, unique, and not the same as the original word\n",
        "                filtered_words.append(word)\n",
        "        # Select 10 randomly from the filtered words\n",
        "        selected_words = random.sample(filtered_words, min(num_samples, len(filtered_words)))\n",
        "\n",
        "        all_replacements.append(selected_words)\n",
        "\n",
        "    # Generate 10 counterfactuals by selecting one replacement for each masked word\n",
        "    for i in range(num_samples):\n",
        "        comb_tokenized_text = new_tokenized_text[:]\n",
        "        replacements = []\n",
        "        for j, position in enumerate(positions):\n",
        "            if position < len(comb_tokenized_text):\n",
        "                word = all_replacements[j][i % len(all_replacements[j])]\n",
        "                comb_tokenized_text[position] = word\n",
        "                replacements.append((tokenized_text[position], word))\n",
        "        comb_tokenized_text = comb_tokenized_text[1:-1]  # Remove [CLS] and [SEP] tokens\n",
        "        counterfactual_text = mlm_bert_tokenizer.convert_tokens_to_string(comb_tokenized_text)\n",
        "        counterfactuals.append(counterfactual_text)\n",
        "        replacement_words.append(replacements)\n",
        "\n",
        "    return counterfactuals, replacement_words"
      ]
    },
    {
      "cell_type": "code",
      "execution_count": 38,
      "id": "e3177c16-0818-494f-9df9-dafa64adab38",
      "metadata": {
        "colab": {
          "base_uri": "https://localhost:8080/"
        },
        "id": "e3177c16-0818-494f-9df9-dafa64adab38",
        "outputId": "3a0dec24-6f41-4725-e5d7-9c69a5d74816"
      },
      "outputs": [
        {
          "name": "stdout",
          "output_type": "stream",
          "text": [
            "CPU times: total: 0 ns\n",
            "Wall time: 0 ns\n"
          ]
        }
      ],
      "source": [
        "%%time\n",
        "\n",
        "# Define the function to apply the counterfactual generation\n",
        "def apply_counterfactual_generation(top_tokens_list, num_samples=10, seed=27):\n",
        "    counterfactuals_dict = {}\n",
        "    for i, top_tokens in enumerate(top_tokens_list):\n",
        "        original_text = top_tokens['text']\n",
        "        important_tokens_with_positions = top_tokens['top_tokens']\n",
        "\n",
        "        counterfactual_texts, replacement_words = generate_counterfactuals_with_positions_all_mask(\n",
        "            original_text, important_tokens_with_positions, num_samples=num_samples, seed=seed\n",
        "        )\n",
        "\n",
        "        counterfactuals_dict[i] = {\n",
        "            \"original_text\": original_text,\n",
        "            \"important_tokens_with_positions\": important_tokens_with_positions,\n",
        "            \"counterfactual_texts\": counterfactual_texts,\n",
        "            \"replacement_words\": replacement_words\n",
        "        }\n",
        "\n",
        "    return counterfactuals_dict"
      ]
    },
    {
      "cell_type": "code",
      "execution_count": 39,
      "id": "1d749336-a239-4200-811e-8134a16f32d3",
      "metadata": {
        "id": "1d749336-a239-4200-811e-8134a16f32d3"
      },
      "outputs": [],
      "source": [
        "from transformers import BertModel\n",
        "\n",
        "def validity_soft(original_texts, counterfactual_texts, predict_proba, target_index):\n",
        "    \"\"\"Compute Validity_soft metric.\"\"\"\n",
        "    N = len(original_texts)\n",
        "    validity_sum = 0.0\n",
        "    original_proba = predict_proba(original_texts)[0]\n",
        "\n",
        "    for counterfactual in counterfactual_texts:\n",
        "\n",
        "        counterfactual_proba = predict_proba(counterfactual)[0]\n",
        "        validity_sum += original_proba[target_index] - counterfactual_proba[target_index]  # the first is the negative and the second positive.\n",
        "\n",
        "    validity_soft_value = validity_sum / N\n",
        "    return validity_soft_value\n",
        "\n",
        "\n",
        "# Load a separate model for getting embeddings\n",
        "embedding_model = BertModel.from_pretrained('bert-base-uncased')\n",
        "embedding_model.to(device)\n",
        "embedding_model.eval()\n",
        "\n",
        "def get_bert_embeddings(texts):\n",
        "    \"\"\"Get BERT embeddings for a list of texts.\"\"\"\n",
        "    inputs = tokenizer(texts, return_tensors=\"pt\", padding=True, truncation=True)\n",
        "    input_ids = inputs['input_ids'].to(device)\n",
        "    attention_mask = inputs['attention_mask'].to(device)\n",
        "\n",
        "    with torch.no_grad():\n",
        "        outputs = embedding_model(input_ids, attention_mask=attention_mask)\n",
        "        embeddings = outputs.last_hidden_state.mean(dim=1)  # Mean pooling of token embeddings\n",
        "\n",
        "    return embeddings.cpu().numpy()\n",
        "\n",
        "def c_soft(original_texts, counterfactual_texts, predict_proba, target_index):\n",
        "    \"\"\"Compute C_soft metric.\"\"\"\n",
        "    N = len(original_texts)\n",
        "    validity_soft_sum = 0.0\n",
        "    proximity_sum = 0.0\n",
        "\n",
        "    original_proba = predict_proba(original_texts)[0]\n",
        "\n",
        "    original_embeddings = get_bert_embeddings(original_texts)\n",
        "    counterfactual_embeddings = get_bert_embeddings(counterfactual_texts)\n",
        "\n",
        "    for counterfactual, orig_emb, cf_emb in zip(counterfactual_texts, original_embeddings, counterfactual_embeddings):\n",
        "\n",
        "        counterfactual_proba = predict_proba([counterfactual])[0]\n",
        "        validity_soft_sum += original_proba[target_index] - counterfactual_proba[target_index]\n",
        "\n",
        "        proximity_sum += np.linalg.norm(orig_emb - cf_emb)\n",
        "\n",
        "\n",
        "    c_soft_value = validity_soft_sum / proximity_sum\n",
        "    return c_soft_value\n"
      ]
    },
    {
      "cell_type": "code",
      "execution_count": 40,
      "id": "2f19b07d-4c4a-4fff-afd8-524c63c85b69",
      "metadata": {
        "colab": {
          "base_uri": "https://localhost:8080/"
        },
        "id": "2f19b07d-4c4a-4fff-afd8-524c63c85b69",
        "outputId": "1550834a-8a9c-4d86-8298-e60d4a9c971c"
      },
      "outputs": [
        {
          "name": "stdout",
          "output_type": "stream",
          "text": [
            "DeepLift\n",
            "Time: 2141.478045463562\n",
            "Saliency\n"
          ]
        },
        {
          "ename": "KeyboardInterrupt",
          "evalue": "",
          "output_type": "error",
          "traceback": [
            "\u001b[1;31m---------------------------------------------------------------------------\u001b[0m",
            "\u001b[1;31mKeyboardInterrupt\u001b[0m                         Traceback (most recent call last)",
            "\u001b[1;32mc:\\Users\\Administrador\\Desktop\\MinWeb\\SCENE\\CNN - SCENE & XAI Metrics.ipynb Cell 57\u001b[0m line \u001b[0;36m7\n\u001b[0;32m     <a href='vscode-notebook-cell:/c%3A/Users/Administrador/Desktop/MinWeb/SCENE/CNN%20-%20SCENE%20%26%20XAI%20Metrics.ipynb#Y111sZmlsZQ%3D%3D?line=72'>73</a>\u001b[0m counterfactual_text_l2 \u001b[39m=\u001b[39m counterfactual_l2[i][\u001b[39m'\u001b[39m\u001b[39mcounterfactual_texts\u001b[39m\u001b[39m'\u001b[39m]\n\u001b[0;32m     <a href='vscode-notebook-cell:/c%3A/Users/Administrador/Desktop/MinWeb/SCENE/CNN%20-%20SCENE%20%26%20XAI%20Metrics.ipynb#Y111sZmlsZQ%3D%3D?line=74'>75</a>\u001b[0m val_l2 \u001b[39m=\u001b[39m validity_soft(original_text_l2,counterfactual_text_l2, predict_proba, attributions[\u001b[39m'\u001b[39m\u001b[39mtarget_index\u001b[39m\u001b[39m'\u001b[39m])\n\u001b[1;32m---> <a href='vscode-notebook-cell:/c%3A/Users/Administrador/Desktop/MinWeb/SCENE/CNN%20-%20SCENE%20%26%20XAI%20Metrics.ipynb#Y111sZmlsZQ%3D%3D?line=75'>76</a>\u001b[0m soft_l2 \u001b[39m=\u001b[39m c_soft(original_text_l2,counterfactual_text_l2, predict_proba, attributions[\u001b[39m'\u001b[39;49m\u001b[39mtarget_index\u001b[39;49m\u001b[39m'\u001b[39;49m])\n\u001b[0;32m     <a href='vscode-notebook-cell:/c%3A/Users/Administrador/Desktop/MinWeb/SCENE/CNN%20-%20SCENE%20%26%20XAI%20Metrics.ipynb#Y111sZmlsZQ%3D%3D?line=77'>78</a>\u001b[0m val_l2_df\u001b[39m.\u001b[39mappend(val_l2)\n\u001b[0;32m     <a href='vscode-notebook-cell:/c%3A/Users/Administrador/Desktop/MinWeb/SCENE/CNN%20-%20SCENE%20%26%20XAI%20Metrics.ipynb#Y111sZmlsZQ%3D%3D?line=78'>79</a>\u001b[0m soft_l2_df\u001b[39m.\u001b[39mappend(soft_l2)\n",
            "\u001b[1;32mc:\\Users\\Administrador\\Desktop\\MinWeb\\SCENE\\CNN - SCENE & XAI Metrics.ipynb Cell 57\u001b[0m line \u001b[0;36m4\n\u001b[0;32m     <a href='vscode-notebook-cell:/c%3A/Users/Administrador/Desktop/MinWeb/SCENE/CNN%20-%20SCENE%20%26%20XAI%20Metrics.ipynb#Y111sZmlsZQ%3D%3D?line=40'>41</a>\u001b[0m original_proba \u001b[39m=\u001b[39m predict_proba(original_texts)[\u001b[39m0\u001b[39m]\n\u001b[0;32m     <a href='vscode-notebook-cell:/c%3A/Users/Administrador/Desktop/MinWeb/SCENE/CNN%20-%20SCENE%20%26%20XAI%20Metrics.ipynb#Y111sZmlsZQ%3D%3D?line=42'>43</a>\u001b[0m original_embeddings \u001b[39m=\u001b[39m get_bert_embeddings(original_texts)\n\u001b[1;32m---> <a href='vscode-notebook-cell:/c%3A/Users/Administrador/Desktop/MinWeb/SCENE/CNN%20-%20SCENE%20%26%20XAI%20Metrics.ipynb#Y111sZmlsZQ%3D%3D?line=43'>44</a>\u001b[0m counterfactual_embeddings \u001b[39m=\u001b[39m get_bert_embeddings(counterfactual_texts)\n\u001b[0;32m     <a href='vscode-notebook-cell:/c%3A/Users/Administrador/Desktop/MinWeb/SCENE/CNN%20-%20SCENE%20%26%20XAI%20Metrics.ipynb#Y111sZmlsZQ%3D%3D?line=45'>46</a>\u001b[0m \u001b[39mfor\u001b[39;00m counterfactual, orig_emb, cf_emb \u001b[39min\u001b[39;00m \u001b[39mzip\u001b[39m(counterfactual_texts, original_embeddings, counterfactual_embeddings):\n\u001b[0;32m     <a href='vscode-notebook-cell:/c%3A/Users/Administrador/Desktop/MinWeb/SCENE/CNN%20-%20SCENE%20%26%20XAI%20Metrics.ipynb#Y111sZmlsZQ%3D%3D?line=47'>48</a>\u001b[0m     counterfactual_proba \u001b[39m=\u001b[39m predict_proba([counterfactual])[\u001b[39m0\u001b[39m]\n",
            "\u001b[1;32mc:\\Users\\Administrador\\Desktop\\MinWeb\\SCENE\\CNN - SCENE & XAI Metrics.ipynb Cell 57\u001b[0m line \u001b[0;36m3\n\u001b[0;32m     <a href='vscode-notebook-cell:/c%3A/Users/Administrador/Desktop/MinWeb/SCENE/CNN%20-%20SCENE%20%26%20XAI%20Metrics.ipynb#Y111sZmlsZQ%3D%3D?line=26'>27</a>\u001b[0m attention_mask \u001b[39m=\u001b[39m inputs[\u001b[39m'\u001b[39m\u001b[39mattention_mask\u001b[39m\u001b[39m'\u001b[39m]\u001b[39m.\u001b[39mto(device)\n\u001b[0;32m     <a href='vscode-notebook-cell:/c%3A/Users/Administrador/Desktop/MinWeb/SCENE/CNN%20-%20SCENE%20%26%20XAI%20Metrics.ipynb#Y111sZmlsZQ%3D%3D?line=28'>29</a>\u001b[0m \u001b[39mwith\u001b[39;00m torch\u001b[39m.\u001b[39mno_grad():\n\u001b[1;32m---> <a href='vscode-notebook-cell:/c%3A/Users/Administrador/Desktop/MinWeb/SCENE/CNN%20-%20SCENE%20%26%20XAI%20Metrics.ipynb#Y111sZmlsZQ%3D%3D?line=29'>30</a>\u001b[0m     outputs \u001b[39m=\u001b[39m embedding_model(input_ids, attention_mask\u001b[39m=\u001b[39;49mattention_mask)\n\u001b[0;32m     <a href='vscode-notebook-cell:/c%3A/Users/Administrador/Desktop/MinWeb/SCENE/CNN%20-%20SCENE%20%26%20XAI%20Metrics.ipynb#Y111sZmlsZQ%3D%3D?line=30'>31</a>\u001b[0m     embeddings \u001b[39m=\u001b[39m outputs\u001b[39m.\u001b[39mlast_hidden_state\u001b[39m.\u001b[39mmean(dim\u001b[39m=\u001b[39m\u001b[39m1\u001b[39m)  \u001b[39m# Mean pooling of token embeddings\u001b[39;00m\n\u001b[0;32m     <a href='vscode-notebook-cell:/c%3A/Users/Administrador/Desktop/MinWeb/SCENE/CNN%20-%20SCENE%20%26%20XAI%20Metrics.ipynb#Y111sZmlsZQ%3D%3D?line=32'>33</a>\u001b[0m \u001b[39mreturn\u001b[39;00m embeddings\u001b[39m.\u001b[39mcpu()\u001b[39m.\u001b[39mnumpy()\n",
            "File \u001b[1;32mc:\\Python312\\Lib\\site-packages\\torch\\nn\\modules\\module.py:1751\u001b[0m, in \u001b[0;36mModule._wrapped_call_impl\u001b[1;34m(self, *args, **kwargs)\u001b[0m\n\u001b[0;32m   1749\u001b[0m     \u001b[39mreturn\u001b[39;00m \u001b[39mself\u001b[39m\u001b[39m.\u001b[39m_compiled_call_impl(\u001b[39m*\u001b[39margs, \u001b[39m*\u001b[39m\u001b[39m*\u001b[39mkwargs)  \u001b[39m# type: ignore[misc]\u001b[39;00m\n\u001b[0;32m   1750\u001b[0m \u001b[39melse\u001b[39;00m:\n\u001b[1;32m-> 1751\u001b[0m     \u001b[39mreturn\u001b[39;00m \u001b[39mself\u001b[39;49m\u001b[39m.\u001b[39;49m_call_impl(\u001b[39m*\u001b[39;49margs, \u001b[39m*\u001b[39;49m\u001b[39m*\u001b[39;49mkwargs)\n",
            "File \u001b[1;32mc:\\Python312\\Lib\\site-packages\\torch\\nn\\modules\\module.py:1762\u001b[0m, in \u001b[0;36mModule._call_impl\u001b[1;34m(self, *args, **kwargs)\u001b[0m\n\u001b[0;32m   1757\u001b[0m \u001b[39m# If we don't have any hooks, we want to skip the rest of the logic in\u001b[39;00m\n\u001b[0;32m   1758\u001b[0m \u001b[39m# this function, and just call forward.\u001b[39;00m\n\u001b[0;32m   1759\u001b[0m \u001b[39mif\u001b[39;00m \u001b[39mnot\u001b[39;00m (\u001b[39mself\u001b[39m\u001b[39m.\u001b[39m_backward_hooks \u001b[39mor\u001b[39;00m \u001b[39mself\u001b[39m\u001b[39m.\u001b[39m_backward_pre_hooks \u001b[39mor\u001b[39;00m \u001b[39mself\u001b[39m\u001b[39m.\u001b[39m_forward_hooks \u001b[39mor\u001b[39;00m \u001b[39mself\u001b[39m\u001b[39m.\u001b[39m_forward_pre_hooks\n\u001b[0;32m   1760\u001b[0m         \u001b[39mor\u001b[39;00m _global_backward_pre_hooks \u001b[39mor\u001b[39;00m _global_backward_hooks\n\u001b[0;32m   1761\u001b[0m         \u001b[39mor\u001b[39;00m _global_forward_hooks \u001b[39mor\u001b[39;00m _global_forward_pre_hooks):\n\u001b[1;32m-> 1762\u001b[0m     \u001b[39mreturn\u001b[39;00m forward_call(\u001b[39m*\u001b[39;49margs, \u001b[39m*\u001b[39;49m\u001b[39m*\u001b[39;49mkwargs)\n\u001b[0;32m   1764\u001b[0m result \u001b[39m=\u001b[39m \u001b[39mNone\u001b[39;00m\n\u001b[0;32m   1765\u001b[0m called_always_called_hooks \u001b[39m=\u001b[39m \u001b[39mset\u001b[39m()\n",
            "File \u001b[1;32mc:\\Python312\\Lib\\site-packages\\transformers\\models\\bert\\modeling_bert.py:1028\u001b[0m, in \u001b[0;36mBertModel.forward\u001b[1;34m(self, input_ids, attention_mask, token_type_ids, position_ids, head_mask, inputs_embeds, encoder_hidden_states, encoder_attention_mask, past_key_values, use_cache, output_attentions, output_hidden_states, return_dict, cache_position)\u001b[0m\n\u001b[0;32m   1021\u001b[0m \u001b[39m# Prepare head mask if needed\u001b[39;00m\n\u001b[0;32m   1022\u001b[0m \u001b[39m# 1.0 in head_mask indicate we keep the head\u001b[39;00m\n\u001b[0;32m   1023\u001b[0m \u001b[39m# attention_probs has shape bsz x n_heads x N x N\u001b[39;00m\n\u001b[0;32m   1024\u001b[0m \u001b[39m# input head_mask has shape [num_heads] or [num_hidden_layers x num_heads]\u001b[39;00m\n\u001b[0;32m   1025\u001b[0m \u001b[39m# and head_mask is converted to shape [num_hidden_layers x batch x num_heads x seq_length x seq_length]\u001b[39;00m\n\u001b[0;32m   1026\u001b[0m head_mask \u001b[39m=\u001b[39m \u001b[39mself\u001b[39m\u001b[39m.\u001b[39mget_head_mask(head_mask, \u001b[39mself\u001b[39m\u001b[39m.\u001b[39mconfig\u001b[39m.\u001b[39mnum_hidden_layers)\n\u001b[1;32m-> 1028\u001b[0m encoder_outputs \u001b[39m=\u001b[39m \u001b[39mself\u001b[39;49m\u001b[39m.\u001b[39;49mencoder(\n\u001b[0;32m   1029\u001b[0m     embedding_output,\n\u001b[0;32m   1030\u001b[0m     attention_mask\u001b[39m=\u001b[39;49mextended_attention_mask,\n\u001b[0;32m   1031\u001b[0m     head_mask\u001b[39m=\u001b[39;49mhead_mask,\n\u001b[0;32m   1032\u001b[0m     encoder_hidden_states\u001b[39m=\u001b[39;49mencoder_hidden_states,\n\u001b[0;32m   1033\u001b[0m     encoder_attention_mask\u001b[39m=\u001b[39;49mencoder_extended_attention_mask,\n\u001b[0;32m   1034\u001b[0m     past_key_values\u001b[39m=\u001b[39;49mpast_key_values,\n\u001b[0;32m   1035\u001b[0m     use_cache\u001b[39m=\u001b[39;49muse_cache,\n\u001b[0;32m   1036\u001b[0m     output_attentions\u001b[39m=\u001b[39;49moutput_attentions,\n\u001b[0;32m   1037\u001b[0m     output_hidden_states\u001b[39m=\u001b[39;49moutput_hidden_states,\n\u001b[0;32m   1038\u001b[0m     return_dict\u001b[39m=\u001b[39;49mreturn_dict,\n\u001b[0;32m   1039\u001b[0m     cache_position\u001b[39m=\u001b[39;49mcache_position,\n\u001b[0;32m   1040\u001b[0m )\n\u001b[0;32m   1041\u001b[0m sequence_output \u001b[39m=\u001b[39m encoder_outputs[\u001b[39m0\u001b[39m]\n\u001b[0;32m   1042\u001b[0m pooled_output \u001b[39m=\u001b[39m \u001b[39mself\u001b[39m\u001b[39m.\u001b[39mpooler(sequence_output) \u001b[39mif\u001b[39;00m \u001b[39mself\u001b[39m\u001b[39m.\u001b[39mpooler \u001b[39mis\u001b[39;00m \u001b[39mnot\u001b[39;00m \u001b[39mNone\u001b[39;00m \u001b[39melse\u001b[39;00m \u001b[39mNone\u001b[39;00m\n",
            "File \u001b[1;32mc:\\Python312\\Lib\\site-packages\\torch\\nn\\modules\\module.py:1751\u001b[0m, in \u001b[0;36mModule._wrapped_call_impl\u001b[1;34m(self, *args, **kwargs)\u001b[0m\n\u001b[0;32m   1749\u001b[0m     \u001b[39mreturn\u001b[39;00m \u001b[39mself\u001b[39m\u001b[39m.\u001b[39m_compiled_call_impl(\u001b[39m*\u001b[39margs, \u001b[39m*\u001b[39m\u001b[39m*\u001b[39mkwargs)  \u001b[39m# type: ignore[misc]\u001b[39;00m\n\u001b[0;32m   1750\u001b[0m \u001b[39melse\u001b[39;00m:\n\u001b[1;32m-> 1751\u001b[0m     \u001b[39mreturn\u001b[39;00m \u001b[39mself\u001b[39;49m\u001b[39m.\u001b[39;49m_call_impl(\u001b[39m*\u001b[39;49margs, \u001b[39m*\u001b[39;49m\u001b[39m*\u001b[39;49mkwargs)\n",
            "File \u001b[1;32mc:\\Python312\\Lib\\site-packages\\torch\\nn\\modules\\module.py:1762\u001b[0m, in \u001b[0;36mModule._call_impl\u001b[1;34m(self, *args, **kwargs)\u001b[0m\n\u001b[0;32m   1757\u001b[0m \u001b[39m# If we don't have any hooks, we want to skip the rest of the logic in\u001b[39;00m\n\u001b[0;32m   1758\u001b[0m \u001b[39m# this function, and just call forward.\u001b[39;00m\n\u001b[0;32m   1759\u001b[0m \u001b[39mif\u001b[39;00m \u001b[39mnot\u001b[39;00m (\u001b[39mself\u001b[39m\u001b[39m.\u001b[39m_backward_hooks \u001b[39mor\u001b[39;00m \u001b[39mself\u001b[39m\u001b[39m.\u001b[39m_backward_pre_hooks \u001b[39mor\u001b[39;00m \u001b[39mself\u001b[39m\u001b[39m.\u001b[39m_forward_hooks \u001b[39mor\u001b[39;00m \u001b[39mself\u001b[39m\u001b[39m.\u001b[39m_forward_pre_hooks\n\u001b[0;32m   1760\u001b[0m         \u001b[39mor\u001b[39;00m _global_backward_pre_hooks \u001b[39mor\u001b[39;00m _global_backward_hooks\n\u001b[0;32m   1761\u001b[0m         \u001b[39mor\u001b[39;00m _global_forward_hooks \u001b[39mor\u001b[39;00m _global_forward_pre_hooks):\n\u001b[1;32m-> 1762\u001b[0m     \u001b[39mreturn\u001b[39;00m forward_call(\u001b[39m*\u001b[39;49margs, \u001b[39m*\u001b[39;49m\u001b[39m*\u001b[39;49mkwargs)\n\u001b[0;32m   1764\u001b[0m result \u001b[39m=\u001b[39m \u001b[39mNone\u001b[39;00m\n\u001b[0;32m   1765\u001b[0m called_always_called_hooks \u001b[39m=\u001b[39m \u001b[39mset\u001b[39m()\n",
            "File \u001b[1;32mc:\\Python312\\Lib\\site-packages\\transformers\\models\\bert\\modeling_bert.py:675\u001b[0m, in \u001b[0;36mBertEncoder.forward\u001b[1;34m(self, hidden_states, attention_mask, head_mask, encoder_hidden_states, encoder_attention_mask, past_key_values, use_cache, output_attentions, output_hidden_states, return_dict, cache_position)\u001b[0m\n\u001b[0;32m    671\u001b[0m     all_hidden_states \u001b[39m=\u001b[39m all_hidden_states \u001b[39m+\u001b[39m (hidden_states,)\n\u001b[0;32m    673\u001b[0m layer_head_mask \u001b[39m=\u001b[39m head_mask[i] \u001b[39mif\u001b[39;00m head_mask \u001b[39mis\u001b[39;00m \u001b[39mnot\u001b[39;00m \u001b[39mNone\u001b[39;00m \u001b[39melse\u001b[39;00m \u001b[39mNone\u001b[39;00m\n\u001b[1;32m--> 675\u001b[0m layer_outputs \u001b[39m=\u001b[39m layer_module(\n\u001b[0;32m    676\u001b[0m     hidden_states,\n\u001b[0;32m    677\u001b[0m     attention_mask,\n\u001b[0;32m    678\u001b[0m     layer_head_mask,\n\u001b[0;32m    679\u001b[0m     encoder_hidden_states,  \u001b[39m# as a positional argument for gradient checkpointing\u001b[39;49;00m\n\u001b[0;32m    680\u001b[0m     encoder_attention_mask\u001b[39m=\u001b[39;49mencoder_attention_mask,\n\u001b[0;32m    681\u001b[0m     past_key_value\u001b[39m=\u001b[39;49mpast_key_values,\n\u001b[0;32m    682\u001b[0m     output_attentions\u001b[39m=\u001b[39;49moutput_attentions,\n\u001b[0;32m    683\u001b[0m     cache_position\u001b[39m=\u001b[39;49mcache_position,\n\u001b[0;32m    684\u001b[0m )\n\u001b[0;32m    686\u001b[0m hidden_states \u001b[39m=\u001b[39m layer_outputs[\u001b[39m0\u001b[39m]\n\u001b[0;32m    687\u001b[0m \u001b[39mif\u001b[39;00m output_attentions:\n",
            "File \u001b[1;32mc:\\Python312\\Lib\\site-packages\\transformers\\modeling_layers.py:94\u001b[0m, in \u001b[0;36mGradientCheckpointingLayer.__call__\u001b[1;34m(self, *args, **kwargs)\u001b[0m\n\u001b[0;32m     91\u001b[0m         logger\u001b[39m.\u001b[39mwarning(message)\n\u001b[0;32m     93\u001b[0m     \u001b[39mreturn\u001b[39;00m \u001b[39mself\u001b[39m\u001b[39m.\u001b[39m_gradient_checkpointing_func(partial(\u001b[39msuper\u001b[39m()\u001b[39m.\u001b[39m\u001b[39m__call__\u001b[39m, \u001b[39m*\u001b[39m\u001b[39m*\u001b[39mkwargs), \u001b[39m*\u001b[39margs)\n\u001b[1;32m---> 94\u001b[0m \u001b[39mreturn\u001b[39;00m \u001b[39msuper\u001b[39;49m()\u001b[39m.\u001b[39;49m\u001b[39m__call__\u001b[39;49m(\u001b[39m*\u001b[39;49margs, \u001b[39m*\u001b[39;49m\u001b[39m*\u001b[39;49mkwargs)\n",
            "File \u001b[1;32mc:\\Python312\\Lib\\site-packages\\torch\\nn\\modules\\module.py:1751\u001b[0m, in \u001b[0;36mModule._wrapped_call_impl\u001b[1;34m(self, *args, **kwargs)\u001b[0m\n\u001b[0;32m   1749\u001b[0m     \u001b[39mreturn\u001b[39;00m \u001b[39mself\u001b[39m\u001b[39m.\u001b[39m_compiled_call_impl(\u001b[39m*\u001b[39margs, \u001b[39m*\u001b[39m\u001b[39m*\u001b[39mkwargs)  \u001b[39m# type: ignore[misc]\u001b[39;00m\n\u001b[0;32m   1750\u001b[0m \u001b[39melse\u001b[39;00m:\n\u001b[1;32m-> 1751\u001b[0m     \u001b[39mreturn\u001b[39;00m \u001b[39mself\u001b[39;49m\u001b[39m.\u001b[39;49m_call_impl(\u001b[39m*\u001b[39;49margs, \u001b[39m*\u001b[39;49m\u001b[39m*\u001b[39;49mkwargs)\n",
            "File \u001b[1;32mc:\\Python312\\Lib\\site-packages\\torch\\nn\\modules\\module.py:1762\u001b[0m, in \u001b[0;36mModule._call_impl\u001b[1;34m(self, *args, **kwargs)\u001b[0m\n\u001b[0;32m   1757\u001b[0m \u001b[39m# If we don't have any hooks, we want to skip the rest of the logic in\u001b[39;00m\n\u001b[0;32m   1758\u001b[0m \u001b[39m# this function, and just call forward.\u001b[39;00m\n\u001b[0;32m   1759\u001b[0m \u001b[39mif\u001b[39;00m \u001b[39mnot\u001b[39;00m (\u001b[39mself\u001b[39m\u001b[39m.\u001b[39m_backward_hooks \u001b[39mor\u001b[39;00m \u001b[39mself\u001b[39m\u001b[39m.\u001b[39m_backward_pre_hooks \u001b[39mor\u001b[39;00m \u001b[39mself\u001b[39m\u001b[39m.\u001b[39m_forward_hooks \u001b[39mor\u001b[39;00m \u001b[39mself\u001b[39m\u001b[39m.\u001b[39m_forward_pre_hooks\n\u001b[0;32m   1760\u001b[0m         \u001b[39mor\u001b[39;00m _global_backward_pre_hooks \u001b[39mor\u001b[39;00m _global_backward_hooks\n\u001b[0;32m   1761\u001b[0m         \u001b[39mor\u001b[39;00m _global_forward_hooks \u001b[39mor\u001b[39;00m _global_forward_pre_hooks):\n\u001b[1;32m-> 1762\u001b[0m     \u001b[39mreturn\u001b[39;00m forward_call(\u001b[39m*\u001b[39;49margs, \u001b[39m*\u001b[39;49m\u001b[39m*\u001b[39;49mkwargs)\n\u001b[0;32m   1764\u001b[0m result \u001b[39m=\u001b[39m \u001b[39mNone\u001b[39;00m\n\u001b[0;32m   1765\u001b[0m called_always_called_hooks \u001b[39m=\u001b[39m \u001b[39mset\u001b[39m()\n",
            "File \u001b[1;32mc:\\Python312\\Lib\\site-packages\\transformers\\models\\bert\\modeling_bert.py:584\u001b[0m, in \u001b[0;36mBertLayer.forward\u001b[1;34m(self, hidden_states, attention_mask, head_mask, encoder_hidden_states, encoder_attention_mask, past_key_value, output_attentions, cache_position)\u001b[0m\n\u001b[0;32m    573\u001b[0m \u001b[39mdef\u001b[39;00m \u001b[39mforward\u001b[39m(\n\u001b[0;32m    574\u001b[0m     \u001b[39mself\u001b[39m,\n\u001b[0;32m    575\u001b[0m     hidden_states: torch\u001b[39m.\u001b[39mTensor,\n\u001b[1;32m   (...)\u001b[0m\n\u001b[0;32m    582\u001b[0m     cache_position: Optional[torch\u001b[39m.\u001b[39mTensor] \u001b[39m=\u001b[39m \u001b[39mNone\u001b[39;00m,\n\u001b[0;32m    583\u001b[0m ) \u001b[39m-\u001b[39m\u001b[39m>\u001b[39m \u001b[39mtuple\u001b[39m[torch\u001b[39m.\u001b[39mTensor]:\n\u001b[1;32m--> 584\u001b[0m     self_attention_outputs \u001b[39m=\u001b[39m \u001b[39mself\u001b[39;49m\u001b[39m.\u001b[39;49mattention(\n\u001b[0;32m    585\u001b[0m         hidden_states,\n\u001b[0;32m    586\u001b[0m         attention_mask\u001b[39m=\u001b[39;49mattention_mask,\n\u001b[0;32m    587\u001b[0m         head_mask\u001b[39m=\u001b[39;49mhead_mask,\n\u001b[0;32m    588\u001b[0m         output_attentions\u001b[39m=\u001b[39;49moutput_attentions,\n\u001b[0;32m    589\u001b[0m         past_key_value\u001b[39m=\u001b[39;49mpast_key_value,\n\u001b[0;32m    590\u001b[0m         cache_position\u001b[39m=\u001b[39;49mcache_position,\n\u001b[0;32m    591\u001b[0m     )\n\u001b[0;32m    592\u001b[0m     attention_output \u001b[39m=\u001b[39m self_attention_outputs[\u001b[39m0\u001b[39m]\n\u001b[0;32m    593\u001b[0m     outputs \u001b[39m=\u001b[39m self_attention_outputs[\u001b[39m1\u001b[39m:]  \u001b[39m# add self attentions if we output attention weights\u001b[39;00m\n",
            "File \u001b[1;32mc:\\Python312\\Lib\\site-packages\\torch\\nn\\modules\\module.py:1751\u001b[0m, in \u001b[0;36mModule._wrapped_call_impl\u001b[1;34m(self, *args, **kwargs)\u001b[0m\n\u001b[0;32m   1749\u001b[0m     \u001b[39mreturn\u001b[39;00m \u001b[39mself\u001b[39m\u001b[39m.\u001b[39m_compiled_call_impl(\u001b[39m*\u001b[39margs, \u001b[39m*\u001b[39m\u001b[39m*\u001b[39mkwargs)  \u001b[39m# type: ignore[misc]\u001b[39;00m\n\u001b[0;32m   1750\u001b[0m \u001b[39melse\u001b[39;00m:\n\u001b[1;32m-> 1751\u001b[0m     \u001b[39mreturn\u001b[39;00m \u001b[39mself\u001b[39;49m\u001b[39m.\u001b[39;49m_call_impl(\u001b[39m*\u001b[39;49margs, \u001b[39m*\u001b[39;49m\u001b[39m*\u001b[39;49mkwargs)\n",
            "File \u001b[1;32mc:\\Python312\\Lib\\site-packages\\torch\\nn\\modules\\module.py:1762\u001b[0m, in \u001b[0;36mModule._call_impl\u001b[1;34m(self, *args, **kwargs)\u001b[0m\n\u001b[0;32m   1757\u001b[0m \u001b[39m# If we don't have any hooks, we want to skip the rest of the logic in\u001b[39;00m\n\u001b[0;32m   1758\u001b[0m \u001b[39m# this function, and just call forward.\u001b[39;00m\n\u001b[0;32m   1759\u001b[0m \u001b[39mif\u001b[39;00m \u001b[39mnot\u001b[39;00m (\u001b[39mself\u001b[39m\u001b[39m.\u001b[39m_backward_hooks \u001b[39mor\u001b[39;00m \u001b[39mself\u001b[39m\u001b[39m.\u001b[39m_backward_pre_hooks \u001b[39mor\u001b[39;00m \u001b[39mself\u001b[39m\u001b[39m.\u001b[39m_forward_hooks \u001b[39mor\u001b[39;00m \u001b[39mself\u001b[39m\u001b[39m.\u001b[39m_forward_pre_hooks\n\u001b[0;32m   1760\u001b[0m         \u001b[39mor\u001b[39;00m _global_backward_pre_hooks \u001b[39mor\u001b[39;00m _global_backward_hooks\n\u001b[0;32m   1761\u001b[0m         \u001b[39mor\u001b[39;00m _global_forward_hooks \u001b[39mor\u001b[39;00m _global_forward_pre_hooks):\n\u001b[1;32m-> 1762\u001b[0m     \u001b[39mreturn\u001b[39;00m forward_call(\u001b[39m*\u001b[39;49margs, \u001b[39m*\u001b[39;49m\u001b[39m*\u001b[39;49mkwargs)\n\u001b[0;32m   1764\u001b[0m result \u001b[39m=\u001b[39m \u001b[39mNone\u001b[39;00m\n\u001b[0;32m   1765\u001b[0m called_always_called_hooks \u001b[39m=\u001b[39m \u001b[39mset\u001b[39m()\n",
            "File \u001b[1;32mc:\\Python312\\Lib\\site-packages\\transformers\\utils\\deprecation.py:172\u001b[0m, in \u001b[0;36mdeprecate_kwarg.<locals>.wrapper.<locals>.wrapped_func\u001b[1;34m(*args, **kwargs)\u001b[0m\n\u001b[0;32m    168\u001b[0m \u001b[39melif\u001b[39;00m minimum_action \u001b[39min\u001b[39;00m (Action\u001b[39m.\u001b[39mNOTIFY, Action\u001b[39m.\u001b[39mNOTIFY_ALWAYS) \u001b[39mand\u001b[39;00m \u001b[39mnot\u001b[39;00m is_torchdynamo_compiling():\n\u001b[0;32m    169\u001b[0m     \u001b[39m# DeprecationWarning is ignored by default, so we use FutureWarning instead\u001b[39;00m\n\u001b[0;32m    170\u001b[0m     warnings\u001b[39m.\u001b[39mwarn(message, \u001b[39mFutureWarning\u001b[39;00m, stacklevel\u001b[39m=\u001b[39m\u001b[39m2\u001b[39m)\n\u001b[1;32m--> 172\u001b[0m \u001b[39mreturn\u001b[39;00m func(\u001b[39m*\u001b[39;49margs, \u001b[39m*\u001b[39;49m\u001b[39m*\u001b[39;49mkwargs)\n",
            "File \u001b[1;32mc:\\Python312\\Lib\\site-packages\\transformers\\models\\bert\\modeling_bert.py:514\u001b[0m, in \u001b[0;36mBertAttention.forward\u001b[1;34m(self, hidden_states, attention_mask, head_mask, encoder_hidden_states, encoder_attention_mask, past_key_value, output_attentions, cache_position)\u001b[0m\n\u001b[0;32m    502\u001b[0m \u001b[39m@deprecate_kwarg\u001b[39m(\u001b[39m\"\u001b[39m\u001b[39mencoder_attention_mask\u001b[39m\u001b[39m\"\u001b[39m, version\u001b[39m=\u001b[39m\u001b[39m\"\u001b[39m\u001b[39m4.55.0\u001b[39m\u001b[39m\"\u001b[39m)\n\u001b[0;32m    503\u001b[0m \u001b[39mdef\u001b[39;00m \u001b[39mforward\u001b[39m(\n\u001b[0;32m    504\u001b[0m     \u001b[39mself\u001b[39m,\n\u001b[1;32m   (...)\u001b[0m\n\u001b[0;32m    512\u001b[0m     cache_position: Optional[torch\u001b[39m.\u001b[39mTensor] \u001b[39m=\u001b[39m \u001b[39mNone\u001b[39;00m,\n\u001b[0;32m    513\u001b[0m ) \u001b[39m-\u001b[39m\u001b[39m>\u001b[39m \u001b[39mtuple\u001b[39m[torch\u001b[39m.\u001b[39mTensor]:\n\u001b[1;32m--> 514\u001b[0m     self_outputs \u001b[39m=\u001b[39m \u001b[39mself\u001b[39;49m\u001b[39m.\u001b[39;49mself(\n\u001b[0;32m    515\u001b[0m         hidden_states,\n\u001b[0;32m    516\u001b[0m         attention_mask\u001b[39m=\u001b[39;49mattention_mask,\n\u001b[0;32m    517\u001b[0m         head_mask\u001b[39m=\u001b[39;49mhead_mask,\n\u001b[0;32m    518\u001b[0m         encoder_hidden_states\u001b[39m=\u001b[39;49mencoder_hidden_states,\n\u001b[0;32m    519\u001b[0m         encoder_attention_mask\u001b[39m=\u001b[39;49mencoder_attention_mask,\n\u001b[0;32m    520\u001b[0m         past_key_value\u001b[39m=\u001b[39;49mpast_key_value,\n\u001b[0;32m    521\u001b[0m         output_attentions\u001b[39m=\u001b[39;49moutput_attentions,\n\u001b[0;32m    522\u001b[0m         cache_position\u001b[39m=\u001b[39;49mcache_position,\n\u001b[0;32m    523\u001b[0m     )\n\u001b[0;32m    524\u001b[0m     attention_output \u001b[39m=\u001b[39m \u001b[39mself\u001b[39m\u001b[39m.\u001b[39moutput(self_outputs[\u001b[39m0\u001b[39m], hidden_states)\n\u001b[0;32m    525\u001b[0m     outputs \u001b[39m=\u001b[39m (attention_output,) \u001b[39m+\u001b[39m self_outputs[\u001b[39m1\u001b[39m:]  \u001b[39m# add attentions if we output them\u001b[39;00m\n",
            "File \u001b[1;32mc:\\Python312\\Lib\\site-packages\\torch\\nn\\modules\\module.py:1751\u001b[0m, in \u001b[0;36mModule._wrapped_call_impl\u001b[1;34m(self, *args, **kwargs)\u001b[0m\n\u001b[0;32m   1749\u001b[0m     \u001b[39mreturn\u001b[39;00m \u001b[39mself\u001b[39m\u001b[39m.\u001b[39m_compiled_call_impl(\u001b[39m*\u001b[39margs, \u001b[39m*\u001b[39m\u001b[39m*\u001b[39mkwargs)  \u001b[39m# type: ignore[misc]\u001b[39;00m\n\u001b[0;32m   1750\u001b[0m \u001b[39melse\u001b[39;00m:\n\u001b[1;32m-> 1751\u001b[0m     \u001b[39mreturn\u001b[39;00m \u001b[39mself\u001b[39;49m\u001b[39m.\u001b[39;49m_call_impl(\u001b[39m*\u001b[39;49margs, \u001b[39m*\u001b[39;49m\u001b[39m*\u001b[39;49mkwargs)\n",
            "File \u001b[1;32mc:\\Python312\\Lib\\site-packages\\torch\\nn\\modules\\module.py:1762\u001b[0m, in \u001b[0;36mModule._call_impl\u001b[1;34m(self, *args, **kwargs)\u001b[0m\n\u001b[0;32m   1757\u001b[0m \u001b[39m# If we don't have any hooks, we want to skip the rest of the logic in\u001b[39;00m\n\u001b[0;32m   1758\u001b[0m \u001b[39m# this function, and just call forward.\u001b[39;00m\n\u001b[0;32m   1759\u001b[0m \u001b[39mif\u001b[39;00m \u001b[39mnot\u001b[39;00m (\u001b[39mself\u001b[39m\u001b[39m.\u001b[39m_backward_hooks \u001b[39mor\u001b[39;00m \u001b[39mself\u001b[39m\u001b[39m.\u001b[39m_backward_pre_hooks \u001b[39mor\u001b[39;00m \u001b[39mself\u001b[39m\u001b[39m.\u001b[39m_forward_hooks \u001b[39mor\u001b[39;00m \u001b[39mself\u001b[39m\u001b[39m.\u001b[39m_forward_pre_hooks\n\u001b[0;32m   1760\u001b[0m         \u001b[39mor\u001b[39;00m _global_backward_pre_hooks \u001b[39mor\u001b[39;00m _global_backward_hooks\n\u001b[0;32m   1761\u001b[0m         \u001b[39mor\u001b[39;00m _global_forward_hooks \u001b[39mor\u001b[39;00m _global_forward_pre_hooks):\n\u001b[1;32m-> 1762\u001b[0m     \u001b[39mreturn\u001b[39;00m forward_call(\u001b[39m*\u001b[39;49margs, \u001b[39m*\u001b[39;49m\u001b[39m*\u001b[39;49mkwargs)\n\u001b[0;32m   1764\u001b[0m result \u001b[39m=\u001b[39m \u001b[39mNone\u001b[39;00m\n\u001b[0;32m   1765\u001b[0m called_always_called_hooks \u001b[39m=\u001b[39m \u001b[39mset\u001b[39m()\n",
            "File \u001b[1;32mc:\\Python312\\Lib\\site-packages\\transformers\\utils\\deprecation.py:172\u001b[0m, in \u001b[0;36mdeprecate_kwarg.<locals>.wrapper.<locals>.wrapped_func\u001b[1;34m(*args, **kwargs)\u001b[0m\n\u001b[0;32m    168\u001b[0m \u001b[39melif\u001b[39;00m minimum_action \u001b[39min\u001b[39;00m (Action\u001b[39m.\u001b[39mNOTIFY, Action\u001b[39m.\u001b[39mNOTIFY_ALWAYS) \u001b[39mand\u001b[39;00m \u001b[39mnot\u001b[39;00m is_torchdynamo_compiling():\n\u001b[0;32m    169\u001b[0m     \u001b[39m# DeprecationWarning is ignored by default, so we use FutureWarning instead\u001b[39;00m\n\u001b[0;32m    170\u001b[0m     warnings\u001b[39m.\u001b[39mwarn(message, \u001b[39mFutureWarning\u001b[39;00m, stacklevel\u001b[39m=\u001b[39m\u001b[39m2\u001b[39m)\n\u001b[1;32m--> 172\u001b[0m \u001b[39mreturn\u001b[39;00m func(\u001b[39m*\u001b[39;49margs, \u001b[39m*\u001b[39;49m\u001b[39m*\u001b[39;49mkwargs)\n",
            "File \u001b[1;32mc:\\Python312\\Lib\\site-packages\\transformers\\models\\bert\\modeling_bert.py:438\u001b[0m, in \u001b[0;36mBertSdpaSelfAttention.forward\u001b[1;34m(self, hidden_states, attention_mask, head_mask, encoder_hidden_states, encoder_attention_mask, past_key_value, output_attentions, cache_position)\u001b[0m\n\u001b[0;32m    430\u001b[0m \u001b[39m# We dispatch to SDPA's Flash Attention or Efficient kernels via this `is_causal` if statement instead of an inline conditional assignment\u001b[39;00m\n\u001b[0;32m    431\u001b[0m \u001b[39m# in SDPA to support both torch.compile's dynamic shapes and full graph options. An inline conditional prevents dynamic shapes from compiling.\u001b[39;00m\n\u001b[0;32m    432\u001b[0m \u001b[39m# The tgt_len > 1 is necessary to match with AttentionMaskConverter.to_causal_4d that does not create\u001b[39;00m\n\u001b[0;32m    433\u001b[0m \u001b[39m# a causal mask in case tgt_len == 1.\u001b[39;00m\n\u001b[0;32m    434\u001b[0m is_causal \u001b[39m=\u001b[39m (\n\u001b[0;32m    435\u001b[0m     \u001b[39mTrue\u001b[39;00m \u001b[39mif\u001b[39;00m \u001b[39mself\u001b[39m\u001b[39m.\u001b[39mis_decoder \u001b[39mand\u001b[39;00m \u001b[39mnot\u001b[39;00m is_cross_attention \u001b[39mand\u001b[39;00m attention_mask \u001b[39mis\u001b[39;00m \u001b[39mNone\u001b[39;00m \u001b[39mand\u001b[39;00m tgt_len \u001b[39m>\u001b[39m \u001b[39m1\u001b[39m \u001b[39melse\u001b[39;00m \u001b[39mFalse\u001b[39;00m\n\u001b[0;32m    436\u001b[0m )\n\u001b[1;32m--> 438\u001b[0m attn_output \u001b[39m=\u001b[39m torch\u001b[39m.\u001b[39;49mnn\u001b[39m.\u001b[39;49mfunctional\u001b[39m.\u001b[39;49mscaled_dot_product_attention(\n\u001b[0;32m    439\u001b[0m     query_layer,\n\u001b[0;32m    440\u001b[0m     key_layer,\n\u001b[0;32m    441\u001b[0m     value_layer,\n\u001b[0;32m    442\u001b[0m     attn_mask\u001b[39m=\u001b[39;49mattention_mask,\n\u001b[0;32m    443\u001b[0m     dropout_p\u001b[39m=\u001b[39;49m\u001b[39mself\u001b[39;49m\u001b[39m.\u001b[39;49mdropout_prob \u001b[39mif\u001b[39;49;00m \u001b[39mself\u001b[39;49m\u001b[39m.\u001b[39;49mtraining \u001b[39melse\u001b[39;49;00m \u001b[39m0.0\u001b[39;49m,\n\u001b[0;32m    444\u001b[0m     is_causal\u001b[39m=\u001b[39;49mis_causal,\n\u001b[0;32m    445\u001b[0m )\n\u001b[0;32m    447\u001b[0m attn_output \u001b[39m=\u001b[39m attn_output\u001b[39m.\u001b[39mtranspose(\u001b[39m1\u001b[39m, \u001b[39m2\u001b[39m)\n\u001b[0;32m    448\u001b[0m attn_output \u001b[39m=\u001b[39m attn_output\u001b[39m.\u001b[39mreshape(bsz, tgt_len, \u001b[39mself\u001b[39m\u001b[39m.\u001b[39mall_head_size)\n",
            "\u001b[1;31mKeyboardInterrupt\u001b[0m: "
          ]
        }
      ],
      "source": [
        "from sklearn.metrics import average_precision_score\n",
        "import statistics\n",
        "\n",
        "df_final = pd.DataFrame(columns=['XAI', 'MAP Mean', 'MAP L2', 'Infidelity', 'Time Mean', 'Time Std'])\n",
        "\n",
        "for method_name, xai_function in xai_methods:\n",
        "    start_time = time.time()\n",
        "\n",
        "    print(method_name)\n",
        "    file=method_name+\".json\"\n",
        "    file_path = os.path.join(output_dir, file)\n",
        "\n",
        "    # Open the JSON file\n",
        "    with open(file_path, 'r') as file:\n",
        "        # Load the JSON data\n",
        "        res = json.load(file)\n",
        "\n",
        "    l2_MAP = []\n",
        "    mean_MAP = []\n",
        "    infidelity_df = []\n",
        "    val_mean_df = []\n",
        "    val_l2_df = []\n",
        "    soft_mean_df = []\n",
        "    soft_l2_df = []\n",
        "\n",
        "    top_tokens_mean = extract_top_tokens(res, num_top_tokens=5, method=\"mean\")\n",
        "    counterfactual_mean = apply_counterfactual_generation(top_tokens_mean, num_samples=10, seed=27)\n",
        "\n",
        "    top_tokens_l2 = extract_top_tokens(res, num_top_tokens=5, method=\"L2\")\n",
        "    counterfactual_l2 = apply_counterfactual_generation(top_tokens_l2, num_samples=10, seed=27)\n",
        "\n",
        "    for i, attributions in enumerate(res):\n",
        "        # Ensure both have the same length\n",
        "        min_length = min(len(attributions['weights_l2']), 510)\n",
        "\n",
        "        # Trim the data to have the same length\n",
        "        evidence_trimmed = updated_token_evidence_list[i]['evidence'][:min_length]\n",
        "        attr_l2 = attributions['weights_l2']\n",
        "\n",
        "        # Compute the average precision score\n",
        "        average_precision_l2 = average_precision_score(evidence_trimmed, attr_l2)\n",
        "\n",
        "        l2_MAP.append(average_precision_l2)\n",
        "\n",
        "        attr_mean = attributions['weights_mean']\n",
        "\n",
        "        # Compute the average precision score\n",
        "        average_precision_mean = average_precision_score(evidence_trimmed, attr_mean)\n",
        "\n",
        "        mean_MAP.append(average_precision_mean)\n",
        "\n",
        "        infid = attributions['infidelity']\n",
        "\n",
        "        infidelity_df.append(infid)\n",
        "\n",
        "\n",
        "        #counter mean\n",
        "\n",
        "        original_text_mean = counterfactual_mean[i]['original_text']\n",
        "        counterfactual_text_mean = counterfactual_mean[i]['counterfactual_texts']\n",
        "\n",
        "        val_mean = validity_soft(original_text_mean,counterfactual_text_mean, predict_proba, attributions['target_index'])\n",
        "        soft_mean = c_soft(original_text_mean,counterfactual_text_mean, predict_proba, attributions['target_index'])\n",
        "\n",
        "        val_mean_df.append(val_mean)\n",
        "        soft_mean_df.append(soft_mean)\n",
        "\n",
        "\n",
        "        #counter l2\n",
        "\n",
        "\n",
        "        original_text_l2 = counterfactual_l2[i]['original_text']\n",
        "        counterfactual_text_l2 = counterfactual_l2[i]['counterfactual_texts']\n",
        "\n",
        "        val_l2 = validity_soft(original_text_l2,counterfactual_text_l2, predict_proba, attributions['target_index'])\n",
        "        soft_l2 = c_soft(original_text_l2,counterfactual_text_l2, predict_proba, attributions['target_index'])\n",
        "\n",
        "        val_l2_df.append(val_l2)\n",
        "        soft_l2_df.append(soft_l2)\n",
        "\n",
        "\n",
        "    # Calculate the metrics\n",
        "    map_mean = statistics.mean(mean_MAP)\n",
        "    map_l2 = statistics.mean(l2_MAP)\n",
        "    infidelity_mean = statistics.mean(infidelity_df)\n",
        "    xai_times = [item['elapsed_time'] for item in res]\n",
        "    time_mean = statistics.mean(xai_times)\n",
        "    time_std = statistics.stdev(xai_times)\n",
        "    val_mean = statistics.mean(val_mean_df)\n",
        "    soft_mean = statistics.mean(soft_mean_df)\n",
        "    val_l2 = statistics.mean(val_l2_df)\n",
        "    soft_l2 = statistics.mean(soft_l2_df)\n",
        "\n",
        "    new_row = {\n",
        "        'XAI': method_name,\n",
        "        'MAP Mean': map_mean,\n",
        "        'MAP L2': map_l2,\n",
        "        'Infidelity': infidelity_mean,\n",
        "        'Time Mean': time_mean,\n",
        "        'Time Std': time_std,\n",
        "        'Val Mean': val_mean,\n",
        "        'Val L2': val_l2,\n",
        "        'Soft Mean': soft_mean,\n",
        "        'Soft L2': soft_l2\n",
        "    }\n",
        "\n",
        "    # Convert the new_row dictionary to a DataFrame\n",
        "    new_row_df = pd.DataFrame([new_row])\n",
        "\n",
        "    # Concatenate the new row to the existing DataFrame\n",
        "    df_final = pd.concat([df_final, new_row_df], ignore_index=True)\n",
        "\n",
        "    end_time = time.time()\n",
        "    elapsed_time = end_time - start_time\n",
        "    print(f\"Time: {elapsed_time}\")"
      ]
    },
    {
      "cell_type": "code",
      "execution_count": null,
      "id": "b220ed02-3662-42c4-8f2c-412ce001432d",
      "metadata": {
        "colab": {
          "base_uri": "https://localhost:8080/",
          "height": 398
        },
        "id": "b220ed02-3662-42c4-8f2c-412ce001432d",
        "outputId": "2dabbfcb-5bfd-41bc-adcf-ca22b583a9ef"
      },
      "outputs": [
        {
          "name": "stdout",
          "output_type": "stream",
          "text": [
            "CPU times: user 143 µs, sys: 0 ns, total: 143 µs\n",
            "Wall time: 148 µs\n"
          ]
        },
        {
          "data": {
            "application/vnd.google.colaboratory.intrinsic+json": {
              "summary": "{\n  \"name\": \"get_ipython()\",\n  \"rows\": 10,\n  \"fields\": [\n    {\n      \"column\": \"XAI\",\n      \"properties\": {\n        \"dtype\": \"string\",\n        \"num_unique_values\": 10,\n        \"samples\": [\n          \"GradCAM\",\n          \"Saliency\",\n          \"GuidedBackpropagation\"\n        ],\n        \"semantic_type\": \"\",\n        \"description\": \"\"\n      }\n    },\n    {\n      \"column\": \"MAP Mean\",\n      \"properties\": {\n        \"dtype\": \"number\",\n        \"std\": 0.00647777780176892,\n        \"min\": 0.26773734,\n        \"max\": 0.28370346,\n        \"num_unique_values\": 7,\n        \"samples\": [\n          0.28017837,\n          0.28370346,\n          0.27094604\n        ],\n        \"semantic_type\": \"\",\n        \"description\": \"\"\n      }\n    },\n    {\n      \"column\": \"MAP L2\",\n      \"properties\": {\n        \"dtype\": \"number\",\n        \"std\": 0.0042123514039101055,\n        \"min\": 0.27029211,\n        \"max\": 0.28383972,\n        \"num_unique_values\": 6,\n        \"samples\": [\n          0.28355708,\n          0.28383972,\n          0.28115385\n        ],\n        \"semantic_type\": \"\",\n        \"description\": \"\"\n      }\n    },\n    {\n      \"column\": \"Infidelity\",\n      \"properties\": {\n        \"dtype\": \"number\",\n        \"std\": 3.1316458665266307e-05,\n        \"min\": 2e-07,\n        \"max\": 7.24e-05,\n        \"num_unique_values\": 9,\n        \"samples\": [\n          3.215e-05,\n          6.935e-05,\n          2e-07\n        ],\n        \"semantic_type\": \"\",\n        \"description\": \"\"\n      }\n    },\n    {\n      \"column\": \"Time Mean\",\n      \"properties\": {\n        \"dtype\": \"number\",\n        \"std\": 5.468516394038581,\n        \"min\": 0.00265142,\n        \"max\": 17.30398516,\n        \"num_unique_values\": 10,\n        \"samples\": [\n          0.00567793,\n          0.0029732,\n          0.00267175\n        ],\n        \"semantic_type\": \"\",\n        \"description\": \"\"\n      }\n    },\n    {\n      \"column\": \"Time Std\",\n      \"properties\": {\n        \"dtype\": \"number\",\n        \"std\": 1.23976086144307,\n        \"min\": 0.0002238,\n        \"max\": 3.92238275,\n        \"num_unique_values\": 10,\n        \"samples\": [\n          0.00042785,\n          0.00093046,\n          0.0002238\n        ],\n        \"semantic_type\": \"\",\n        \"description\": \"\"\n      }\n    },\n    {\n      \"column\": \"Val Mean\",\n      \"properties\": {\n        \"dtype\": \"number\",\n        \"std\": 0.0002407730730261265,\n        \"min\": -2.666e-05,\n        \"max\": 0.00047517,\n        \"num_unique_values\": 7,\n        \"samples\": [\n          0.00047517,\n          6.133e-05,\n          5.574e-05\n        ],\n        \"semantic_type\": \"\",\n        \"description\": \"\"\n      }\n    },\n    {\n      \"column\": \"Val L2\",\n      \"properties\": {\n        \"dtype\": \"number\",\n        \"std\": 2.7218130885292048e-05,\n        \"min\": 1.403e-05,\n        \"max\": 0.00010496,\n        \"num_unique_values\": 6,\n        \"samples\": [\n          9.571e-05,\n          6.317e-05,\n          0.00010496\n        ],\n        \"semantic_type\": \"\",\n        \"description\": \"\"\n      }\n    },\n    {\n      \"column\": \"Soft Mean\",\n      \"properties\": {\n        \"dtype\": \"number\",\n        \"std\": 0.2449790648991279,\n        \"min\": -0.03981315,\n        \"max\": 0.48520505,\n        \"num_unique_values\": 7,\n        \"samples\": [\n          0.48520505,\n          0.0645445,\n          0.0645363\n        ],\n        \"semantic_type\": \"\",\n        \"description\": \"\"\n      }\n    },\n    {\n      \"column\": \"Soft L2\",\n      \"properties\": {\n        \"dtype\": \"number\",\n        \"std\": 0.025205297822227527,\n        \"min\": 0.01645578,\n        \"max\": 0.10990239,\n        \"num_unique_values\": 6,\n        \"samples\": [\n          0.08366543,\n          0.06194352,\n          0.10990239\n        ],\n        \"semantic_type\": \"\",\n        \"description\": \"\"\n      }\n    }\n  ]\n}",
              "type": "dataframe"
            },
            "text/html": [
              "\n",
              "  <div id=\"df-1afdca78-7d8f-4101-91fc-71a26869279b\" class=\"colab-df-container\">\n",
              "    <div>\n",
              "<style scoped>\n",
              "    .dataframe tbody tr th:only-of-type {\n",
              "        vertical-align: middle;\n",
              "    }\n",
              "\n",
              "    .dataframe tbody tr th {\n",
              "        vertical-align: top;\n",
              "    }\n",
              "\n",
              "    .dataframe thead th {\n",
              "        text-align: right;\n",
              "    }\n",
              "</style>\n",
              "<table border=\"1\" class=\"dataframe\">\n",
              "  <thead>\n",
              "    <tr style=\"text-align: right;\">\n",
              "      <th></th>\n",
              "      <th>XAI</th>\n",
              "      <th>MAP Mean</th>\n",
              "      <th>MAP L2</th>\n",
              "      <th>Infidelity</th>\n",
              "      <th>Time Mean</th>\n",
              "      <th>Time Std</th>\n",
              "      <th>Val Mean</th>\n",
              "      <th>Val L2</th>\n",
              "      <th>Soft Mean</th>\n",
              "      <th>Soft L2</th>\n",
              "    </tr>\n",
              "  </thead>\n",
              "  <tbody>\n",
              "    <tr>\n",
              "      <th>0</th>\n",
              "      <td>DeepLift</td>\n",
              "      <td>0.280178</td>\n",
              "      <td>0.283557</td>\n",
              "      <td>6.405000e-05</td>\n",
              "      <td>0.004503</td>\n",
              "      <td>0.003268</td>\n",
              "      <td>0.000475</td>\n",
              "      <td>0.000096</td>\n",
              "      <td>0.485205</td>\n",
              "      <td>0.083665</td>\n",
              "    </tr>\n",
              "    <tr>\n",
              "      <th>1</th>\n",
              "      <td>Saliency</td>\n",
              "      <td>0.283703</td>\n",
              "      <td>0.283840</td>\n",
              "      <td>6.935000e-05</td>\n",
              "      <td>0.002973</td>\n",
              "      <td>0.000930</td>\n",
              "      <td>0.000061</td>\n",
              "      <td>0.000063</td>\n",
              "      <td>0.064545</td>\n",
              "      <td>0.061944</td>\n",
              "    </tr>\n",
              "    <tr>\n",
              "      <th>2</th>\n",
              "      <td>Integrated Gradients</td>\n",
              "      <td>0.280203</td>\n",
              "      <td>0.283486</td>\n",
              "      <td>6.490000e-05</td>\n",
              "      <td>0.071171</td>\n",
              "      <td>0.007934</td>\n",
              "      <td>0.000474</td>\n",
              "      <td>0.000099</td>\n",
              "      <td>0.481478</td>\n",
              "      <td>0.094956</td>\n",
              "    </tr>\n",
              "    <tr>\n",
              "      <th>3</th>\n",
              "      <td>InputXGradient</td>\n",
              "      <td>0.280178</td>\n",
              "      <td>0.283557</td>\n",
              "      <td>6.910000e-05</td>\n",
              "      <td>0.002712</td>\n",
              "      <td>0.000309</td>\n",
              "      <td>0.000475</td>\n",
              "      <td>0.000096</td>\n",
              "      <td>0.485205</td>\n",
              "      <td>0.083665</td>\n",
              "    </tr>\n",
              "    <tr>\n",
              "      <th>4</th>\n",
              "      <td>GradL2</td>\n",
              "      <td>0.267827</td>\n",
              "      <td>0.283840</td>\n",
              "      <td>3.000000e-07</td>\n",
              "      <td>0.003253</td>\n",
              "      <td>0.001209</td>\n",
              "      <td>-0.000027</td>\n",
              "      <td>0.000063</td>\n",
              "      <td>-0.039813</td>\n",
              "      <td>0.061944</td>\n",
              "    </tr>\n",
              "    <tr>\n",
              "      <th>5</th>\n",
              "      <td>GuidedBackpropagation</td>\n",
              "      <td>0.267827</td>\n",
              "      <td>0.283840</td>\n",
              "      <td>3.000000e-07</td>\n",
              "      <td>0.002672</td>\n",
              "      <td>0.000224</td>\n",
              "      <td>-0.000027</td>\n",
              "      <td>0.000063</td>\n",
              "      <td>-0.039813</td>\n",
              "      <td>0.061944</td>\n",
              "    </tr>\n",
              "    <tr>\n",
              "      <th>6</th>\n",
              "      <td>Deconvolution</td>\n",
              "      <td>0.267827</td>\n",
              "      <td>0.283840</td>\n",
              "      <td>2.000000e-07</td>\n",
              "      <td>0.002651</td>\n",
              "      <td>0.000256</td>\n",
              "      <td>-0.000027</td>\n",
              "      <td>0.000063</td>\n",
              "      <td>-0.039813</td>\n",
              "      <td>0.061944</td>\n",
              "    </tr>\n",
              "    <tr>\n",
              "      <th>7</th>\n",
              "      <td>Lime</td>\n",
              "      <td>0.267737</td>\n",
              "      <td>0.270292</td>\n",
              "      <td>3.140000e-05</td>\n",
              "      <td>17.303985</td>\n",
              "      <td>3.922383</td>\n",
              "      <td>0.000011</td>\n",
              "      <td>0.000014</td>\n",
              "      <td>0.014871</td>\n",
              "      <td>0.016456</td>\n",
              "    </tr>\n",
              "    <tr>\n",
              "      <th>8</th>\n",
              "      <td>GradCAM</td>\n",
              "      <td>0.270946</td>\n",
              "      <td>0.283157</td>\n",
              "      <td>3.215000e-05</td>\n",
              "      <td>0.005678</td>\n",
              "      <td>0.000428</td>\n",
              "      <td>0.000056</td>\n",
              "      <td>0.000066</td>\n",
              "      <td>0.064536</td>\n",
              "      <td>0.067879</td>\n",
              "    </tr>\n",
              "    <tr>\n",
              "      <th>9</th>\n",
              "      <td>SHAP</td>\n",
              "      <td>0.276594</td>\n",
              "      <td>0.281154</td>\n",
              "      <td>7.240000e-05</td>\n",
              "      <td>0.004722</td>\n",
              "      <td>0.002737</td>\n",
              "      <td>0.000456</td>\n",
              "      <td>0.000105</td>\n",
              "      <td>0.435567</td>\n",
              "      <td>0.109902</td>\n",
              "    </tr>\n",
              "  </tbody>\n",
              "</table>\n",
              "</div>\n",
              "    <div class=\"colab-df-buttons\">\n",
              "\n",
              "  <div class=\"colab-df-container\">\n",
              "    <button class=\"colab-df-convert\" onclick=\"convertToInteractive('df-1afdca78-7d8f-4101-91fc-71a26869279b')\"\n",
              "            title=\"Convert this dataframe to an interactive table.\"\n",
              "            style=\"display:none;\">\n",
              "\n",
              "  <svg xmlns=\"http://www.w3.org/2000/svg\" height=\"24px\" viewBox=\"0 -960 960 960\">\n",
              "    <path d=\"M120-120v-720h720v720H120Zm60-500h600v-160H180v160Zm220 220h160v-160H400v160Zm0 220h160v-160H400v160ZM180-400h160v-160H180v160Zm440 0h160v-160H620v160ZM180-180h160v-160H180v160Zm440 0h160v-160H620v160Z\"/>\n",
              "  </svg>\n",
              "    </button>\n",
              "\n",
              "  <style>\n",
              "    .colab-df-container {\n",
              "      display:flex;\n",
              "      gap: 12px;\n",
              "    }\n",
              "\n",
              "    .colab-df-convert {\n",
              "      background-color: #E8F0FE;\n",
              "      border: none;\n",
              "      border-radius: 50%;\n",
              "      cursor: pointer;\n",
              "      display: none;\n",
              "      fill: #1967D2;\n",
              "      height: 32px;\n",
              "      padding: 0 0 0 0;\n",
              "      width: 32px;\n",
              "    }\n",
              "\n",
              "    .colab-df-convert:hover {\n",
              "      background-color: #E2EBFA;\n",
              "      box-shadow: 0px 1px 2px rgba(60, 64, 67, 0.3), 0px 1px 3px 1px rgba(60, 64, 67, 0.15);\n",
              "      fill: #174EA6;\n",
              "    }\n",
              "\n",
              "    .colab-df-buttons div {\n",
              "      margin-bottom: 4px;\n",
              "    }\n",
              "\n",
              "    [theme=dark] .colab-df-convert {\n",
              "      background-color: #3B4455;\n",
              "      fill: #D2E3FC;\n",
              "    }\n",
              "\n",
              "    [theme=dark] .colab-df-convert:hover {\n",
              "      background-color: #434B5C;\n",
              "      box-shadow: 0px 1px 3px 1px rgba(0, 0, 0, 0.15);\n",
              "      filter: drop-shadow(0px 1px 2px rgba(0, 0, 0, 0.3));\n",
              "      fill: #FFFFFF;\n",
              "    }\n",
              "  </style>\n",
              "\n",
              "    <script>\n",
              "      const buttonEl =\n",
              "        document.querySelector('#df-1afdca78-7d8f-4101-91fc-71a26869279b button.colab-df-convert');\n",
              "      buttonEl.style.display =\n",
              "        google.colab.kernel.accessAllowed ? 'block' : 'none';\n",
              "\n",
              "      async function convertToInteractive(key) {\n",
              "        const element = document.querySelector('#df-1afdca78-7d8f-4101-91fc-71a26869279b');\n",
              "        const dataTable =\n",
              "          await google.colab.kernel.invokeFunction('convertToInteractive',\n",
              "                                                    [key], {});\n",
              "        if (!dataTable) return;\n",
              "\n",
              "        const docLinkHtml = 'Like what you see? Visit the ' +\n",
              "          '<a target=\"_blank\" href=https://colab.research.google.com/notebooks/data_table.ipynb>data table notebook</a>'\n",
              "          + ' to learn more about interactive tables.';\n",
              "        element.innerHTML = '';\n",
              "        dataTable['output_type'] = 'display_data';\n",
              "        await google.colab.output.renderOutput(dataTable, element);\n",
              "        const docLink = document.createElement('div');\n",
              "        docLink.innerHTML = docLinkHtml;\n",
              "        element.appendChild(docLink);\n",
              "      }\n",
              "    </script>\n",
              "  </div>\n",
              "\n",
              "\n",
              "<div id=\"df-502c90ba-1467-4307-974b-dfc1747210cb\">\n",
              "  <button class=\"colab-df-quickchart\" onclick=\"quickchart('df-502c90ba-1467-4307-974b-dfc1747210cb')\"\n",
              "            title=\"Suggest charts\"\n",
              "            style=\"display:none;\">\n",
              "\n",
              "<svg xmlns=\"http://www.w3.org/2000/svg\" height=\"24px\"viewBox=\"0 0 24 24\"\n",
              "     width=\"24px\">\n",
              "    <g>\n",
              "        <path d=\"M19 3H5c-1.1 0-2 .9-2 2v14c0 1.1.9 2 2 2h14c1.1 0 2-.9 2-2V5c0-1.1-.9-2-2-2zM9 17H7v-7h2v7zm4 0h-2V7h2v10zm4 0h-2v-4h2v4z\"/>\n",
              "    </g>\n",
              "</svg>\n",
              "  </button>\n",
              "\n",
              "<style>\n",
              "  .colab-df-quickchart {\n",
              "      --bg-color: #E8F0FE;\n",
              "      --fill-color: #1967D2;\n",
              "      --hover-bg-color: #E2EBFA;\n",
              "      --hover-fill-color: #174EA6;\n",
              "      --disabled-fill-color: #AAA;\n",
              "      --disabled-bg-color: #DDD;\n",
              "  }\n",
              "\n",
              "  [theme=dark] .colab-df-quickchart {\n",
              "      --bg-color: #3B4455;\n",
              "      --fill-color: #D2E3FC;\n",
              "      --hover-bg-color: #434B5C;\n",
              "      --hover-fill-color: #FFFFFF;\n",
              "      --disabled-bg-color: #3B4455;\n",
              "      --disabled-fill-color: #666;\n",
              "  }\n",
              "\n",
              "  .colab-df-quickchart {\n",
              "    background-color: var(--bg-color);\n",
              "    border: none;\n",
              "    border-radius: 50%;\n",
              "    cursor: pointer;\n",
              "    display: none;\n",
              "    fill: var(--fill-color);\n",
              "    height: 32px;\n",
              "    padding: 0;\n",
              "    width: 32px;\n",
              "  }\n",
              "\n",
              "  .colab-df-quickchart:hover {\n",
              "    background-color: var(--hover-bg-color);\n",
              "    box-shadow: 0 1px 2px rgba(60, 64, 67, 0.3), 0 1px 3px 1px rgba(60, 64, 67, 0.15);\n",
              "    fill: var(--button-hover-fill-color);\n",
              "  }\n",
              "\n",
              "  .colab-df-quickchart-complete:disabled,\n",
              "  .colab-df-quickchart-complete:disabled:hover {\n",
              "    background-color: var(--disabled-bg-color);\n",
              "    fill: var(--disabled-fill-color);\n",
              "    box-shadow: none;\n",
              "  }\n",
              "\n",
              "  .colab-df-spinner {\n",
              "    border: 2px solid var(--fill-color);\n",
              "    border-color: transparent;\n",
              "    border-bottom-color: var(--fill-color);\n",
              "    animation:\n",
              "      spin 1s steps(1) infinite;\n",
              "  }\n",
              "\n",
              "  @keyframes spin {\n",
              "    0% {\n",
              "      border-color: transparent;\n",
              "      border-bottom-color: var(--fill-color);\n",
              "      border-left-color: var(--fill-color);\n",
              "    }\n",
              "    20% {\n",
              "      border-color: transparent;\n",
              "      border-left-color: var(--fill-color);\n",
              "      border-top-color: var(--fill-color);\n",
              "    }\n",
              "    30% {\n",
              "      border-color: transparent;\n",
              "      border-left-color: var(--fill-color);\n",
              "      border-top-color: var(--fill-color);\n",
              "      border-right-color: var(--fill-color);\n",
              "    }\n",
              "    40% {\n",
              "      border-color: transparent;\n",
              "      border-right-color: var(--fill-color);\n",
              "      border-top-color: var(--fill-color);\n",
              "    }\n",
              "    60% {\n",
              "      border-color: transparent;\n",
              "      border-right-color: var(--fill-color);\n",
              "    }\n",
              "    80% {\n",
              "      border-color: transparent;\n",
              "      border-right-color: var(--fill-color);\n",
              "      border-bottom-color: var(--fill-color);\n",
              "    }\n",
              "    90% {\n",
              "      border-color: transparent;\n",
              "      border-bottom-color: var(--fill-color);\n",
              "    }\n",
              "  }\n",
              "</style>\n",
              "\n",
              "  <script>\n",
              "    async function quickchart(key) {\n",
              "      const quickchartButtonEl =\n",
              "        document.querySelector('#' + key + ' button');\n",
              "      quickchartButtonEl.disabled = true;  // To prevent multiple clicks.\n",
              "      quickchartButtonEl.classList.add('colab-df-spinner');\n",
              "      try {\n",
              "        const charts = await google.colab.kernel.invokeFunction(\n",
              "            'suggestCharts', [key], {});\n",
              "      } catch (error) {\n",
              "        console.error('Error during call to suggestCharts:', error);\n",
              "      }\n",
              "      quickchartButtonEl.classList.remove('colab-df-spinner');\n",
              "      quickchartButtonEl.classList.add('colab-df-quickchart-complete');\n",
              "    }\n",
              "    (() => {\n",
              "      let quickchartButtonEl =\n",
              "        document.querySelector('#df-502c90ba-1467-4307-974b-dfc1747210cb button');\n",
              "      quickchartButtonEl.style.display =\n",
              "        google.colab.kernel.accessAllowed ? 'block' : 'none';\n",
              "    })();\n",
              "  </script>\n",
              "</div>\n",
              "\n",
              "    </div>\n",
              "  </div>\n"
            ],
            "text/plain": [
              "                     XAI  MAP Mean    MAP L2    Infidelity  Time Mean  \\\n",
              "0               DeepLift  0.280178  0.283557  6.405000e-05   0.004503   \n",
              "1               Saliency  0.283703  0.283840  6.935000e-05   0.002973   \n",
              "2   Integrated Gradients  0.280203  0.283486  6.490000e-05   0.071171   \n",
              "3         InputXGradient  0.280178  0.283557  6.910000e-05   0.002712   \n",
              "4                 GradL2  0.267827  0.283840  3.000000e-07   0.003253   \n",
              "5  GuidedBackpropagation  0.267827  0.283840  3.000000e-07   0.002672   \n",
              "6          Deconvolution  0.267827  0.283840  2.000000e-07   0.002651   \n",
              "7                   Lime  0.267737  0.270292  3.140000e-05  17.303985   \n",
              "8                GradCAM  0.270946  0.283157  3.215000e-05   0.005678   \n",
              "9                   SHAP  0.276594  0.281154  7.240000e-05   0.004722   \n",
              "\n",
              "   Time Std  Val Mean    Val L2  Soft Mean   Soft L2  \n",
              "0  0.003268  0.000475  0.000096   0.485205  0.083665  \n",
              "1  0.000930  0.000061  0.000063   0.064545  0.061944  \n",
              "2  0.007934  0.000474  0.000099   0.481478  0.094956  \n",
              "3  0.000309  0.000475  0.000096   0.485205  0.083665  \n",
              "4  0.001209 -0.000027  0.000063  -0.039813  0.061944  \n",
              "5  0.000224 -0.000027  0.000063  -0.039813  0.061944  \n",
              "6  0.000256 -0.000027  0.000063  -0.039813  0.061944  \n",
              "7  3.922383  0.000011  0.000014   0.014871  0.016456  \n",
              "8  0.000428  0.000056  0.000066   0.064536  0.067879  \n",
              "9  0.002737  0.000456  0.000105   0.435567  0.109902  "
            ]
          },
          "execution_count": 42,
          "metadata": {},
          "output_type": "execute_result"
        }
      ],
      "source": [
        "%%time\n",
        "\n",
        "df_final.round(8)"
      ]
    },
    {
      "cell_type": "code",
      "execution_count": null,
      "id": "43a0ce18-2635-4123-8767-65eb4554ea54",
      "metadata": {
        "id": "43a0ce18-2635-4123-8767-65eb4554ea54"
      },
      "outputs": [],
      "source": []
    }
  ],
  "metadata": {
    "accelerator": "GPU",
    "colab": {
      "gpuType": "L4",
      "machine_shape": "hm",
      "provenance": []
    },
    "kernelspec": {
      "display_name": "Python 3",
      "name": "python3"
    },
    "language_info": {
      "codemirror_mode": {
        "name": "ipython",
        "version": 3
      },
      "file_extension": ".py",
      "mimetype": "text/x-python",
      "name": "python",
      "nbconvert_exporter": "python",
      "pygments_lexer": "ipython3",
      "version": "3.12.0"
    },
    "widgets": {
      "application/vnd.jupyter.widget-state+json": {
        "020552fb765c4616ac078a7af5fb83f8": {
          "model_module": "@jupyter-widgets/controls",
          "model_module_version": "1.5.0",
          "model_name": "DescriptionStyleModel",
          "state": {
            "_model_module": "@jupyter-widgets/controls",
            "_model_module_version": "1.5.0",
            "_model_name": "DescriptionStyleModel",
            "_view_count": null,
            "_view_module": "@jupyter-widgets/base",
            "_view_module_version": "1.2.0",
            "_view_name": "StyleView",
            "description_width": ""
          }
        },
        "09f8c27423fd4e3da56af8a751216852": {
          "model_module": "@jupyter-widgets/controls",
          "model_module_version": "1.5.0",
          "model_name": "HTMLModel",
          "state": {
            "_dom_classes": [],
            "_model_module": "@jupyter-widgets/controls",
            "_model_module_version": "1.5.0",
            "_model_name": "HTMLModel",
            "_view_count": null,
            "_view_module": "@jupyter-widgets/controls",
            "_view_module_version": "1.5.0",
            "_view_name": "HTMLView",
            "description": "",
            "description_tooltip": null,
            "layout": "IPY_MODEL_bcbf8ebf47de41598ebe15a506bfdecf",
            "placeholder": "​",
            "style": "IPY_MODEL_ff93734236d341898384d1538a134caa",
            "value": "config.json: 100%"
          }
        },
        "142138516479402a859d38268a10ddea": {
          "model_module": "@jupyter-widgets/controls",
          "model_module_version": "1.5.0",
          "model_name": "ProgressStyleModel",
          "state": {
            "_model_module": "@jupyter-widgets/controls",
            "_model_module_version": "1.5.0",
            "_model_name": "ProgressStyleModel",
            "_view_count": null,
            "_view_module": "@jupyter-widgets/base",
            "_view_module_version": "1.2.0",
            "_view_name": "StyleView",
            "bar_color": null,
            "description_width": ""
          }
        },
        "22225990f69d412ca1c457df9db022d6": {
          "model_module": "@jupyter-widgets/base",
          "model_module_version": "1.2.0",
          "model_name": "LayoutModel",
          "state": {
            "_model_module": "@jupyter-widgets/base",
            "_model_module_version": "1.2.0",
            "_model_name": "LayoutModel",
            "_view_count": null,
            "_view_module": "@jupyter-widgets/base",
            "_view_module_version": "1.2.0",
            "_view_name": "LayoutView",
            "align_content": null,
            "align_items": null,
            "align_self": null,
            "border": null,
            "bottom": null,
            "display": null,
            "flex": null,
            "flex_flow": null,
            "grid_area": null,
            "grid_auto_columns": null,
            "grid_auto_flow": null,
            "grid_auto_rows": null,
            "grid_column": null,
            "grid_gap": null,
            "grid_row": null,
            "grid_template_areas": null,
            "grid_template_columns": null,
            "grid_template_rows": null,
            "height": null,
            "justify_content": null,
            "justify_items": null,
            "left": null,
            "margin": null,
            "max_height": null,
            "max_width": null,
            "min_height": null,
            "min_width": null,
            "object_fit": null,
            "object_position": null,
            "order": null,
            "overflow": null,
            "overflow_x": null,
            "overflow_y": null,
            "padding": null,
            "right": null,
            "top": null,
            "visibility": null,
            "width": null
          }
        },
        "24fe0595a6e0423e98c353acc5086a1f": {
          "model_module": "@jupyter-widgets/base",
          "model_module_version": "1.2.0",
          "model_name": "LayoutModel",
          "state": {
            "_model_module": "@jupyter-widgets/base",
            "_model_module_version": "1.2.0",
            "_model_name": "LayoutModel",
            "_view_count": null,
            "_view_module": "@jupyter-widgets/base",
            "_view_module_version": "1.2.0",
            "_view_name": "LayoutView",
            "align_content": null,
            "align_items": null,
            "align_self": null,
            "border": null,
            "bottom": null,
            "display": null,
            "flex": null,
            "flex_flow": null,
            "grid_area": null,
            "grid_auto_columns": null,
            "grid_auto_flow": null,
            "grid_auto_rows": null,
            "grid_column": null,
            "grid_gap": null,
            "grid_row": null,
            "grid_template_areas": null,
            "grid_template_columns": null,
            "grid_template_rows": null,
            "height": null,
            "justify_content": null,
            "justify_items": null,
            "left": null,
            "margin": null,
            "max_height": null,
            "max_width": null,
            "min_height": null,
            "min_width": null,
            "object_fit": null,
            "object_position": null,
            "order": null,
            "overflow": null,
            "overflow_x": null,
            "overflow_y": null,
            "padding": null,
            "right": null,
            "top": null,
            "visibility": null,
            "width": null
          }
        },
        "26ed0f642f05423894c0657b7303cae9": {
          "model_module": "@jupyter-widgets/base",
          "model_module_version": "1.2.0",
          "model_name": "LayoutModel",
          "state": {
            "_model_module": "@jupyter-widgets/base",
            "_model_module_version": "1.2.0",
            "_model_name": "LayoutModel",
            "_view_count": null,
            "_view_module": "@jupyter-widgets/base",
            "_view_module_version": "1.2.0",
            "_view_name": "LayoutView",
            "align_content": null,
            "align_items": null,
            "align_self": null,
            "border": null,
            "bottom": null,
            "display": null,
            "flex": null,
            "flex_flow": null,
            "grid_area": null,
            "grid_auto_columns": null,
            "grid_auto_flow": null,
            "grid_auto_rows": null,
            "grid_column": null,
            "grid_gap": null,
            "grid_row": null,
            "grid_template_areas": null,
            "grid_template_columns": null,
            "grid_template_rows": null,
            "height": null,
            "justify_content": null,
            "justify_items": null,
            "left": null,
            "margin": null,
            "max_height": null,
            "max_width": null,
            "min_height": null,
            "min_width": null,
            "object_fit": null,
            "object_position": null,
            "order": null,
            "overflow": null,
            "overflow_x": null,
            "overflow_y": null,
            "padding": null,
            "right": null,
            "top": null,
            "visibility": null,
            "width": null
          }
        },
        "26fc4b165f5749fb944be31ce13c80ce": {
          "model_module": "@jupyter-widgets/controls",
          "model_module_version": "1.5.0",
          "model_name": "HTMLModel",
          "state": {
            "_dom_classes": [],
            "_model_module": "@jupyter-widgets/controls",
            "_model_module_version": "1.5.0",
            "_model_name": "HTMLModel",
            "_view_count": null,
            "_view_module": "@jupyter-widgets/controls",
            "_view_module_version": "1.5.0",
            "_view_name": "HTMLView",
            "description": "",
            "description_tooltip": null,
            "layout": "IPY_MODEL_fc0c248fff1644728661e663bd707e5a",
            "placeholder": "​",
            "style": "IPY_MODEL_6a2cc8de0bb34dfe8c7f5d49a0f48c80",
            "value": "model.safetensors: 100%"
          }
        },
        "272636882f384dad8127f386a1b35af3": {
          "model_module": "@jupyter-widgets/base",
          "model_module_version": "1.2.0",
          "model_name": "LayoutModel",
          "state": {
            "_model_module": "@jupyter-widgets/base",
            "_model_module_version": "1.2.0",
            "_model_name": "LayoutModel",
            "_view_count": null,
            "_view_module": "@jupyter-widgets/base",
            "_view_module_version": "1.2.0",
            "_view_name": "LayoutView",
            "align_content": null,
            "align_items": null,
            "align_self": null,
            "border": null,
            "bottom": null,
            "display": null,
            "flex": null,
            "flex_flow": null,
            "grid_area": null,
            "grid_auto_columns": null,
            "grid_auto_flow": null,
            "grid_auto_rows": null,
            "grid_column": null,
            "grid_gap": null,
            "grid_row": null,
            "grid_template_areas": null,
            "grid_template_columns": null,
            "grid_template_rows": null,
            "height": null,
            "justify_content": null,
            "justify_items": null,
            "left": null,
            "margin": null,
            "max_height": null,
            "max_width": null,
            "min_height": null,
            "min_width": null,
            "object_fit": null,
            "object_position": null,
            "order": null,
            "overflow": null,
            "overflow_x": null,
            "overflow_y": null,
            "padding": null,
            "right": null,
            "top": null,
            "visibility": null,
            "width": null
          }
        },
        "3070a642dd3145aa9cc93f1d81cc6077": {
          "model_module": "@jupyter-widgets/controls",
          "model_module_version": "1.5.0",
          "model_name": "ProgressStyleModel",
          "state": {
            "_model_module": "@jupyter-widgets/controls",
            "_model_module_version": "1.5.0",
            "_model_name": "ProgressStyleModel",
            "_view_count": null,
            "_view_module": "@jupyter-widgets/base",
            "_view_module_version": "1.2.0",
            "_view_name": "StyleView",
            "bar_color": null,
            "description_width": ""
          }
        },
        "31d2ca3d9c4546fea259248f22625453": {
          "model_module": "@jupyter-widgets/base",
          "model_module_version": "1.2.0",
          "model_name": "LayoutModel",
          "state": {
            "_model_module": "@jupyter-widgets/base",
            "_model_module_version": "1.2.0",
            "_model_name": "LayoutModel",
            "_view_count": null,
            "_view_module": "@jupyter-widgets/base",
            "_view_module_version": "1.2.0",
            "_view_name": "LayoutView",
            "align_content": null,
            "align_items": null,
            "align_self": null,
            "border": null,
            "bottom": null,
            "display": null,
            "flex": null,
            "flex_flow": null,
            "grid_area": null,
            "grid_auto_columns": null,
            "grid_auto_flow": null,
            "grid_auto_rows": null,
            "grid_column": null,
            "grid_gap": null,
            "grid_row": null,
            "grid_template_areas": null,
            "grid_template_columns": null,
            "grid_template_rows": null,
            "height": null,
            "justify_content": null,
            "justify_items": null,
            "left": null,
            "margin": null,
            "max_height": null,
            "max_width": null,
            "min_height": null,
            "min_width": null,
            "object_fit": null,
            "object_position": null,
            "order": null,
            "overflow": null,
            "overflow_x": null,
            "overflow_y": null,
            "padding": null,
            "right": null,
            "top": null,
            "visibility": null,
            "width": null
          }
        },
        "38e0d664921e4c36a04ccfd835c83822": {
          "model_module": "@jupyter-widgets/controls",
          "model_module_version": "1.5.0",
          "model_name": "DescriptionStyleModel",
          "state": {
            "_model_module": "@jupyter-widgets/controls",
            "_model_module_version": "1.5.0",
            "_model_name": "DescriptionStyleModel",
            "_view_count": null,
            "_view_module": "@jupyter-widgets/base",
            "_view_module_version": "1.2.0",
            "_view_name": "StyleView",
            "description_width": ""
          }
        },
        "40805ed0940345c192ab0be92b332b1c": {
          "model_module": "@jupyter-widgets/controls",
          "model_module_version": "1.5.0",
          "model_name": "DescriptionStyleModel",
          "state": {
            "_model_module": "@jupyter-widgets/controls",
            "_model_module_version": "1.5.0",
            "_model_name": "DescriptionStyleModel",
            "_view_count": null,
            "_view_module": "@jupyter-widgets/base",
            "_view_module_version": "1.2.0",
            "_view_name": "StyleView",
            "description_width": ""
          }
        },
        "43b87f66b0b24888a371545996a104f9": {
          "model_module": "@jupyter-widgets/controls",
          "model_module_version": "1.5.0",
          "model_name": "HTMLModel",
          "state": {
            "_dom_classes": [],
            "_model_module": "@jupyter-widgets/controls",
            "_model_module_version": "1.5.0",
            "_model_name": "HTMLModel",
            "_view_count": null,
            "_view_module": "@jupyter-widgets/controls",
            "_view_module_version": "1.5.0",
            "_view_name": "HTMLView",
            "description": "",
            "description_tooltip": null,
            "layout": "IPY_MODEL_c54203dc234948c28dcc3ce92e148d73",
            "placeholder": "​",
            "style": "IPY_MODEL_74d044cb35464ff0971f16b82c9adfe8",
            "value": " 440M/440M [00:01&lt;00:00, 435MB/s]"
          }
        },
        "469e0ce1191e4dc4ade7852308db61c4": {
          "model_module": "@jupyter-widgets/controls",
          "model_module_version": "1.5.0",
          "model_name": "HBoxModel",
          "state": {
            "_dom_classes": [],
            "_model_module": "@jupyter-widgets/controls",
            "_model_module_version": "1.5.0",
            "_model_name": "HBoxModel",
            "_view_count": null,
            "_view_module": "@jupyter-widgets/controls",
            "_view_module_version": "1.5.0",
            "_view_name": "HBoxView",
            "box_style": "",
            "children": [
              "IPY_MODEL_26fc4b165f5749fb944be31ce13c80ce",
              "IPY_MODEL_57b050c110484865b6e7ce50cd227485",
              "IPY_MODEL_43b87f66b0b24888a371545996a104f9"
            ],
            "layout": "IPY_MODEL_53d77bb893fd41f4a543ad7d2b557bac"
          }
        },
        "46c1f0b60e7049539ff326243f3fe651": {
          "model_module": "@jupyter-widgets/controls",
          "model_module_version": "1.5.0",
          "model_name": "HBoxModel",
          "state": {
            "_dom_classes": [],
            "_model_module": "@jupyter-widgets/controls",
            "_model_module_version": "1.5.0",
            "_model_name": "HBoxModel",
            "_view_count": null,
            "_view_module": "@jupyter-widgets/controls",
            "_view_module_version": "1.5.0",
            "_view_name": "HBoxView",
            "box_style": "",
            "children": [
              "IPY_MODEL_09f8c27423fd4e3da56af8a751216852",
              "IPY_MODEL_8abe43142a9d428e9c5d6ee646a2f43d",
              "IPY_MODEL_9c9d0d97036446d992e1fc2e69e05590"
            ],
            "layout": "IPY_MODEL_6df625064539466f9d8e52b23fb9de72"
          }
        },
        "4e7abd5da10e449eac73621762789d9b": {
          "model_module": "@jupyter-widgets/controls",
          "model_module_version": "1.5.0",
          "model_name": "DescriptionStyleModel",
          "state": {
            "_model_module": "@jupyter-widgets/controls",
            "_model_module_version": "1.5.0",
            "_model_name": "DescriptionStyleModel",
            "_view_count": null,
            "_view_module": "@jupyter-widgets/base",
            "_view_module_version": "1.2.0",
            "_view_name": "StyleView",
            "description_width": ""
          }
        },
        "53d77bb893fd41f4a543ad7d2b557bac": {
          "model_module": "@jupyter-widgets/base",
          "model_module_version": "1.2.0",
          "model_name": "LayoutModel",
          "state": {
            "_model_module": "@jupyter-widgets/base",
            "_model_module_version": "1.2.0",
            "_model_name": "LayoutModel",
            "_view_count": null,
            "_view_module": "@jupyter-widgets/base",
            "_view_module_version": "1.2.0",
            "_view_name": "LayoutView",
            "align_content": null,
            "align_items": null,
            "align_self": null,
            "border": null,
            "bottom": null,
            "display": null,
            "flex": null,
            "flex_flow": null,
            "grid_area": null,
            "grid_auto_columns": null,
            "grid_auto_flow": null,
            "grid_auto_rows": null,
            "grid_column": null,
            "grid_gap": null,
            "grid_row": null,
            "grid_template_areas": null,
            "grid_template_columns": null,
            "grid_template_rows": null,
            "height": null,
            "justify_content": null,
            "justify_items": null,
            "left": null,
            "margin": null,
            "max_height": null,
            "max_width": null,
            "min_height": null,
            "min_width": null,
            "object_fit": null,
            "object_position": null,
            "order": null,
            "overflow": null,
            "overflow_x": null,
            "overflow_y": null,
            "padding": null,
            "right": null,
            "top": null,
            "visibility": null,
            "width": null
          }
        },
        "53f57048a6154bb48b48079f8ef34467": {
          "model_module": "@jupyter-widgets/base",
          "model_module_version": "1.2.0",
          "model_name": "LayoutModel",
          "state": {
            "_model_module": "@jupyter-widgets/base",
            "_model_module_version": "1.2.0",
            "_model_name": "LayoutModel",
            "_view_count": null,
            "_view_module": "@jupyter-widgets/base",
            "_view_module_version": "1.2.0",
            "_view_name": "LayoutView",
            "align_content": null,
            "align_items": null,
            "align_self": null,
            "border": null,
            "bottom": null,
            "display": null,
            "flex": null,
            "flex_flow": null,
            "grid_area": null,
            "grid_auto_columns": null,
            "grid_auto_flow": null,
            "grid_auto_rows": null,
            "grid_column": null,
            "grid_gap": null,
            "grid_row": null,
            "grid_template_areas": null,
            "grid_template_columns": null,
            "grid_template_rows": null,
            "height": null,
            "justify_content": null,
            "justify_items": null,
            "left": null,
            "margin": null,
            "max_height": null,
            "max_width": null,
            "min_height": null,
            "min_width": null,
            "object_fit": null,
            "object_position": null,
            "order": null,
            "overflow": null,
            "overflow_x": null,
            "overflow_y": null,
            "padding": null,
            "right": null,
            "top": null,
            "visibility": null,
            "width": null
          }
        },
        "56fc6cfab75142f8a0209473500b2a12": {
          "model_module": "@jupyter-widgets/base",
          "model_module_version": "1.2.0",
          "model_name": "LayoutModel",
          "state": {
            "_model_module": "@jupyter-widgets/base",
            "_model_module_version": "1.2.0",
            "_model_name": "LayoutModel",
            "_view_count": null,
            "_view_module": "@jupyter-widgets/base",
            "_view_module_version": "1.2.0",
            "_view_name": "LayoutView",
            "align_content": null,
            "align_items": null,
            "align_self": null,
            "border": null,
            "bottom": null,
            "display": null,
            "flex": null,
            "flex_flow": null,
            "grid_area": null,
            "grid_auto_columns": null,
            "grid_auto_flow": null,
            "grid_auto_rows": null,
            "grid_column": null,
            "grid_gap": null,
            "grid_row": null,
            "grid_template_areas": null,
            "grid_template_columns": null,
            "grid_template_rows": null,
            "height": null,
            "justify_content": null,
            "justify_items": null,
            "left": null,
            "margin": null,
            "max_height": null,
            "max_width": null,
            "min_height": null,
            "min_width": null,
            "object_fit": null,
            "object_position": null,
            "order": null,
            "overflow": null,
            "overflow_x": null,
            "overflow_y": null,
            "padding": null,
            "right": null,
            "top": null,
            "visibility": null,
            "width": null
          }
        },
        "57b050c110484865b6e7ce50cd227485": {
          "model_module": "@jupyter-widgets/controls",
          "model_module_version": "1.5.0",
          "model_name": "FloatProgressModel",
          "state": {
            "_dom_classes": [],
            "_model_module": "@jupyter-widgets/controls",
            "_model_module_version": "1.5.0",
            "_model_name": "FloatProgressModel",
            "_view_count": null,
            "_view_module": "@jupyter-widgets/controls",
            "_view_module_version": "1.5.0",
            "_view_name": "ProgressView",
            "bar_style": "success",
            "description": "",
            "description_tooltip": null,
            "layout": "IPY_MODEL_97a1c4142cb74def9e530d9d0538be6d",
            "max": 440449768,
            "min": 0,
            "orientation": "horizontal",
            "style": "IPY_MODEL_e193cd209fb748b19b18c074723301b4",
            "value": 440449768
          }
        },
        "57e9638c4c7e4ce0aebe1aefc4e0ac8b": {
          "model_module": "@jupyter-widgets/controls",
          "model_module_version": "1.5.0",
          "model_name": "ProgressStyleModel",
          "state": {
            "_model_module": "@jupyter-widgets/controls",
            "_model_module_version": "1.5.0",
            "_model_name": "ProgressStyleModel",
            "_view_count": null,
            "_view_module": "@jupyter-widgets/base",
            "_view_module_version": "1.2.0",
            "_view_name": "StyleView",
            "bar_color": null,
            "description_width": ""
          }
        },
        "58d129803a88402190b0dc6890446ea5": {
          "model_module": "@jupyter-widgets/controls",
          "model_module_version": "1.5.0",
          "model_name": "HTMLModel",
          "state": {
            "_dom_classes": [],
            "_model_module": "@jupyter-widgets/controls",
            "_model_module_version": "1.5.0",
            "_model_name": "HTMLModel",
            "_view_count": null,
            "_view_module": "@jupyter-widgets/controls",
            "_view_module_version": "1.5.0",
            "_view_name": "HTMLView",
            "description": "",
            "description_tooltip": null,
            "layout": "IPY_MODEL_272636882f384dad8127f386a1b35af3",
            "placeholder": "​",
            "style": "IPY_MODEL_4e7abd5da10e449eac73621762789d9b",
            "value": " 466k/466k [00:00&lt;00:00, 2.03MB/s]"
          }
        },
        "5ae4b4909a8246fc8efc2e25633feb98": {
          "model_module": "@jupyter-widgets/controls",
          "model_module_version": "1.5.0",
          "model_name": "FloatProgressModel",
          "state": {
            "_dom_classes": [],
            "_model_module": "@jupyter-widgets/controls",
            "_model_module_version": "1.5.0",
            "_model_name": "FloatProgressModel",
            "_view_count": null,
            "_view_module": "@jupyter-widgets/controls",
            "_view_module_version": "1.5.0",
            "_view_name": "ProgressView",
            "bar_style": "success",
            "description": "",
            "description_tooltip": null,
            "layout": "IPY_MODEL_f29dccf32ac844b29effdb77f95d94fe",
            "max": 466062,
            "min": 0,
            "orientation": "horizontal",
            "style": "IPY_MODEL_ec65c70288634f6290d22c8b77c6f75f",
            "value": 466062
          }
        },
        "5d57ef02f723471597b786a71b63500a": {
          "model_module": "@jupyter-widgets/base",
          "model_module_version": "1.2.0",
          "model_name": "LayoutModel",
          "state": {
            "_model_module": "@jupyter-widgets/base",
            "_model_module_version": "1.2.0",
            "_model_name": "LayoutModel",
            "_view_count": null,
            "_view_module": "@jupyter-widgets/base",
            "_view_module_version": "1.2.0",
            "_view_name": "LayoutView",
            "align_content": null,
            "align_items": null,
            "align_self": null,
            "border": null,
            "bottom": null,
            "display": null,
            "flex": null,
            "flex_flow": null,
            "grid_area": null,
            "grid_auto_columns": null,
            "grid_auto_flow": null,
            "grid_auto_rows": null,
            "grid_column": null,
            "grid_gap": null,
            "grid_row": null,
            "grid_template_areas": null,
            "grid_template_columns": null,
            "grid_template_rows": null,
            "height": null,
            "justify_content": null,
            "justify_items": null,
            "left": null,
            "margin": null,
            "max_height": null,
            "max_width": null,
            "min_height": null,
            "min_width": null,
            "object_fit": null,
            "object_position": null,
            "order": null,
            "overflow": null,
            "overflow_x": null,
            "overflow_y": null,
            "padding": null,
            "right": null,
            "top": null,
            "visibility": null,
            "width": null
          }
        },
        "6a2cc8de0bb34dfe8c7f5d49a0f48c80": {
          "model_module": "@jupyter-widgets/controls",
          "model_module_version": "1.5.0",
          "model_name": "DescriptionStyleModel",
          "state": {
            "_model_module": "@jupyter-widgets/controls",
            "_model_module_version": "1.5.0",
            "_model_name": "DescriptionStyleModel",
            "_view_count": null,
            "_view_module": "@jupyter-widgets/base",
            "_view_module_version": "1.2.0",
            "_view_name": "StyleView",
            "description_width": ""
          }
        },
        "6a4ee3c82dc4467e99cbe3b96e267169": {
          "model_module": "@jupyter-widgets/controls",
          "model_module_version": "1.5.0",
          "model_name": "FloatProgressModel",
          "state": {
            "_dom_classes": [],
            "_model_module": "@jupyter-widgets/controls",
            "_model_module_version": "1.5.0",
            "_model_name": "FloatProgressModel",
            "_view_count": null,
            "_view_module": "@jupyter-widgets/controls",
            "_view_module_version": "1.5.0",
            "_view_name": "ProgressView",
            "bar_style": "success",
            "description": "",
            "description_tooltip": null,
            "layout": "IPY_MODEL_31d2ca3d9c4546fea259248f22625453",
            "max": 48,
            "min": 0,
            "orientation": "horizontal",
            "style": "IPY_MODEL_3070a642dd3145aa9cc93f1d81cc6077",
            "value": 48
          }
        },
        "6ac3d91e10704091b13aec0ef0f4a5aa": {
          "model_module": "@jupyter-widgets/controls",
          "model_module_version": "1.5.0",
          "model_name": "HTMLModel",
          "state": {
            "_dom_classes": [],
            "_model_module": "@jupyter-widgets/controls",
            "_model_module_version": "1.5.0",
            "_model_name": "HTMLModel",
            "_view_count": null,
            "_view_module": "@jupyter-widgets/controls",
            "_view_module_version": "1.5.0",
            "_view_name": "HTMLView",
            "description": "",
            "description_tooltip": null,
            "layout": "IPY_MODEL_7e064242073f4b8e83e28ce3cf20f208",
            "placeholder": "​",
            "style": "IPY_MODEL_9a2553bece90462fb9358708bf8e3e7b",
            "value": " 48.0/48.0 [00:00&lt;00:00, 3.55kB/s]"
          }
        },
        "6df625064539466f9d8e52b23fb9de72": {
          "model_module": "@jupyter-widgets/base",
          "model_module_version": "1.2.0",
          "model_name": "LayoutModel",
          "state": {
            "_model_module": "@jupyter-widgets/base",
            "_model_module_version": "1.2.0",
            "_model_name": "LayoutModel",
            "_view_count": null,
            "_view_module": "@jupyter-widgets/base",
            "_view_module_version": "1.2.0",
            "_view_name": "LayoutView",
            "align_content": null,
            "align_items": null,
            "align_self": null,
            "border": null,
            "bottom": null,
            "display": null,
            "flex": null,
            "flex_flow": null,
            "grid_area": null,
            "grid_auto_columns": null,
            "grid_auto_flow": null,
            "grid_auto_rows": null,
            "grid_column": null,
            "grid_gap": null,
            "grid_row": null,
            "grid_template_areas": null,
            "grid_template_columns": null,
            "grid_template_rows": null,
            "height": null,
            "justify_content": null,
            "justify_items": null,
            "left": null,
            "margin": null,
            "max_height": null,
            "max_width": null,
            "min_height": null,
            "min_width": null,
            "object_fit": null,
            "object_position": null,
            "order": null,
            "overflow": null,
            "overflow_x": null,
            "overflow_y": null,
            "padding": null,
            "right": null,
            "top": null,
            "visibility": null,
            "width": null
          }
        },
        "74d044cb35464ff0971f16b82c9adfe8": {
          "model_module": "@jupyter-widgets/controls",
          "model_module_version": "1.5.0",
          "model_name": "DescriptionStyleModel",
          "state": {
            "_model_module": "@jupyter-widgets/controls",
            "_model_module_version": "1.5.0",
            "_model_name": "DescriptionStyleModel",
            "_view_count": null,
            "_view_module": "@jupyter-widgets/base",
            "_view_module_version": "1.2.0",
            "_view_name": "StyleView",
            "description_width": ""
          }
        },
        "7e064242073f4b8e83e28ce3cf20f208": {
          "model_module": "@jupyter-widgets/base",
          "model_module_version": "1.2.0",
          "model_name": "LayoutModel",
          "state": {
            "_model_module": "@jupyter-widgets/base",
            "_model_module_version": "1.2.0",
            "_model_name": "LayoutModel",
            "_view_count": null,
            "_view_module": "@jupyter-widgets/base",
            "_view_module_version": "1.2.0",
            "_view_name": "LayoutView",
            "align_content": null,
            "align_items": null,
            "align_self": null,
            "border": null,
            "bottom": null,
            "display": null,
            "flex": null,
            "flex_flow": null,
            "grid_area": null,
            "grid_auto_columns": null,
            "grid_auto_flow": null,
            "grid_auto_rows": null,
            "grid_column": null,
            "grid_gap": null,
            "grid_row": null,
            "grid_template_areas": null,
            "grid_template_columns": null,
            "grid_template_rows": null,
            "height": null,
            "justify_content": null,
            "justify_items": null,
            "left": null,
            "margin": null,
            "max_height": null,
            "max_width": null,
            "min_height": null,
            "min_width": null,
            "object_fit": null,
            "object_position": null,
            "order": null,
            "overflow": null,
            "overflow_x": null,
            "overflow_y": null,
            "padding": null,
            "right": null,
            "top": null,
            "visibility": null,
            "width": null
          }
        },
        "8912815d2636483a844b637c5470c422": {
          "model_module": "@jupyter-widgets/base",
          "model_module_version": "1.2.0",
          "model_name": "LayoutModel",
          "state": {
            "_model_module": "@jupyter-widgets/base",
            "_model_module_version": "1.2.0",
            "_model_name": "LayoutModel",
            "_view_count": null,
            "_view_module": "@jupyter-widgets/base",
            "_view_module_version": "1.2.0",
            "_view_name": "LayoutView",
            "align_content": null,
            "align_items": null,
            "align_self": null,
            "border": null,
            "bottom": null,
            "display": null,
            "flex": null,
            "flex_flow": null,
            "grid_area": null,
            "grid_auto_columns": null,
            "grid_auto_flow": null,
            "grid_auto_rows": null,
            "grid_column": null,
            "grid_gap": null,
            "grid_row": null,
            "grid_template_areas": null,
            "grid_template_columns": null,
            "grid_template_rows": null,
            "height": null,
            "justify_content": null,
            "justify_items": null,
            "left": null,
            "margin": null,
            "max_height": null,
            "max_width": null,
            "min_height": null,
            "min_width": null,
            "object_fit": null,
            "object_position": null,
            "order": null,
            "overflow": null,
            "overflow_x": null,
            "overflow_y": null,
            "padding": null,
            "right": null,
            "top": null,
            "visibility": null,
            "width": null
          }
        },
        "8abe43142a9d428e9c5d6ee646a2f43d": {
          "model_module": "@jupyter-widgets/controls",
          "model_module_version": "1.5.0",
          "model_name": "FloatProgressModel",
          "state": {
            "_dom_classes": [],
            "_model_module": "@jupyter-widgets/controls",
            "_model_module_version": "1.5.0",
            "_model_name": "FloatProgressModel",
            "_view_count": null,
            "_view_module": "@jupyter-widgets/controls",
            "_view_module_version": "1.5.0",
            "_view_name": "ProgressView",
            "bar_style": "success",
            "description": "",
            "description_tooltip": null,
            "layout": "IPY_MODEL_cfa17a727fbd49659275d42865ae2e14",
            "max": 570,
            "min": 0,
            "orientation": "horizontal",
            "style": "IPY_MODEL_57e9638c4c7e4ce0aebe1aefc4e0ac8b",
            "value": 570
          }
        },
        "9582204201c145499b0994afc0660950": {
          "model_module": "@jupyter-widgets/controls",
          "model_module_version": "1.5.0",
          "model_name": "HTMLModel",
          "state": {
            "_dom_classes": [],
            "_model_module": "@jupyter-widgets/controls",
            "_model_module_version": "1.5.0",
            "_model_name": "HTMLModel",
            "_view_count": null,
            "_view_module": "@jupyter-widgets/controls",
            "_view_module_version": "1.5.0",
            "_view_name": "HTMLView",
            "description": "",
            "description_tooltip": null,
            "layout": "IPY_MODEL_22225990f69d412ca1c457df9db022d6",
            "placeholder": "​",
            "style": "IPY_MODEL_aa264947583b4017970cce5ef3242482",
            "value": " 232k/232k [00:00&lt;00:00, 10.1MB/s]"
          }
        },
        "97a1c4142cb74def9e530d9d0538be6d": {
          "model_module": "@jupyter-widgets/base",
          "model_module_version": "1.2.0",
          "model_name": "LayoutModel",
          "state": {
            "_model_module": "@jupyter-widgets/base",
            "_model_module_version": "1.2.0",
            "_model_name": "LayoutModel",
            "_view_count": null,
            "_view_module": "@jupyter-widgets/base",
            "_view_module_version": "1.2.0",
            "_view_name": "LayoutView",
            "align_content": null,
            "align_items": null,
            "align_self": null,
            "border": null,
            "bottom": null,
            "display": null,
            "flex": null,
            "flex_flow": null,
            "grid_area": null,
            "grid_auto_columns": null,
            "grid_auto_flow": null,
            "grid_auto_rows": null,
            "grid_column": null,
            "grid_gap": null,
            "grid_row": null,
            "grid_template_areas": null,
            "grid_template_columns": null,
            "grid_template_rows": null,
            "height": null,
            "justify_content": null,
            "justify_items": null,
            "left": null,
            "margin": null,
            "max_height": null,
            "max_width": null,
            "min_height": null,
            "min_width": null,
            "object_fit": null,
            "object_position": null,
            "order": null,
            "overflow": null,
            "overflow_x": null,
            "overflow_y": null,
            "padding": null,
            "right": null,
            "top": null,
            "visibility": null,
            "width": null
          }
        },
        "97e03a5c8547412fbb3fa3e101b7b87f": {
          "model_module": "@jupyter-widgets/controls",
          "model_module_version": "1.5.0",
          "model_name": "FloatProgressModel",
          "state": {
            "_dom_classes": [],
            "_model_module": "@jupyter-widgets/controls",
            "_model_module_version": "1.5.0",
            "_model_name": "FloatProgressModel",
            "_view_count": null,
            "_view_module": "@jupyter-widgets/controls",
            "_view_module_version": "1.5.0",
            "_view_name": "ProgressView",
            "bar_style": "success",
            "description": "",
            "description_tooltip": null,
            "layout": "IPY_MODEL_24fe0595a6e0423e98c353acc5086a1f",
            "max": 231508,
            "min": 0,
            "orientation": "horizontal",
            "style": "IPY_MODEL_142138516479402a859d38268a10ddea",
            "value": 231508
          }
        },
        "9a2553bece90462fb9358708bf8e3e7b": {
          "model_module": "@jupyter-widgets/controls",
          "model_module_version": "1.5.0",
          "model_name": "DescriptionStyleModel",
          "state": {
            "_model_module": "@jupyter-widgets/controls",
            "_model_module_version": "1.5.0",
            "_model_name": "DescriptionStyleModel",
            "_view_count": null,
            "_view_module": "@jupyter-widgets/base",
            "_view_module_version": "1.2.0",
            "_view_name": "StyleView",
            "description_width": ""
          }
        },
        "9c9d0d97036446d992e1fc2e69e05590": {
          "model_module": "@jupyter-widgets/controls",
          "model_module_version": "1.5.0",
          "model_name": "HTMLModel",
          "state": {
            "_dom_classes": [],
            "_model_module": "@jupyter-widgets/controls",
            "_model_module_version": "1.5.0",
            "_model_name": "HTMLModel",
            "_view_count": null,
            "_view_module": "@jupyter-widgets/controls",
            "_view_module_version": "1.5.0",
            "_view_name": "HTMLView",
            "description": "",
            "description_tooltip": null,
            "layout": "IPY_MODEL_53f57048a6154bb48b48079f8ef34467",
            "placeholder": "​",
            "style": "IPY_MODEL_ce436d71677046d2b9ece4db88e10c65",
            "value": " 570/570 [00:00&lt;00:00, 49.7kB/s]"
          }
        },
        "aa264947583b4017970cce5ef3242482": {
          "model_module": "@jupyter-widgets/controls",
          "model_module_version": "1.5.0",
          "model_name": "DescriptionStyleModel",
          "state": {
            "_model_module": "@jupyter-widgets/controls",
            "_model_module_version": "1.5.0",
            "_model_name": "DescriptionStyleModel",
            "_view_count": null,
            "_view_module": "@jupyter-widgets/base",
            "_view_module_version": "1.2.0",
            "_view_name": "StyleView",
            "description_width": ""
          }
        },
        "b1e93ca7f673452781472a1223b2d42f": {
          "model_module": "@jupyter-widgets/controls",
          "model_module_version": "1.5.0",
          "model_name": "HTMLModel",
          "state": {
            "_dom_classes": [],
            "_model_module": "@jupyter-widgets/controls",
            "_model_module_version": "1.5.0",
            "_model_name": "HTMLModel",
            "_view_count": null,
            "_view_module": "@jupyter-widgets/controls",
            "_view_module_version": "1.5.0",
            "_view_name": "HTMLView",
            "description": "",
            "description_tooltip": null,
            "layout": "IPY_MODEL_26ed0f642f05423894c0657b7303cae9",
            "placeholder": "​",
            "style": "IPY_MODEL_40805ed0940345c192ab0be92b332b1c",
            "value": "tokenizer.json: 100%"
          }
        },
        "b4244d11946f4c7ab26de3142fca2c2a": {
          "model_module": "@jupyter-widgets/controls",
          "model_module_version": "1.5.0",
          "model_name": "HBoxModel",
          "state": {
            "_dom_classes": [],
            "_model_module": "@jupyter-widgets/controls",
            "_model_module_version": "1.5.0",
            "_model_name": "HBoxModel",
            "_view_count": null,
            "_view_module": "@jupyter-widgets/controls",
            "_view_module_version": "1.5.0",
            "_view_name": "HBoxView",
            "box_style": "",
            "children": [
              "IPY_MODEL_df661cca8a7e42388f7eb1e8416be21e",
              "IPY_MODEL_6a4ee3c82dc4467e99cbe3b96e267169",
              "IPY_MODEL_6ac3d91e10704091b13aec0ef0f4a5aa"
            ],
            "layout": "IPY_MODEL_ded3119b17e04ad78bc304c2f3d78100"
          }
        },
        "bcbf8ebf47de41598ebe15a506bfdecf": {
          "model_module": "@jupyter-widgets/base",
          "model_module_version": "1.2.0",
          "model_name": "LayoutModel",
          "state": {
            "_model_module": "@jupyter-widgets/base",
            "_model_module_version": "1.2.0",
            "_model_name": "LayoutModel",
            "_view_count": null,
            "_view_module": "@jupyter-widgets/base",
            "_view_module_version": "1.2.0",
            "_view_name": "LayoutView",
            "align_content": null,
            "align_items": null,
            "align_self": null,
            "border": null,
            "bottom": null,
            "display": null,
            "flex": null,
            "flex_flow": null,
            "grid_area": null,
            "grid_auto_columns": null,
            "grid_auto_flow": null,
            "grid_auto_rows": null,
            "grid_column": null,
            "grid_gap": null,
            "grid_row": null,
            "grid_template_areas": null,
            "grid_template_columns": null,
            "grid_template_rows": null,
            "height": null,
            "justify_content": null,
            "justify_items": null,
            "left": null,
            "margin": null,
            "max_height": null,
            "max_width": null,
            "min_height": null,
            "min_width": null,
            "object_fit": null,
            "object_position": null,
            "order": null,
            "overflow": null,
            "overflow_x": null,
            "overflow_y": null,
            "padding": null,
            "right": null,
            "top": null,
            "visibility": null,
            "width": null
          }
        },
        "be9d4209c38647608ae8482c4fa3eab5": {
          "model_module": "@jupyter-widgets/controls",
          "model_module_version": "1.5.0",
          "model_name": "HBoxModel",
          "state": {
            "_dom_classes": [],
            "_model_module": "@jupyter-widgets/controls",
            "_model_module_version": "1.5.0",
            "_model_name": "HBoxModel",
            "_view_count": null,
            "_view_module": "@jupyter-widgets/controls",
            "_view_module_version": "1.5.0",
            "_view_name": "HBoxView",
            "box_style": "",
            "children": [
              "IPY_MODEL_f91ad1a7dc304ff794fb77f190fd3a24",
              "IPY_MODEL_97e03a5c8547412fbb3fa3e101b7b87f",
              "IPY_MODEL_9582204201c145499b0994afc0660950"
            ],
            "layout": "IPY_MODEL_5d57ef02f723471597b786a71b63500a"
          }
        },
        "c54203dc234948c28dcc3ce92e148d73": {
          "model_module": "@jupyter-widgets/base",
          "model_module_version": "1.2.0",
          "model_name": "LayoutModel",
          "state": {
            "_model_module": "@jupyter-widgets/base",
            "_model_module_version": "1.2.0",
            "_model_name": "LayoutModel",
            "_view_count": null,
            "_view_module": "@jupyter-widgets/base",
            "_view_module_version": "1.2.0",
            "_view_name": "LayoutView",
            "align_content": null,
            "align_items": null,
            "align_self": null,
            "border": null,
            "bottom": null,
            "display": null,
            "flex": null,
            "flex_flow": null,
            "grid_area": null,
            "grid_auto_columns": null,
            "grid_auto_flow": null,
            "grid_auto_rows": null,
            "grid_column": null,
            "grid_gap": null,
            "grid_row": null,
            "grid_template_areas": null,
            "grid_template_columns": null,
            "grid_template_rows": null,
            "height": null,
            "justify_content": null,
            "justify_items": null,
            "left": null,
            "margin": null,
            "max_height": null,
            "max_width": null,
            "min_height": null,
            "min_width": null,
            "object_fit": null,
            "object_position": null,
            "order": null,
            "overflow": null,
            "overflow_x": null,
            "overflow_y": null,
            "padding": null,
            "right": null,
            "top": null,
            "visibility": null,
            "width": null
          }
        },
        "ce436d71677046d2b9ece4db88e10c65": {
          "model_module": "@jupyter-widgets/controls",
          "model_module_version": "1.5.0",
          "model_name": "DescriptionStyleModel",
          "state": {
            "_model_module": "@jupyter-widgets/controls",
            "_model_module_version": "1.5.0",
            "_model_name": "DescriptionStyleModel",
            "_view_count": null,
            "_view_module": "@jupyter-widgets/base",
            "_view_module_version": "1.2.0",
            "_view_name": "StyleView",
            "description_width": ""
          }
        },
        "cfa17a727fbd49659275d42865ae2e14": {
          "model_module": "@jupyter-widgets/base",
          "model_module_version": "1.2.0",
          "model_name": "LayoutModel",
          "state": {
            "_model_module": "@jupyter-widgets/base",
            "_model_module_version": "1.2.0",
            "_model_name": "LayoutModel",
            "_view_count": null,
            "_view_module": "@jupyter-widgets/base",
            "_view_module_version": "1.2.0",
            "_view_name": "LayoutView",
            "align_content": null,
            "align_items": null,
            "align_self": null,
            "border": null,
            "bottom": null,
            "display": null,
            "flex": null,
            "flex_flow": null,
            "grid_area": null,
            "grid_auto_columns": null,
            "grid_auto_flow": null,
            "grid_auto_rows": null,
            "grid_column": null,
            "grid_gap": null,
            "grid_row": null,
            "grid_template_areas": null,
            "grid_template_columns": null,
            "grid_template_rows": null,
            "height": null,
            "justify_content": null,
            "justify_items": null,
            "left": null,
            "margin": null,
            "max_height": null,
            "max_width": null,
            "min_height": null,
            "min_width": null,
            "object_fit": null,
            "object_position": null,
            "order": null,
            "overflow": null,
            "overflow_x": null,
            "overflow_y": null,
            "padding": null,
            "right": null,
            "top": null,
            "visibility": null,
            "width": null
          }
        },
        "ded3119b17e04ad78bc304c2f3d78100": {
          "model_module": "@jupyter-widgets/base",
          "model_module_version": "1.2.0",
          "model_name": "LayoutModel",
          "state": {
            "_model_module": "@jupyter-widgets/base",
            "_model_module_version": "1.2.0",
            "_model_name": "LayoutModel",
            "_view_count": null,
            "_view_module": "@jupyter-widgets/base",
            "_view_module_version": "1.2.0",
            "_view_name": "LayoutView",
            "align_content": null,
            "align_items": null,
            "align_self": null,
            "border": null,
            "bottom": null,
            "display": null,
            "flex": null,
            "flex_flow": null,
            "grid_area": null,
            "grid_auto_columns": null,
            "grid_auto_flow": null,
            "grid_auto_rows": null,
            "grid_column": null,
            "grid_gap": null,
            "grid_row": null,
            "grid_template_areas": null,
            "grid_template_columns": null,
            "grid_template_rows": null,
            "height": null,
            "justify_content": null,
            "justify_items": null,
            "left": null,
            "margin": null,
            "max_height": null,
            "max_width": null,
            "min_height": null,
            "min_width": null,
            "object_fit": null,
            "object_position": null,
            "order": null,
            "overflow": null,
            "overflow_x": null,
            "overflow_y": null,
            "padding": null,
            "right": null,
            "top": null,
            "visibility": null,
            "width": null
          }
        },
        "df661cca8a7e42388f7eb1e8416be21e": {
          "model_module": "@jupyter-widgets/controls",
          "model_module_version": "1.5.0",
          "model_name": "HTMLModel",
          "state": {
            "_dom_classes": [],
            "_model_module": "@jupyter-widgets/controls",
            "_model_module_version": "1.5.0",
            "_model_name": "HTMLModel",
            "_view_count": null,
            "_view_module": "@jupyter-widgets/controls",
            "_view_module_version": "1.5.0",
            "_view_name": "HTMLView",
            "description": "",
            "description_tooltip": null,
            "layout": "IPY_MODEL_56fc6cfab75142f8a0209473500b2a12",
            "placeholder": "​",
            "style": "IPY_MODEL_38e0d664921e4c36a04ccfd835c83822",
            "value": "tokenizer_config.json: 100%"
          }
        },
        "e193cd209fb748b19b18c074723301b4": {
          "model_module": "@jupyter-widgets/controls",
          "model_module_version": "1.5.0",
          "model_name": "ProgressStyleModel",
          "state": {
            "_model_module": "@jupyter-widgets/controls",
            "_model_module_version": "1.5.0",
            "_model_name": "ProgressStyleModel",
            "_view_count": null,
            "_view_module": "@jupyter-widgets/base",
            "_view_module_version": "1.2.0",
            "_view_name": "StyleView",
            "bar_color": null,
            "description_width": ""
          }
        },
        "e1befe85fddd4209b804999cfa2dbe35": {
          "model_module": "@jupyter-widgets/base",
          "model_module_version": "1.2.0",
          "model_name": "LayoutModel",
          "state": {
            "_model_module": "@jupyter-widgets/base",
            "_model_module_version": "1.2.0",
            "_model_name": "LayoutModel",
            "_view_count": null,
            "_view_module": "@jupyter-widgets/base",
            "_view_module_version": "1.2.0",
            "_view_name": "LayoutView",
            "align_content": null,
            "align_items": null,
            "align_self": null,
            "border": null,
            "bottom": null,
            "display": null,
            "flex": null,
            "flex_flow": null,
            "grid_area": null,
            "grid_auto_columns": null,
            "grid_auto_flow": null,
            "grid_auto_rows": null,
            "grid_column": null,
            "grid_gap": null,
            "grid_row": null,
            "grid_template_areas": null,
            "grid_template_columns": null,
            "grid_template_rows": null,
            "height": null,
            "justify_content": null,
            "justify_items": null,
            "left": null,
            "margin": null,
            "max_height": null,
            "max_width": null,
            "min_height": null,
            "min_width": null,
            "object_fit": null,
            "object_position": null,
            "order": null,
            "overflow": null,
            "overflow_x": null,
            "overflow_y": null,
            "padding": null,
            "right": null,
            "top": null,
            "visibility": null,
            "width": null
          }
        },
        "ec65c70288634f6290d22c8b77c6f75f": {
          "model_module": "@jupyter-widgets/controls",
          "model_module_version": "1.5.0",
          "model_name": "ProgressStyleModel",
          "state": {
            "_model_module": "@jupyter-widgets/controls",
            "_model_module_version": "1.5.0",
            "_model_name": "ProgressStyleModel",
            "_view_count": null,
            "_view_module": "@jupyter-widgets/base",
            "_view_module_version": "1.2.0",
            "_view_name": "StyleView",
            "bar_color": null,
            "description_width": ""
          }
        },
        "f29dccf32ac844b29effdb77f95d94fe": {
          "model_module": "@jupyter-widgets/base",
          "model_module_version": "1.2.0",
          "model_name": "LayoutModel",
          "state": {
            "_model_module": "@jupyter-widgets/base",
            "_model_module_version": "1.2.0",
            "_model_name": "LayoutModel",
            "_view_count": null,
            "_view_module": "@jupyter-widgets/base",
            "_view_module_version": "1.2.0",
            "_view_name": "LayoutView",
            "align_content": null,
            "align_items": null,
            "align_self": null,
            "border": null,
            "bottom": null,
            "display": null,
            "flex": null,
            "flex_flow": null,
            "grid_area": null,
            "grid_auto_columns": null,
            "grid_auto_flow": null,
            "grid_auto_rows": null,
            "grid_column": null,
            "grid_gap": null,
            "grid_row": null,
            "grid_template_areas": null,
            "grid_template_columns": null,
            "grid_template_rows": null,
            "height": null,
            "justify_content": null,
            "justify_items": null,
            "left": null,
            "margin": null,
            "max_height": null,
            "max_width": null,
            "min_height": null,
            "min_width": null,
            "object_fit": null,
            "object_position": null,
            "order": null,
            "overflow": null,
            "overflow_x": null,
            "overflow_y": null,
            "padding": null,
            "right": null,
            "top": null,
            "visibility": null,
            "width": null
          }
        },
        "f91ad1a7dc304ff794fb77f190fd3a24": {
          "model_module": "@jupyter-widgets/controls",
          "model_module_version": "1.5.0",
          "model_name": "HTMLModel",
          "state": {
            "_dom_classes": [],
            "_model_module": "@jupyter-widgets/controls",
            "_model_module_version": "1.5.0",
            "_model_name": "HTMLModel",
            "_view_count": null,
            "_view_module": "@jupyter-widgets/controls",
            "_view_module_version": "1.5.0",
            "_view_name": "HTMLView",
            "description": "",
            "description_tooltip": null,
            "layout": "IPY_MODEL_8912815d2636483a844b637c5470c422",
            "placeholder": "​",
            "style": "IPY_MODEL_020552fb765c4616ac078a7af5fb83f8",
            "value": "vocab.txt: 100%"
          }
        },
        "fb74275af8564890a7a81f10495c1489": {
          "model_module": "@jupyter-widgets/controls",
          "model_module_version": "1.5.0",
          "model_name": "HBoxModel",
          "state": {
            "_dom_classes": [],
            "_model_module": "@jupyter-widgets/controls",
            "_model_module_version": "1.5.0",
            "_model_name": "HBoxModel",
            "_view_count": null,
            "_view_module": "@jupyter-widgets/controls",
            "_view_module_version": "1.5.0",
            "_view_name": "HBoxView",
            "box_style": "",
            "children": [
              "IPY_MODEL_b1e93ca7f673452781472a1223b2d42f",
              "IPY_MODEL_5ae4b4909a8246fc8efc2e25633feb98",
              "IPY_MODEL_58d129803a88402190b0dc6890446ea5"
            ],
            "layout": "IPY_MODEL_e1befe85fddd4209b804999cfa2dbe35"
          }
        },
        "fc0c248fff1644728661e663bd707e5a": {
          "model_module": "@jupyter-widgets/base",
          "model_module_version": "1.2.0",
          "model_name": "LayoutModel",
          "state": {
            "_model_module": "@jupyter-widgets/base",
            "_model_module_version": "1.2.0",
            "_model_name": "LayoutModel",
            "_view_count": null,
            "_view_module": "@jupyter-widgets/base",
            "_view_module_version": "1.2.0",
            "_view_name": "LayoutView",
            "align_content": null,
            "align_items": null,
            "align_self": null,
            "border": null,
            "bottom": null,
            "display": null,
            "flex": null,
            "flex_flow": null,
            "grid_area": null,
            "grid_auto_columns": null,
            "grid_auto_flow": null,
            "grid_auto_rows": null,
            "grid_column": null,
            "grid_gap": null,
            "grid_row": null,
            "grid_template_areas": null,
            "grid_template_columns": null,
            "grid_template_rows": null,
            "height": null,
            "justify_content": null,
            "justify_items": null,
            "left": null,
            "margin": null,
            "max_height": null,
            "max_width": null,
            "min_height": null,
            "min_width": null,
            "object_fit": null,
            "object_position": null,
            "order": null,
            "overflow": null,
            "overflow_x": null,
            "overflow_y": null,
            "padding": null,
            "right": null,
            "top": null,
            "visibility": null,
            "width": null
          }
        },
        "ff93734236d341898384d1538a134caa": {
          "model_module": "@jupyter-widgets/controls",
          "model_module_version": "1.5.0",
          "model_name": "DescriptionStyleModel",
          "state": {
            "_model_module": "@jupyter-widgets/controls",
            "_model_module_version": "1.5.0",
            "_model_name": "DescriptionStyleModel",
            "_view_count": null,
            "_view_module": "@jupyter-widgets/base",
            "_view_module_version": "1.2.0",
            "_view_name": "StyleView",
            "description_width": ""
          }
        }
      }
    }
  },
  "nbformat": 4,
  "nbformat_minor": 5
}
